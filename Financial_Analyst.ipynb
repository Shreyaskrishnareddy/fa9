# 📓 Jupyter Notebook: Financial_Analyst.ipynb

**Notebook Overview:**
- Total Cells: 101
- Code Cells: 100
- Markdown Cells: 1

**Kernel:** Python 3

**Language:** python Unknown

## 📋 Notebook Content:

### 🔹 Code Cell 1 [Execution: 17]

```python
!pip install pandas
!pip install xbrl
!pip install beautifulsoup4 lxml
!pip install pymupdf
```

**Output:**
```
Requirement already satisfied: sec-edgar-downloader in /usr/local/lib/python3.11/dist-packages (5.0.3)
Requirement already satisfied: requests in /usr/local/lib/python3.11/dist-packages (from sec-edgar-downloader) (2.32.3)
Requirement already satisfied: pyrate-limiter>=3.6.0 in /usr/local/lib/python3.11/dist-packages (from sec-edgar-downloader) (3.7.1)
Requirement already satisfied: charset-normalizer<4,>=2 in /usr/local/lib/python3.11/dist-packages (from requests->sec-edgar-downloader) (3.4.2)
Requirement already satisfied: idna<4,>=2.5 in /usr/local/lib/python3.11/dist-packages (from requests->sec-edgar-downloader) (3.10)
Requirement already satisfied: urllib3<3,>=1.21.1 in /usr/local/lib/python3.11/dist-packages (from requests->sec-edgar-downloader) (2.4.0)
Requirement already satisfied: certifi>=2017.4.17 in /usr/local/lib/python3.11/dist-packages (from requests->sec-edgar-downloader) (2025.6.15)
Requirement already satisfied: pandas in /usr/local/lib/python3.11/dist-packages (2.2.2)
Requirement already satisfied: numpy>=1.23.2 in /usr/local/lib/python3.11/dist-packages (from pandas) (2.0.2)
Requirement already satisfied: python-dateutil>=2.8.2 in /usr/local/lib/python3.11/dist-packages (from pandas) (2.9.0.post0)
Requirement already satisfied: pytz>=2020.1 in /usr/local/lib/python3.11/dist-packages (from pandas) (2025.2)
Requirement already satisfied: tzdata>=2022.7 in /usr/local/lib/python3.11/dist-packages (from pandas) (2025.2)
Requirement already satisfied: six>=1.5 in /usr/local/lib/python3.11/dist-packages (from python-dateutil>=2.8.2->pandas) (1.17.0)
Requirement already satisfied: xbrl in /usr/local/lib/python3.11/dist-packages (0.0.1)
Requirement already satisfied: beautifulsoup4 in /usr/local/lib/python3.11/dist-packages (4.13.4)
Requirement already satisfied: lxml in /usr/local/lib/python3.11/dist-packages (5.4.0)
Requirement already satisfied: soupsieve>1.2 in /usr/local/lib/python3.11/dist-packages (from beautifulsoup4) (2.7)
Requirement already satisfied: typing-extensions>=4.0.0 in /usr/local/lib/python3.11/dist-packages (from beautifulsoup4) (4.14.0)
Requirement already satisfied: pymupdf in /usr/local/lib/python3.11/dist-packages (1.26.3)
```

---

### 🔹 Code Cell 2 [Execution: 31]

```python
!pip install beautifulsoup4 lxml
```

**Output:**
```
Requirement already satisfied: beautifulsoup4 in /usr/local/lib/python3.11/dist-packages (4.13.4)
Requirement already satisfied: lxml in /usr/local/lib/python3.11/dist-packages (5.4.0)
Requirement already satisfied: soupsieve>1.2 in /usr/local/lib/python3.11/dist-packages (from beautifulsoup4) (2.7)
Requirement already satisfied: typing-extensions>=4.0.0 in /usr/local/lib/python3.11/dist-packages (from beautifulsoup4) (4.14.0)
```

---

### 🔹 Code Cell 3 [Execution: 32]

```python
from bs4 import BeautifulSoup

# Load the HTML file
with open("/content/aapl-20230930.htm", "r", encoding="utf-8") as f:
    soup = BeautifulSoup(f, "lxml")

# Extract all text, using line breaks between tags
full_text = soup.get_text(separator="\n")

# Preview the first 1000 characters
print(full_text[:1000])
```

**Output:**
```
/tmp/ipython-input-32-273893766.py:5: XMLParsedAsHTMLWarning: It looks like you're using an HTML parser to parse an XML document.

Assuming this really is an XML document, what you're doing might work, but you should know that using an XML parser will be more reliable. To parse this document as XML, make sure you have the Python package 'lxml' installed, and pass the keyword argument `features="xml"` into the BeautifulSoup constructor.

If you want or need to use an HTML parser on this document, you can make this warning go away by filtering it. To do that, run this code before calling the BeautifulSoup constructor:

    from bs4 import XMLParsedAsHTMLWarning
    import warnings

    warnings.filterwarnings("ignore", category=XMLParsedAsHTMLWarning)

  soup = BeautifulSoup(f, "lxml")
aapl-20230930
false
2023
FY
0000320193
P1Y
67
P1Y
25
P1Y
7
1
http://fasb.org/us-gaap/2023#MarketableSecuritiesCurrent http://fasb.org/us-gaap/2023#MarketableSecuritiesNoncurrent
http://fasb.org/us-gaap/2023#MarketableSecuritiesCurrent http://fasb.org/us-gaap/2023#MarketableSecuritiesNoncurrent
http://fasb.org/us-gaap/2023#LongTermDebtCurrent http://fasb.org/us-gaap/2023#LongTermDebtNoncurrent
http://fasb.org/us-gaap/2023#LongTermDebtCurrent http://fasb.org/us-gaap/2023#LongTermDebtNoncurrent
http://fasb.org/us-gaap/2023#OtherAssetsNoncurrent
http://fasb.org/us-gaap/2023#OtherAssetsNoncurrent
http://fasb.org/us-gaap/2023#PropertyPlantAndEquipmentNet
http://fasb.org/us-gaap/2023#PropertyPlantAndEquipmentNet
http://fasb.org/us-gaap/2023#OtherLiabilitiesCurrent
http://fasb.org/us-gaap/2023#OtherLiabilitiesCurrent
http://fasb.org/us-gaap/2023#OtherLiabilitiesNoncurrent
http://fasb.org/us-gaap/2023#OtherLiabilitiesNoncurrent
http://fasb.org/us-gaap/2023#OtherLiabilitiesCurrent
http://fasb.
```

---

### 🔹 Code Cell 4 [Execution: 33]

```python
with open("/content/aapl-20230930.htm", "r", encoding="utf-8") as f:
    text_check = f.read()

print(text_check[:2000])
```

**Output:**
```
<?xml version="1.0" ?><!--XBRL Document Created with the Workiva Platform--><!--Copyright 2023 Workiva--><!--r:c68c2fd8-345e-4faa-8610-8b173d5da094,g:843081e3-ad04-4f75-a78c-e87ea3423788,d:1cb1ba018cb1455aa66bd3f9ab0c5b1a--><html xmlns:ix="http://www.xbrl.org/2013/inlineXBRL" xmlns:dei="http://xbrl.sec.gov/dei/2023" xmlns:ixt="http://www.xbrl.org/inlineXBRL/transformation/2020-02-12" xmlns:ixt-sec="http://www.sec.gov/inlineXBRL/transformation/2015-08-31" xmlns:aapl="http://www.apple.com/20230930" xmlns="http://www.w3.org/1999/xhtml" xmlns:link="http://www.xbrl.org/2003/linkbase" xmlns:srt="http://fasb.org/srt/2023" xmlns:xsi="http://www.w3.org/2001/XMLSchema-instance" xmlns:xlink="http://www.w3.org/1999/xlink" xmlns:country="http://xbrl.sec.gov/country/2023" xmlns:us-gaap="http://fasb.org/us-gaap/2023" xmlns:iso4217="http://www.xbrl.org/2003/iso4217" xmlns:xbrli="http://www.xbrl.org/2003/instance" xmlns:xbrldi="http://xbrl.org/2006/xbrldi" xmlns:ecd="http://xbrl.sec.gov/ecd/2023" xml:lang="en-US"><head><meta http-equiv="Content-Type" content="text/html"/>


<title>aapl-20230930</title></head><body><div style="display:none"><ix:header><ix:hidden><ix:nonNumeric contextRef="c-1" name="dei:AmendmentFlag" id="f-59">false</ix:nonNumeric><ix:nonNumeric contextRef="c-1" name="dei:DocumentFiscalYearFocus" id="f-60">2023</ix:nonNumeric><ix:nonNumeric contextRef="c-1" name="dei:DocumentFiscalPeriodFocus" id="f-61">FY</ix:nonNumeric><ix:nonNumeric contextRef="c-1" name="dei:EntityCentralIndexKey" id="f-62">0000320193</ix:nonNumeric><ix:nonNumeric contextRef="c-59" name="us-gaap:RevenueRemainingPerformanceObligationExpectedTimingOfSatisfactionPeriod1" id="f-397">P1Y</ix:nonNumeric><ix:nonFraction unitRef="number" contextRef="c-59" decimals="2" name="us-gaap:RevenueRemainingPerformanceObligationPercentage" scale="-2" id="f-398">67</ix:nonFraction><ix:nonNumeric contextRef="c-60" name="us-gaap:RevenueRemainingPerformanceObligationExpectedTimingOfSatisfactionPeriod1" id="f-399">P1Y
```

---

### 🔹 Code Cell 5 [Execution: 34]

```python
from bs4 import BeautifulSoup

soup = BeautifulSoup(text_check, "lxml")
full_text = soup.get_text(separator="\n")

print(full_text[:2000])
```

**Output:**
```
/tmp/ipython-input-34-1762387231.py:3: XMLParsedAsHTMLWarning: It looks like you're using an HTML parser to parse an XML document.

Assuming this really is an XML document, what you're doing might work, but you should know that using an XML parser will be more reliable. To parse this document as XML, make sure you have the Python package 'lxml' installed, and pass the keyword argument `features="xml"` into the BeautifulSoup constructor.

If you want or need to use an HTML parser on this document, you can make this warning go away by filtering it. To do that, run this code before calling the BeautifulSoup constructor:

    from bs4 import XMLParsedAsHTMLWarning
    import warnings

    warnings.filterwarnings("ignore", category=XMLParsedAsHTMLWarning)

  soup = BeautifulSoup(text_check, "lxml")
aapl-20230930
false
2023
FY
0000320193
P1Y
67
P1Y
25
P1Y
7
1
http://fasb.org/us-gaap/2023#MarketableSecuritiesCurrent http://fasb.org/us-gaap/2023#MarketableSecuritiesNoncurrent
http://fasb.org/us-gaap/2023#MarketableSecuritiesCurrent http://fasb.org/us-gaap/2023#MarketableSecuritiesNoncurrent
http://fasb.org/us-gaap/2023#LongTermDebtCurrent http://fasb.org/us-gaap/2023#LongTermDebtNoncurrent
http://fasb.org/us-gaap/2023#LongTermDebtCurrent http://fasb.org/us-gaap/2023#LongTermDebtNoncurrent
http://fasb.org/us-gaap/2023#OtherAssetsNoncurrent
http://fasb.org/us-gaap/2023#OtherAssetsNoncurrent
http://fasb.org/us-gaap/2023#PropertyPlantAndEquipmentNet
http://fasb.org/us-gaap/2023#PropertyPlantAndEquipmentNet
http://fasb.org/us-gaap/2023#OtherLiabilitiesCurrent
http://fasb.org/us-gaap/2023#OtherLiabilitiesCurrent
http://fasb.org/us-gaap/2023#OtherLiabilitiesNoncurrent
http://fasb.org/us-gaap/2023#OtherLiabilitiesNoncurrent
http://fasb.org/us-gaap/2023#OtherLiabilitiesCurrent
http://fasb.org/us-gaap/2023#OtherLiabilitiesCurrent
http://fasb.org/us-gaap/2023#OtherLiabilitiesNoncurrent
http://fasb.org/us-gaap/2023#OtherLiabilitiesNoncurrent
P412D
P473D
0000320193
2022-09-25
2023-09-30
0000320193
us-gaap:CommonStockMember
2022-09-25
2023-09-30
0000320193
aapl:A1.375NotesDue2024Member
2022-09-25
2023-09-30
0000320193
aapl:A0.000Notesdue2025Member
2022-09-25
2023-09-30
0000320193
aapl:A0.875NotesDue2025Member
2022-09-25
2023-09-30
0000320193
aapl:A1.625NotesDue2026Member
2022-09-25
2023-09-30
0000320193
aapl:A2.000NotesDue2027Member
2022-09-25
2023-09-30
0000320193
aapl:A1.375NotesDue2029Member
2022-09-25
2023-09-30
0000320193
aapl:A3.050NotesDue2029Member
2022-09-25
2023-09-30
0000320193
aapl:A0.500Notesdue2031Member
2022-09-25
2023-09-30
0000320193
aapl:A3.600NotesDue2042Member
2022-09-25
2023-09-30
0000320193
2023-03-31
iso4217:USD
0000320193
2023-10-20
xbrli:shares
0000320193
us-gaap:ProductMember
2022-09-25
2023-09-30
0000320193
us-gaap:ProductMember
2021-09-26
2022-09-
```

---

### 🔹 Code Cell 6 [Execution: 48]

```python
from lxml import etree

tree = etree.parse("/content/aapl-20230930_htm.xml")
root = tree.getroot()

facts = []

for elem in root.iter():
    if "us-gaap" in elem.tag:
        facts.append({
            "Tag": elem.tag,
            "Value": elem.text,
            "ContextRef": elem.attrib.get("contextRef", None),
            "UnitRef": elem.attrib.get("unitRef", None),
        })

print("Facts extracted:", len(facts))
```

**Output:**
```
Facts extracted: 1010
```

---

### 🔹 Code Cell 7 [Execution: 47]

```python
import pandas as pd

df_facts = pd.DataFrame(facts)
df_facts["Label"] = df_facts["Tag"].apply(lambda x: x.split("}")[1] if "}" in x else x)

print(df_facts.head(10))
```

**Output:**
```
Tag       Value ContextRef  \
0  {http://fasb.org/us-gaap/2023}RevenueRemaining...  2023-10-01       None   
1  {http://fasb.org/us-gaap/2023}RevenueRemaining...  2024-09-29       None   
2  {http://fasb.org/us-gaap/2023}RevenueRemaining...  2025-09-28       None   
3  {http://fasb.org/us-gaap/2023}RevenueRemaining...  2026-09-27       None   
4  {http://fasb.org/us-gaap/2023}RevenueRemaining...         P1Y       c-59   
5  {http://fasb.org/us-gaap/2023}RevenueRemaining...        0.67       c-59   
6  {http://fasb.org/us-gaap/2023}RevenueRemaining...         P1Y       c-60   
7  {http://fasb.org/us-gaap/2023}RevenueRemaining...        0.25       c-60   
8  {http://fasb.org/us-gaap/2023}RevenueRemaining...         P1Y       c-61   
9  {http://fasb.org/us-gaap/2023}RevenueRemaining...        0.07       c-61   

  UnitRef                                              Label  
0    None  RevenueRemainingPerformanceObligationExpectedT...  
1    None  RevenueRemainingPerformanceObligationExpectedT...  
2    None  RevenueRemainingPerformanceObligationExpectedT...  
3    None  RevenueRemainingPerformanceObligationExpectedT...  
4    None  RevenueRemainingPerformanceObligationExpectedT...  
5  number    RevenueRemainingPerformanceObligationPercentage  
6    None  RevenueRemainingPerformanceObligationExpectedT...  
7  number    RevenueRemainingPerformanceObligationPercentage  
8    None  RevenueRemainingPerformanceObligationExpectedT...  
9  number    RevenueRemainingPerformanceObligationPercentage
```

---

### 🔹 Code Cell 8 [Execution: 49]

```python
df_facts["NumericValue"] = pd.to_numeric(df_facts["Value"], errors="coerce")
```

---

### 🔹 Code Cell 9 [Execution: 50]

```python
print(df_facts["Label"].unique())
```

**Output:**
```
['RevenueRemainingPerformanceObligationExpectedTimingOfSatisfactionStartDateAxis.domain'
 'RevenueRemainingPerformanceObligationExpectedTimingOfSatisfactionPeriod1'
 'RevenueRemainingPerformanceObligationPercentage'
 'HedgedAssetStatementOfFinancialPositionExtensibleEnumeration'
 'HedgedLiabilityStatementOfFinancialPositionExtensibleEnumeration'
 'OperatingLeaseRightOfUseAssetStatementOfFinancialPositionExtensibleList'
 'FinanceLeaseRightOfUseAssetStatementOfFinancialPositionExtensibleList'
 'OperatingLeaseLiabilityCurrentStatementOfFinancialPositionExtensibleList'
 'OperatingLeaseLiabilityNoncurrentStatementOfFinancialPositionExtensibleList'
 'FinanceLeaseLiabilityCurrentStatementOfFinancialPositionExtensibleList'
 'FinanceLeaseLiabilityNoncurrentStatementOfFinancialPositionExtensibleList'
 'RevenueFromContractWithCustomerExcludingAssessedTax'
 'CostOfGoodsAndServicesSold' 'GrossProfit'
 'ResearchAndDevelopmentExpense' 'SellingGeneralAndAdministrativeExpense'
 'OperatingExpenses' 'OperatingIncomeLoss' 'NonoperatingIncomeExpense'
 'IncomeLossFromContinuingOperationsBeforeIncomeTaxesExtraordinaryItemsNoncontrollingInterest'
 'IncomeTaxExpenseBenefit' 'NetIncomeLoss' 'EarningsPerShareBasic'
 'EarningsPerShareDiluted' 'WeightedAverageNumberOfSharesOutstandingBasic'
 'WeightedAverageNumberOfDilutedSharesOutstanding'
 'OtherComprehensiveIncomeLossForeignCurrencyTransactionAndTranslationAdjustmentNetOfTax'
 'OtherComprehensiveIncomeUnrealizedHoldingGainLossOnSecuritiesArisingDuringPeriodNetOfTax'
 'OtherComprehensiveIncomeLossReclassificationAdjustmentFromAOCIForSaleOfSecuritiesNetOfTax'
 'OtherComprehensiveIncomeLossAvailableForSaleSecuritiesAdjustmentNetOfTax'
 'OtherComprehensiveIncomeLossNetOfTaxPortionAttributableToParent'
 'ComprehensiveIncomeNetOfTax' 'CashAndCashEquivalentsAtCarryingValue'
 'MarketableSecuritiesCurrent' 'AccountsReceivableNetCurrent'
 'NontradeReceivablesCurrent' 'InventoryNet' 'OtherAssetsCurrent'
 'AssetsCurrent' 'MarketableSecuritiesNoncurrent'
 'PropertyPlantAndEquipmentNet' 'OtherAssetsNoncurrent' 'AssetsNoncurrent'
 'Assets' 'AccountsPayableCurrent' 'OtherLiabilitiesCurrent'
 'ContractWithCustomerLiabilityCurrent' 'CommercialPaper'
 'LongTermDebtCurrent' 'LiabilitiesCurrent' 'LongTermDebtNoncurrent'
 'OtherLiabilitiesNoncurrent' 'LiabilitiesNoncurrent' 'Liabilities'
 'CommitmentsAndContingencies' 'CommonStockParOrStatedValuePerShare'
 'CommonStockSharesAuthorized' 'CommonStockSharesIssued'
 'CommonStockSharesOutstanding'
 'CommonStocksIncludingAdditionalPaidInCapital'
 'RetainedEarningsAccumulatedDeficit'
 'AccumulatedOtherComprehensiveIncomeLossNetOfTax' 'StockholdersEquity'
 'LiabilitiesAndStockholdersEquity'
 'StockIssuedDuringPeriodValueNewIssues'
 'AdjustmentsRelatedToTaxWithholdingForShareBasedCompensation'
 'AdjustmentsToAdditionalPaidInCapitalSharebasedCompensationRequisiteServicePeriodRecognitionValue'
 'Dividends' 'StockRepurchasedAndRetiredDuringPeriodValue'
 'CommonStockDividendsPerShareDeclared'
 'CashCashEquivalentsRestrictedCashAndRestrictedCashEquivalents'
 'DepreciationDepletionAndAmortization' 'ShareBasedCompensation'
 'OtherNoncashIncomeExpense' 'IncreaseDecreaseInAccountsReceivable'
 'IncreaseDecreaseInOtherReceivables' 'IncreaseDecreaseInInventories'
 'IncreaseDecreaseInOtherOperatingAssets'
 'IncreaseDecreaseInAccountsPayable'
 'IncreaseDecreaseInOtherOperatingLiabilities'
 'NetCashProvidedByUsedInOperatingActivities'
 'PaymentsToAcquireAvailableForSaleSecuritiesDebt'
 'ProceedsFromMaturitiesPrepaymentsAndCallsOfAvailableForSaleSecurities'
 'ProceedsFromSaleOfAvailableForSaleSecuritiesDebt'
 'PaymentsToAcquirePropertyPlantAndEquipment'
 'PaymentsForProceedsFromOtherInvestingActivities'
 'NetCashProvidedByUsedInInvestingActivities'
 'PaymentsRelatedToTaxWithholdingForShareBasedCompensation'
 'PaymentsOfDividends' 'PaymentsForRepurchaseOfCommonStock'
 'ProceedsFromIssuanceOfLongTermDebt' 'RepaymentsOfLongTermDebt'
 'ProceedsFromRepaymentsOfCommercialPaper'
 'ProceedsFromPaymentsForOtherFinancingActivities'
 'NetCashProvidedByUsedInFinancingActivities'
 'CashCashEquivalentsRestrictedCashAndRestrictedCashEquivalentsPeriodIncreaseDecreaseIncludingExchangeRateEffect'
 'IncomeTaxesPaidNet' 'InterestPaidNet'
 'BasisOfPresentationAndSignificantAccountingPoliciesTextBlock'
 'BasisOfAccountingPolicyPolicyTextBlock' 'FiscalPeriod'
 'RevenueRecognitionPolicyTextBlock'
 'CompensationRelatedCostsPolicyTextBlock'
 'CashAndCashEquivalentsPolicyTextBlock' 'MarketableSecuritiesPolicy'
 'InventoryPolicyTextBlock' 'PropertyPlantAndEquipmentPolicyTextBlock'
 'DerivativesPolicyTextBlock' 'IncomeTaxPolicyTextBlock'
 'LesseeLeasesPolicyTextBlock' 'RevenueFromContractWithCustomerTextBlock'
 'DisaggregationOfRevenueTableTextBlock'
 'ContractWithCustomerLiabilityRevenueRecognized'
 'ContractWithCustomerLiability' 'EarningsPerShareTextBlock'
 'ScheduleOfEarningsPerShareBasicAndDilutedTableTextBlock'
 'IncrementalCommonSharesAttributableToShareBasedPaymentArrangements'
 'AntidilutiveSecuritiesExcludedFromComputationOfEarningsPerShareAmount'
 'FinancialInstrumentsDisclosureTextBlock'
 'ScheduleOfCashCashEquivalentsAndShortTermInvestmentsTableTextBlock'
 'Cash' 'EquitySecuritiesFvNiCost'
 'EquitySecuritiesFvNiCurrentAndNoncurrent'
 'AvailableForSaleDebtSecuritiesAmortizedCostBasis'
 'AvailableForSaleDebtSecuritiesAccumulatedGrossUnrealizedGainBeforeTax'
 'AvailableForSaleDebtSecuritiesAccumulatedGrossUnrealizedLossBeforeTax'
 'AvailableForSaleSecuritiesDebtSecurities'
 'FairValueMeasurementPolicyPolicyTextBlock'
 'DebtSecuritiesAvailableForSaleRestricted'
 'InvestmentsClassifiedByContractualMaturityDateTableTextBlock'
 'AvailableForSaleSecuritiesDebtMaturitiesRollingYearTwoThroughFiveFairValue'
 'AvailableForSaleSecuritiesDebtMaturitiesRollingYearSixThroughTenFairValue'
 'AvailableForSaleSecuritiesDebtMaturitiesRollingAfterYearTenFairValue'
 'AvailableForSaleSecuritiesDebtMaturitiesSingleMaturityDate'
 'MaximumLengthOfTimeForeignCurrencyCashFlowHedge'
 'ScheduleOfNotionalAmountsOfOutstandingDerivativePositionsTableTextBlock'
 'DerivativeNotionalAmount'
 'ScheduleOfDerivativeInstrumentsInStatementOfFinancialPositionFairValueTextBlock'
 'DerivativeAssetFairValueGrossAssetIncludingNotSubjectToMasterNettingArrangement'
 'FairValueConcentrationOfRiskDerivativeFinancialInstrumentsAssets'
 'DerivativeLiabilityFairValueGrossLiabilityIncludingNotSubjectToMasterNettingArrangement'
 'DerivativeFairValueOfDerivativeNet'
 'ScheduleOfFairValueHedgingInstrumentsStatementsOfFinancialPerformanceAndFinancialPositionLocationTableTextBlock'
 'HedgedAssetFairValueHedge' 'HedgedLiabilityFairValueHedge'
 'ConcentrationRiskPercentage1'
 'PropertyPlantAndEquipmentDisclosureTextBlock'
 'PropertyPlantAndEquipmentTextBlock' 'PropertyPlantAndEquipmentGross'
 'AccumulatedDepreciationDepletionAndAmortizationPropertyPlantAndEquipment'
 'Depreciation' 'AdditionalFinancialInformationDisclosureTextBlock'
 'ScheduleOfOtherAssetsNoncurrentTextBlock' 'DeferredIncomeTaxAssetsNet'
 'OtherAssetsMiscellaneousNoncurrent'
 'OtherCurrentLiabilitiesTableTextBlock' 'AccruedIncomeTaxesCurrent'
 'OtherAccruedLiabilitiesCurrent'
 'OtherNoncurrentLiabilitiesTableTextBlock' 'AccruedIncomeTaxesNoncurrent'
 'OtherAccruedLiabilitiesNoncurrent'
 'InterestAndOtherIncomeTableTextBlock'
 'InvestmentIncomeInterestAndDividend' 'InterestExpense'
 'OtherNonoperatingIncomeExpense' 'IncomeTaxDisclosureTextBlock'
 'ScheduleOfComponentsOfIncomeTaxExpenseBenefitTableTextBlock'
 'CurrentFederalTaxExpenseBenefit'
 'DeferredFederalIncomeTaxExpenseBenefit'
 'FederalIncomeTaxExpenseBenefitContinuingOperations'
 'CurrentStateAndLocalTaxExpenseBenefit'
 'DeferredStateAndLocalIncomeTaxExpenseBenefit'
 'StateAndLocalIncomeTaxExpenseBenefitContinuingOperations'
 'CurrentForeignTaxExpenseBenefit'
 'DeferredForeignIncomeTaxExpenseBenefit'
 'ForeignIncomeTaxExpenseBenefitContinuingOperations'
 'IncomeLossFromContinuingOperationsBeforeIncomeTaxesForeign'
 'ScheduleOfEffectiveIncomeTaxRateReconciliationTableTextBlock'
 'EffectiveIncomeTaxRateReconciliationAtFederalStatutoryIncomeTaxRate'
 'IncomeTaxReconciliationIncomeTaxExpenseBenefitAtFederalStatutoryIncomeTaxRate'
 'IncomeTaxReconciliationStateAndLocalIncomeTaxes'
 'IncomeTaxReconciliationForeignIncomeTaxRateDifferential'
 'IncomeTaxReconciliationTaxCreditsResearch'
 'EffectiveIncomeTaxRateReconciliationShareBasedCompensationExcessTaxBenefitAmount'
 'EffectiveIncomeTaxRateReconciliationFdiiAmount'
 'IncomeTaxReconciliationOtherAdjustments'
 'EffectiveIncomeTaxRateContinuingOperations'
 'ScheduleOfDeferredTaxAssetsAndLiabilitiesTableTextBlock'
 'DeferredTaxAssetsTaxCreditCarryforwards'
 'DeferredTaxAssetsTaxDeferredExpenseReservesAndAccruals'
 'DeferredTaxAssetsDeferredIncome'
 'DeferredTaxAssetsOtherComprehensiveLoss' 'DeferredTaxAssetsOther'
 'DeferredTaxAssetsGross' 'DeferredTaxAssetsValuationAllowance'
 'DeferredTaxAssetsNet' 'DeferredTaxLiabilitiesLeasingArrangements'
 'DeferredTaxLiabilitiesPropertyPlantAndEquipment'
 'DeferredTaxLiabilitiesOtherComprehensiveIncome'
 'DeferredTaxLiabilitiesOther' 'DeferredIncomeTaxLiabilities'
 'DeferredTaxAssetsLiabilitiesNet'
 'DeferredTaxAssetsTaxCreditCarryforwardsForeign'
 'DeferredTaxAssetsTaxCreditCarryforwardsResearch'
 'UnrecognizedTaxBenefits'
 'UnrecognizedTaxBenefitsThatWouldImpactEffectiveTaxRate'
 'ScheduleOfUnrecognizedTaxBenefitsRollForwardTableTextBlock'
 'UnrecognizedTaxBenefitsIncreasesResultingFromPriorPeriodTaxPositions'
 'UnrecognizedTaxBenefitsDecreasesResultingFromPriorPeriodTaxPositions'
 'UnrecognizedTaxBenefitsIncreasesResultingFromCurrentPeriodTaxPositions'
 'UnrecognizedTaxBenefitsDecreasesResultingFromSettlementsWithTaxingAuthorities'
 'UnrecognizedTaxBenefitsReductionsResultingFromLapseOfApplicableStatuteOfLimitations'
 'DecreaseInUnrecognizedTaxBenefitsIsReasonablyPossible'
 'LossContingencyEstimateOfPossibleLoss' 'LesseeOperatingLeasesTextBlock'
 'LesseeFinanceLeasesTextBlock' 'OperatingLeaseCost' 'VariableLeaseCost'
 'OperatingLeasePayments' 'OperatingLeaseRightOfUseAsset'
 'FinanceLeaseRightOfUseAsset' 'OperatingLeaseLiabilityCurrent'
 'OperatingLeaseLiabilityNoncurrent' 'FinanceLeaseLiabilityCurrent'
 'FinanceLeaseLiabilityNoncurrent'
 'LesseeOperatingLeaseLiabilityMaturityTableTextBlock'
 'FinanceLeaseLiabilityMaturityTableTextBlock'
 'LesseeOperatingLeaseLiabilityPaymentsDueNextTwelveMonths'
 'FinanceLeaseLiabilityPaymentsDueNextTwelveMonths'
 'LesseeOperatingLeaseLiabilityPaymentsDueYearTwo'
 'FinanceLeaseLiabilityPaymentsDueYearTwo'
 'LesseeOperatingLeaseLiabilityPaymentsDueYearThree'
 'FinanceLeaseLiabilityPaymentsDueYearThree'
 'LesseeOperatingLeaseLiabilityPaymentsDueYearFour'
 'FinanceLeaseLiabilityPaymentsDueYearFour'
 'LesseeOperatingLeaseLiabilityPaymentsDueYearFive'
 'FinanceLeaseLiabilityPaymentsDueYearFive'
 'LesseeOperatingLeaseLiabilityPaymentsDueAfterYearFive'
 'FinanceLeaseLiabilityPaymentsDueAfterYearFive'
 'LesseeOperatingLeaseLiabilityPaymentsDue'
 'FinanceLeaseLiabilityPaymentsDue'
 'LesseeOperatingLeaseLiabilityUndiscountedExcessAmount'
 'FinanceLeaseLiabilityUndiscountedExcessAmount' 'OperatingLeaseLiability'
 'FinanceLeaseLiability' 'DebtDisclosureTextBlock' 'DebtInstrumentTerm'
 'ShortTermDebtWeightedAverageInterestRate'
 'ProceedsFromRepaymentsOfShortTermDebtMaturingInThreeMonthsOrLess'
 'ProceedsFromShortTermDebtMaturingInMoreThanThreeMonths'
 'RepaymentsOfShortTermDebtMaturingInMoreThanThreeMonths'
 'ProceedsFromRepaymentsOfShortTermDebtMaturingInMoreThanThreeMonths'
 'ScheduleOfDebtInstrumentsTextBlock'
 'DebtInstrumentInterestRateStatedPercentage'
 'DebtInstrumentCarryingAmount'
 'DebtInstrumentInterestRateEffectivePercentage'
 'DebtInstrumentUnamortizedDiscountPremiumAndDebtIssuanceCostsNet'
 'LongTermDebt' 'InterestCostsIncurred'
 'ScheduleOfMaturitiesOfLongTermDebtTableTextBlock'
 'LongTermDebtMaturitiesRepaymentsOfPrincipalInNextTwelveMonths'
 'LongTermDebtMaturitiesRepaymentsOfPrincipalInYearTwo'
 'LongTermDebtMaturitiesRepaymentsOfPrincipalInYearThree'
 'LongTermDebtMaturitiesRepaymentsOfPrincipalInYearFour'
 'LongTermDebtMaturitiesRepaymentsOfPrincipalInYearFive'
 'LongTermDebtMaturitiesRepaymentsOfPrincipalAfterYearFive'
 'LongTermDebtFairValue' 'StockholdersEquityNoteDisclosureTextBlock'
 'StockRepurchasedAndRetiredDuringPeriodShares'
 'ScheduleOfCommonStockOutstandingRollForwardTableTextBlock'
 'DisclosureOfCompensationRelatedCostsShareBasedPaymentsTextBlock'
 'ShareBasedCompensationArrangementByShareBasedPaymentAwardAwardVestingPeriod1'
 'ShareBasedCompensationArrangementByShareBasedPaymentAwardNumberOfSharesAuthorized'
 'ScheduleOfNonvestedRestrictedStockUnitsActivityTableTextBlock'
 'ShareBasedCompensationArrangementByShareBasedPaymentAwardEquityInstrumentsOtherThanOptionsNonvestedNumber'
 'ShareBasedCompensationArrangementByShareBasedPaymentAwardEquityInstrumentsOtherThanOptionsNonvestedWeightedAverageGrantDateFairValue'
 'ShareBasedCompensationArrangementByShareBasedPaymentAwardEquityInstrumentsOtherThanOptionsGrantsInPeriod'
 'ShareBasedCompensationArrangementByShareBasedPaymentAwardEquityInstrumentsOtherThanOptionsGrantsInPeriodWeightedAverageGrantDateFairValue'
 'ShareBasedCompensationArrangementByShareBasedPaymentAwardEquityInstrumentsOtherThanOptionsVestedInPeriod'
 'ShareBasedCompensationArrangementByShareBasedPaymentAwardEquityInstrumentsOtherThanOptionsVestedInPeriodWeightedAverageGrantDateFairValue'
 'ShareBasedCompensationArrangementByShareBasedPaymentAwardEquityInstrumentsOtherThanOptionsForfeitedInPeriod'
 'ShareBasedCompensationArrangementByShareBasedPaymentAwardEquityInstrumentsOtherThanOptionsForfeituresWeightedAverageGrantDateFairValue'
 'SharebasedCompensationArrangementBySharebasedPaymentAwardEquityInstrumentsOtherThanOptionsAggregateIntrinsicValueNonvested'
 'ShareBasedCompensationArrangementByShareBasedPaymentAwardEquityInstrumentsOtherThanOptionsVestedInPeriodTotalFairValue'
 'SharesPaidForTaxWithholdingForShareBasedCompensation'
 'ScheduleOfEmployeeServiceShareBasedCompensationAllocationOfRecognizedPeriodCostsTextBlock'
 'AllocatedShareBasedCompensationExpense'
 'EmployeeServiceShareBasedCompensationTaxBenefitFromCompensationExpense'
 'EmployeeServiceShareBasedCompensationNonvestedAwardsTotalCompensationCostNotYetRecognized'
 'EmployeeServiceShareBasedCompensationNonvestedAwardsTotalCompensationCostNotYetRecognizedPeriodForRecognition1'
 'CommitmentsAndContingenciesDisclosureTextBlock'
 'UnrecordedUnconditionalPurchaseObligationsDisclosureTextBlock'
 'UnrecordedUnconditionalPurchaseObligationBalanceOnFirstAnniversary'
 'UnrecordedUnconditionalPurchaseObligationBalanceOnSecondAnniversary'
 'UnrecordedUnconditionalPurchaseObligationBalanceOnThirdAnniversary'
 'UnrecordedUnconditionalPurchaseObligationBalanceOnFourthAnniversary'
 'UnrecordedUnconditionalPurchaseObligationBalanceOnFifthAnniversary'
 'UnrecordedUnconditionalPurchaseObligationDueAfterFiveYears'
 'UnrecordedUnconditionalPurchaseObligationBalanceSheetAmount'
 'SegmentReportingDisclosureTextBlock'
 'SegmentReportingPolicyPolicyTextBlock'
 'ScheduleOfSegmentReportingInformationBySegmentTextBlock'
 'ReconciliationOfOperatingProfitLossFromSegmentsToConsolidatedTextBlock'
 'OtherGeneralAndAdministrativeExpense'
 'ScheduleOfRevenuesFromExternalCustomersAndLongLivedAssetsByGeographicalAreasTableTextBlock'
 'NoncurrentAssets']
```

---

### 🔹 Code Cell 10 [Execution: 52]

```python
key_metrics = df_facts[df_facts["Label"].isin([
    "Revenue",
    "NetIncomeLoss",
    "Assets",
    "Liabilities",
    "CashAndCashEquivalentsAtCarryingValue",
    "EarningsPerShareBasic",
    "EarningsPerShareDiluted"
])]

print(key_metrics[["Label", "NumericValue"]])
```

**Output:**
```
Label  NumericValue
70                           NetIncomeLoss  9.699500e+10
71                           NetIncomeLoss  9.980300e+10
72                           NetIncomeLoss  9.468000e+10
73                   EarningsPerShareBasic  6.160000e+00
74                   EarningsPerShareBasic  6.150000e+00
..                                     ...           ...
520  CashAndCashEquivalentsAtCarryingValue  0.000000e+00
527  CashAndCashEquivalentsAtCarryingValue  0.000000e+00
534  CashAndCashEquivalentsAtCarryingValue  0.000000e+00
541  CashAndCashEquivalentsAtCarryingValue  2.171000e+09
544  CashAndCashEquivalentsAtCarryingValue  2.364600e+10

[61 rows x 2 columns]
```

---

### 🔹 Code Cell 11 [Execution: 54]

```python
summary = key_metrics.pivot_table(
    index="ContextRef",
    columns="Label",
    values="NumericValue",
    aggfunc="first"
).reset_index()

print(summary)
```

**Output:**
```
Label ContextRef        Assets  CashAndCashEquivalentsAtCarryingValue  \
0            c-1           NaN                                    NaN   
1           c-20           NaN                                    NaN   
2           c-21           NaN                                    NaN   
3           c-22  3.525830e+11                           2.996500e+10   
4           c-23  3.527550e+11                           2.364600e+10   
5           c-36           NaN                                    NaN   
6           c-37           NaN                                    NaN   
7           c-38           NaN                                    NaN   
8           c-64           NaN                           2.835900e+10   
9           c-65           NaN                           4.810000e+08   
10          c-66           NaN                           0.000000e+00   
11          c-67           NaN                           4.810000e+08   
12          c-68           NaN                           3.500000e+07   
13          c-69           NaN                           3.600000e+07   
14          c-70           NaN                           0.000000e+00   
15          c-71           NaN                           1.034000e+09   
16          c-72           NaN                           0.000000e+00   
17          c-73           NaN                           2.000000e+07   
18          c-74           NaN                           0.000000e+00   
19          c-75           NaN                           0.000000e+00   
20          c-76           NaN                           1.125000e+09   
21          c-77           NaN                           1.854600e+10   
22          c-78           NaN                           2.929000e+09   
23          c-79           NaN                           0.000000e+00   
24          c-80           NaN                           2.929000e+09   
25          c-81           NaN                           3.380000e+08   
26          c-82           NaN                           0.000000e+00   
27          c-83           NaN                           0.000000e+00   
28          c-84           NaN                           1.805000e+09   
29          c-85           NaN                           2.800000e+07   
30          c-86           NaN                           0.000000e+00   
31          c-87           NaN                           0.000000e+00   
32          c-88           NaN                           0.000000e+00   
33          c-89           NaN                           2.171000e+09   

Label  EarningsPerShareBasic  EarningsPerShareDiluted   Liabilities  \
0                       6.16                     6.13           NaN   
1                       6.15                     6.11           NaN   
2                       5.67                     5.61           NaN   
3                        NaN                      NaN  2.904370e+11   
4                        NaN                      NaN  3.020830e+11   
5                        NaN                      NaN           NaN   
6                        NaN                      NaN           NaN   
7                        NaN                      NaN           NaN   
8                        NaN                      NaN           NaN   
9                        NaN                      NaN           NaN   
10                       NaN                      NaN           NaN   
11                       NaN                      NaN           NaN   
12                       NaN                      NaN           NaN   
13                       NaN                      NaN           NaN   
14                       NaN                      NaN           NaN   
15                       NaN                      NaN           NaN   
16                       NaN                      NaN           NaN   
17                       NaN                      NaN           NaN   
18                       NaN                      NaN           NaN   
19                       NaN                      NaN           NaN   
20                       NaN                      NaN           NaN   
21                       NaN                      NaN           NaN   
22                       NaN                      NaN           NaN   
23                       NaN                      NaN           NaN   
24                       NaN                      NaN           NaN   
25                       NaN                      NaN           NaN   
26                       NaN                      NaN           NaN   
27                       NaN                      NaN           NaN   
28                       NaN                      NaN           NaN   
29                       NaN                      NaN           NaN   
30                       NaN                      NaN           NaN   
31                       NaN                      NaN           NaN   
32                       NaN                      NaN           NaN   
33                       NaN                      NaN           NaN   

Label  NetIncomeLoss  
0       9.699500e+10  
1       9.980300e+10  
2       9.468000e+10  
3                NaN  
4                NaN  
5       9.699500e+10  
6       9.980300e+10  
7       9.468000e+10  
8                NaN  
9                NaN  
10               NaN  
11               NaN  
12               NaN  
13               NaN  
14               NaN  
15               NaN  
16               NaN  
17               NaN  
18               NaN  
19               NaN  
20               NaN  
21               NaN  
22               NaN  
23               NaN  
24               NaN  
25               NaN  
26               NaN  
27               NaN  
28               NaN  
29               NaN  
30               NaN  
31               NaN  
32               NaN  
33               NaN
```

---

### 🔹 Code Cell 12 [Execution: 55]

```python
# Build context mapping
context_dates = {}

for context in root.iter("{http://www.xbrl.org/2003/instance}context"):
    context_id = context.attrib.get("id")
    period = context.find("{http://www.xbrl.org/2003/instance}period")
    if period is not None:
        end_date_elem = period.find("{http://www.xbrl.org/2003/instance}endDate")
        instant_elem = period.find("{http://www.xbrl.org/2003/instance}instant")
        if end_date_elem is not None:
            date_str = end_date_elem.text
        elif instant_elem is not None:
            date_str = instant_elem.text
        else:
            date_str = None
        context_dates[context_id] = date_str
```

---

### 🔹 Code Cell 13 [Execution: 56]

```python
facts = []

for elem in root.iter():
    if "us-gaap" in elem.tag:
        context_id = elem.attrib.get("contextRef", None)
        facts.append({
            "Tag": elem.tag,
            "Value": elem.text,
            "ContextRef": context_id,
            "UnitRef": elem.attrib.get("unitRef", None),
            "Period": context_dates.get(context_id, None)
        })
```

---

### 🔹 Code Cell 14 [Execution: 57]

```python
import pandas as pd

df_facts = pd.DataFrame(facts)
df_facts["Label"] = df_facts["Tag"].apply(lambda x: x.split("}")[1] if "}" in x else x)
```

---

### 🔹 Code Cell 15 [Execution: 59]

```python
df_facts["NumericValue"] = pd.to_numeric(df_facts["Value"], errors="coerce")
```

---

### 🔹 Code Cell 16 [Execution: 60]

```python
print(df_facts[["Label", "NumericValue", "Period"]].head(10))
```

**Output:**
```
Label  NumericValue      Period
0  RevenueRemainingPerformanceObligationExpectedT...           NaN        None
1  RevenueRemainingPerformanceObligationExpectedT...           NaN        None
2  RevenueRemainingPerformanceObligationExpectedT...           NaN        None
3  RevenueRemainingPerformanceObligationExpectedT...           NaN        None
4  RevenueRemainingPerformanceObligationExpectedT...           NaN  2023-09-30
5    RevenueRemainingPerformanceObligationPercentage          0.67  2023-09-30
6  RevenueRemainingPerformanceObligationExpectedT...           NaN  2023-09-30
7    RevenueRemainingPerformanceObligationPercentage          0.25  2023-09-30
8  RevenueRemainingPerformanceObligationExpectedT...           NaN  2023-09-30
9    RevenueRemainingPerformanceObligationPercentage          0.07  2023-09-30
```

---

### 🔹 Code Cell 17 [Execution: 61]

```python
numeric_facts = df_facts[df_facts["NumericValue"].notnull()].copy()
```

---

### 🔹 Code Cell 18 [Execution: 62]

```python
print("Total numeric facts:", len(numeric_facts))
```

**Output:**
```
Total numeric facts: 924
```

---

### 🔹 Code Cell 19 [Execution: 63]

```python
print(numeric_facts[["Label", "NumericValue", "Period"]].head(20))
```

**Output:**
```
Label  NumericValue  \
5     RevenueRemainingPerformanceObligationPercentage  6.700000e-01   
7     RevenueRemainingPerformanceObligationPercentage  2.500000e-01   
9     RevenueRemainingPerformanceObligationPercentage  7.000000e-02   
11    RevenueRemainingPerformanceObligationPercentage  1.000000e-02   
28  RevenueFromContractWithCustomerExcludingAssess...  2.980850e+11   
29  RevenueFromContractWithCustomerExcludingAssess...  3.161990e+11   
30  RevenueFromContractWithCustomerExcludingAssess...  2.973920e+11   
31  RevenueFromContractWithCustomerExcludingAssess...  8.520000e+10   
32  RevenueFromContractWithCustomerExcludingAssess...  7.812900e+10   
33  RevenueFromContractWithCustomerExcludingAssess...  6.842500e+10   
34  RevenueFromContractWithCustomerExcludingAssess...  3.832850e+11   
35  RevenueFromContractWithCustomerExcludingAssess...  3.943280e+11   
36  RevenueFromContractWithCustomerExcludingAssess...  3.658170e+11   
37                         CostOfGoodsAndServicesSold  1.892820e+11   
38                         CostOfGoodsAndServicesSold  2.014710e+11   
39                         CostOfGoodsAndServicesSold  1.922660e+11   
40                         CostOfGoodsAndServicesSold  2.485500e+10   
41                         CostOfGoodsAndServicesSold  2.207500e+10   
42                         CostOfGoodsAndServicesSold  2.071500e+10   
43                         CostOfGoodsAndServicesSold  2.141370e+11   

        Period  
5   2023-09-30  
7   2023-09-30  
9   2023-09-30  
11  2023-09-30  
28  2023-09-30  
29  2022-09-24  
30  2021-09-25  
31  2023-09-30  
32  2022-09-24  
33  2021-09-25  
34  2023-09-30  
35  2022-09-24  
36  2021-09-25  
37  2023-09-30  
38  2022-09-24  
39  2021-09-25  
40  2023-09-30  
41  2022-09-24  
42  2021-09-25  
43  2023-09-30
```

---

### 🔹 Code Cell 20 [Execution: 64]

```python
print(sorted(numeric_facts["Label"].unique()))
```

**Output:**
```
['AccountsPayableCurrent', 'AccountsReceivableNetCurrent', 'AccruedIncomeTaxesCurrent', 'AccruedIncomeTaxesNoncurrent', 'AccumulatedDepreciationDepletionAndAmortizationPropertyPlantAndEquipment', 'AccumulatedOtherComprehensiveIncomeLossNetOfTax', 'AdjustmentsRelatedToTaxWithholdingForShareBasedCompensation', 'AdjustmentsToAdditionalPaidInCapitalSharebasedCompensationRequisiteServicePeriodRecognitionValue', 'AllocatedShareBasedCompensationExpense', 'AntidilutiveSecuritiesExcludedFromComputationOfEarningsPerShareAmount', 'Assets', 'AssetsCurrent', 'AssetsNoncurrent', 'AvailableForSaleDebtSecuritiesAccumulatedGrossUnrealizedGainBeforeTax', 'AvailableForSaleDebtSecuritiesAccumulatedGrossUnrealizedLossBeforeTax', 'AvailableForSaleDebtSecuritiesAmortizedCostBasis', 'AvailableForSaleSecuritiesDebtMaturitiesRollingAfterYearTenFairValue', 'AvailableForSaleSecuritiesDebtMaturitiesRollingYearSixThroughTenFairValue', 'AvailableForSaleSecuritiesDebtMaturitiesRollingYearTwoThroughFiveFairValue', 'AvailableForSaleSecuritiesDebtMaturitiesSingleMaturityDate', 'AvailableForSaleSecuritiesDebtSecurities', 'Cash', 'CashAndCashEquivalentsAtCarryingValue', 'CashCashEquivalentsRestrictedCashAndRestrictedCashEquivalents', 'CashCashEquivalentsRestrictedCashAndRestrictedCashEquivalentsPeriodIncreaseDecreaseIncludingExchangeRateEffect', 'CommercialPaper', 'CommonStockDividendsPerShareDeclared', 'CommonStockParOrStatedValuePerShare', 'CommonStockSharesAuthorized', 'CommonStockSharesIssued', 'CommonStockSharesOutstanding', 'CommonStocksIncludingAdditionalPaidInCapital', 'ComprehensiveIncomeNetOfTax', 'ConcentrationRiskPercentage1', 'ContractWithCustomerLiability', 'ContractWithCustomerLiabilityCurrent', 'ContractWithCustomerLiabilityRevenueRecognized', 'CostOfGoodsAndServicesSold', 'CurrentFederalTaxExpenseBenefit', 'CurrentForeignTaxExpenseBenefit', 'CurrentStateAndLocalTaxExpenseBenefit', 'DebtInstrumentCarryingAmount', 'DebtInstrumentInterestRateEffectivePercentage', 'DebtInstrumentInterestRateStatedPercentage', 'DebtInstrumentUnamortizedDiscountPremiumAndDebtIssuanceCostsNet', 'DebtSecuritiesAvailableForSaleRestricted', 'DecreaseInUnrecognizedTaxBenefitsIsReasonablyPossible', 'DeferredFederalIncomeTaxExpenseBenefit', 'DeferredForeignIncomeTaxExpenseBenefit', 'DeferredIncomeTaxAssetsNet', 'DeferredIncomeTaxLiabilities', 'DeferredStateAndLocalIncomeTaxExpenseBenefit', 'DeferredTaxAssetsDeferredIncome', 'DeferredTaxAssetsGross', 'DeferredTaxAssetsLiabilitiesNet', 'DeferredTaxAssetsNet', 'DeferredTaxAssetsOther', 'DeferredTaxAssetsOtherComprehensiveLoss', 'DeferredTaxAssetsTaxCreditCarryforwards', 'DeferredTaxAssetsTaxCreditCarryforwardsForeign', 'DeferredTaxAssetsTaxCreditCarryforwardsResearch', 'DeferredTaxAssetsTaxDeferredExpenseReservesAndAccruals', 'DeferredTaxAssetsValuationAllowance', 'DeferredTaxLiabilitiesLeasingArrangements', 'DeferredTaxLiabilitiesOther', 'DeferredTaxLiabilitiesOtherComprehensiveIncome', 'DeferredTaxLiabilitiesPropertyPlantAndEquipment', 'Depreciation', 'DepreciationDepletionAndAmortization', 'DerivativeAssetFairValueGrossAssetIncludingNotSubjectToMasterNettingArrangement', 'DerivativeFairValueOfDerivativeNet', 'DerivativeLiabilityFairValueGrossLiabilityIncludingNotSubjectToMasterNettingArrangement', 'DerivativeNotionalAmount', 'Dividends', 'EarningsPerShareBasic', 'EarningsPerShareDiluted', 'EffectiveIncomeTaxRateContinuingOperations', 'EffectiveIncomeTaxRateReconciliationAtFederalStatutoryIncomeTaxRate', 'EffectiveIncomeTaxRateReconciliationFdiiAmount', 'EffectiveIncomeTaxRateReconciliationShareBasedCompensationExcessTaxBenefitAmount', 'EmployeeServiceShareBasedCompensationNonvestedAwardsTotalCompensationCostNotYetRecognized', 'EmployeeServiceShareBasedCompensationTaxBenefitFromCompensationExpense', 'EquitySecuritiesFvNiCost', 'EquitySecuritiesFvNiCurrentAndNoncurrent', 'FairValueConcentrationOfRiskDerivativeFinancialInstrumentsAssets', 'FederalIncomeTaxExpenseBenefitContinuingOperations', 'FinanceLeaseLiability', 'FinanceLeaseLiabilityCurrent', 'FinanceLeaseLiabilityNoncurrent', 'FinanceLeaseLiabilityPaymentsDue', 'FinanceLeaseLiabilityPaymentsDueAfterYearFive', 'FinanceLeaseLiabilityPaymentsDueNextTwelveMonths', 'FinanceLeaseLiabilityPaymentsDueYearFive', 'FinanceLeaseLiabilityPaymentsDueYearFour', 'FinanceLeaseLiabilityPaymentsDueYearThree', 'FinanceLeaseLiabilityPaymentsDueYearTwo', 'FinanceLeaseLiabilityUndiscountedExcessAmount', 'FinanceLeaseRightOfUseAsset', 'ForeignIncomeTaxExpenseBenefitContinuingOperations', 'GrossProfit', 'HedgedAssetFairValueHedge', 'HedgedLiabilityFairValueHedge', 'IncomeLossFromContinuingOperationsBeforeIncomeTaxesExtraordinaryItemsNoncontrollingInterest', 'IncomeLossFromContinuingOperationsBeforeIncomeTaxesForeign', 'IncomeTaxExpenseBenefit', 'IncomeTaxReconciliationForeignIncomeTaxRateDifferential', 'IncomeTaxReconciliationIncomeTaxExpenseBenefitAtFederalStatutoryIncomeTaxRate', 'IncomeTaxReconciliationOtherAdjustments', 'IncomeTaxReconciliationStateAndLocalIncomeTaxes', 'IncomeTaxReconciliationTaxCreditsResearch', 'IncomeTaxesPaidNet', 'IncreaseDecreaseInAccountsPayable', 'IncreaseDecreaseInAccountsReceivable', 'IncreaseDecreaseInInventories', 'IncreaseDecreaseInOtherOperatingAssets', 'IncreaseDecreaseInOtherOperatingLiabilities', 'IncreaseDecreaseInOtherReceivables', 'IncrementalCommonSharesAttributableToShareBasedPaymentArrangements', 'InterestCostsIncurred', 'InterestExpense', 'InterestPaidNet', 'InventoryNet', 'InvestmentIncomeInterestAndDividend', 'LesseeOperatingLeaseLiabilityPaymentsDue', 'LesseeOperatingLeaseLiabilityPaymentsDueAfterYearFive', 'LesseeOperatingLeaseLiabilityPaymentsDueNextTwelveMonths', 'LesseeOperatingLeaseLiabilityPaymentsDueYearFive', 'LesseeOperatingLeaseLiabilityPaymentsDueYearFour', 'LesseeOperatingLeaseLiabilityPaymentsDueYearThree', 'LesseeOperatingLeaseLiabilityPaymentsDueYearTwo', 'LesseeOperatingLeaseLiabilityUndiscountedExcessAmount', 'Liabilities', 'LiabilitiesAndStockholdersEquity', 'LiabilitiesCurrent', 'LiabilitiesNoncurrent', 'LongTermDebt', 'LongTermDebtCurrent', 'LongTermDebtFairValue', 'LongTermDebtMaturitiesRepaymentsOfPrincipalAfterYearFive', 'LongTermDebtMaturitiesRepaymentsOfPrincipalInNextTwelveMonths', 'LongTermDebtMaturitiesRepaymentsOfPrincipalInYearFive', 'LongTermDebtMaturitiesRepaymentsOfPrincipalInYearFour', 'LongTermDebtMaturitiesRepaymentsOfPrincipalInYearThree', 'LongTermDebtMaturitiesRepaymentsOfPrincipalInYearTwo', 'LongTermDebtNoncurrent', 'LossContingencyEstimateOfPossibleLoss', 'MarketableSecuritiesCurrent', 'MarketableSecuritiesNoncurrent', 'NetCashProvidedByUsedInFinancingActivities', 'NetCashProvidedByUsedInInvestingActivities', 'NetCashProvidedByUsedInOperatingActivities', 'NetIncomeLoss', 'NoncurrentAssets', 'NonoperatingIncomeExpense', 'NontradeReceivablesCurrent', 'OperatingExpenses', 'OperatingIncomeLoss', 'OperatingLeaseCost', 'OperatingLeaseLiability', 'OperatingLeaseLiabilityCurrent', 'OperatingLeaseLiabilityNoncurrent', 'OperatingLeasePayments', 'OperatingLeaseRightOfUseAsset', 'OtherAccruedLiabilitiesCurrent', 'OtherAccruedLiabilitiesNoncurrent', 'OtherAssetsCurrent', 'OtherAssetsMiscellaneousNoncurrent', 'OtherAssetsNoncurrent', 'OtherComprehensiveIncomeLossAvailableForSaleSecuritiesAdjustmentNetOfTax', 'OtherComprehensiveIncomeLossForeignCurrencyTransactionAndTranslationAdjustmentNetOfTax', 'OtherComprehensiveIncomeLossNetOfTaxPortionAttributableToParent', 'OtherComprehensiveIncomeLossReclassificationAdjustmentFromAOCIForSaleOfSecuritiesNetOfTax', 'OtherComprehensiveIncomeUnrealizedHoldingGainLossOnSecuritiesArisingDuringPeriodNetOfTax', 'OtherGeneralAndAdministrativeExpense', 'OtherLiabilitiesCurrent', 'OtherLiabilitiesNoncurrent', 'OtherNoncashIncomeExpense', 'OtherNonoperatingIncomeExpense', 'PaymentsForProceedsFromOtherInvestingActivities', 'PaymentsForRepurchaseOfCommonStock', 'PaymentsOfDividends', 'PaymentsRelatedToTaxWithholdingForShareBasedCompensation', 'PaymentsToAcquireAvailableForSaleSecuritiesDebt', 'PaymentsToAcquirePropertyPlantAndEquipment', 'ProceedsFromIssuanceOfLongTermDebt', 'ProceedsFromMaturitiesPrepaymentsAndCallsOfAvailableForSaleSecurities', 'ProceedsFromPaymentsForOtherFinancingActivities', 'ProceedsFromRepaymentsOfCommercialPaper', 'ProceedsFromRepaymentsOfShortTermDebtMaturingInMoreThanThreeMonths', 'ProceedsFromRepaymentsOfShortTermDebtMaturingInThreeMonthsOrLess', 'ProceedsFromSaleOfAvailableForSaleSecuritiesDebt', 'ProceedsFromShortTermDebtMaturingInMoreThanThreeMonths', 'PropertyPlantAndEquipmentGross', 'PropertyPlantAndEquipmentNet', 'RepaymentsOfLongTermDebt', 'RepaymentsOfShortTermDebtMaturingInMoreThanThreeMonths', 'ResearchAndDevelopmentExpense', 'RetainedEarningsAccumulatedDeficit', 'RevenueFromContractWithCustomerExcludingAssessedTax', 'RevenueRemainingPerformanceObligationPercentage', 'SellingGeneralAndAdministrativeExpense', 'ShareBasedCompensation', 'ShareBasedCompensationArrangementByShareBasedPaymentAwardEquityInstrumentsOtherThanOptionsForfeitedInPeriod', 'ShareBasedCompensationArrangementByShareBasedPaymentAwardEquityInstrumentsOtherThanOptionsForfeituresWeightedAverageGrantDateFairValue', 'ShareBasedCompensationArrangementByShareBasedPaymentAwardEquityInstrumentsOtherThanOptionsGrantsInPeriod', 'ShareBasedCompensationArrangementByShareBasedPaymentAwardEquityInstrumentsOtherThanOptionsGrantsInPeriodWeightedAverageGrantDateFairValue', 'ShareBasedCompensationArrangementByShareBasedPaymentAwardEquityInstrumentsOtherThanOptionsNonvestedNumber', 'ShareBasedCompensationArrangementByShareBasedPaymentAwardEquityInstrumentsOtherThanOptionsNonvestedWeightedAverageGrantDateFairValue', 'ShareBasedCompensationArrangementByShareBasedPaymentAwardEquityInstrumentsOtherThanOptionsVestedInPeriod', 'ShareBasedCompensationArrangementByShareBasedPaymentAwardEquityInstrumentsOtherThanOptionsVestedInPeriodTotalFairValue', 'ShareBasedCompensationArrangementByShareBasedPaymentAwardEquityInstrumentsOtherThanOptionsVestedInPeriodWeightedAverageGrantDateFairValue', 'ShareBasedCompensationArrangementByShareBasedPaymentAwardNumberOfSharesAuthorized', 'SharebasedCompensationArrangementBySharebasedPaymentAwardEquityInstrumentsOtherThanOptionsAggregateIntrinsicValueNonvested', 'SharesPaidForTaxWithholdingForShareBasedCompensation', 'ShortTermDebtWeightedAverageInterestRate', 'StateAndLocalIncomeTaxExpenseBenefitContinuingOperations', 'StockIssuedDuringPeriodValueNewIssues', 'StockRepurchasedAndRetiredDuringPeriodShares', 'StockRepurchasedAndRetiredDuringPeriodValue', 'StockholdersEquity', 'UnrecognizedTaxBenefits', 'UnrecognizedTaxBenefitsDecreasesResultingFromPriorPeriodTaxPositions', 'UnrecognizedTaxBenefitsDecreasesResultingFromSettlementsWithTaxingAuthorities', 'UnrecognizedTaxBenefitsIncreasesResultingFromCurrentPeriodTaxPositions', 'UnrecognizedTaxBenefitsIncreasesResultingFromPriorPeriodTaxPositions', 'UnrecognizedTaxBenefitsReductionsResultingFromLapseOfApplicableStatuteOfLimitations', 'UnrecognizedTaxBenefitsThatWouldImpactEffectiveTaxRate', 'UnrecordedUnconditionalPurchaseObligationBalanceOnFifthAnniversary', 'UnrecordedUnconditionalPurchaseObligationBalanceOnFirstAnniversary', 'UnrecordedUnconditionalPurchaseObligationBalanceOnFourthAnniversary', 'UnrecordedUnconditionalPurchaseObligationBalanceOnSecondAnniversary', 'UnrecordedUnconditionalPurchaseObligationBalanceOnThirdAnniversary', 'UnrecordedUnconditionalPurchaseObligationBalanceSheetAmount', 'UnrecordedUnconditionalPurchaseObligationDueAfterFiveYears', 'VariableLeaseCost', 'WeightedAverageNumberOfDilutedSharesOutstanding', 'WeightedAverageNumberOfSharesOutstandingBasic']
```

---

### 🔹 Code Cell 21 [Execution: 66]

```python
key_metrics = numeric_facts[
    numeric_facts["Label"].isin([
        "RevenueFromContractWithCustomerExcludingAssessedTax",
        "NetIncomeLoss",
        "Assets",
        "Liabilities",
        "CashAndCashEquivalentsAtCarryingValue",
        "EarningsPerShareBasic",
        "EarningsPerShareDiluted",
        "ResearchAndDevelopmentExpense",
        "OperatingIncomeLoss",
        "GrossProfit"
    ])
].copy()

print(key_metrics[["Label", "NumericValue", "Period"]])
```

**Output:**
```
Label  NumericValue  \
28   RevenueFromContractWithCustomerExcludingAssess...  2.980850e+11   
29   RevenueFromContractWithCustomerExcludingAssess...  3.161990e+11   
30   RevenueFromContractWithCustomerExcludingAssess...  2.973920e+11   
31   RevenueFromContractWithCustomerExcludingAssess...  8.520000e+10   
32   RevenueFromContractWithCustomerExcludingAssess...  7.812900e+10   
..                                                 ...           ...   
995  RevenueFromContractWithCustomerExcludingAssess...  1.722690e+11   
996  RevenueFromContractWithCustomerExcludingAssess...  1.636480e+11   
997  RevenueFromContractWithCustomerExcludingAssess...  3.832850e+11   
998  RevenueFromContractWithCustomerExcludingAssess...  3.943280e+11   
999  RevenueFromContractWithCustomerExcludingAssess...  3.658170e+11   

         Period  
28   2023-09-30  
29   2022-09-24  
30   2021-09-25  
31   2023-09-30  
32   2022-09-24  
..          ...  
995  2022-09-24  
996  2021-09-25  
997  2023-09-30  
998  2022-09-24  
999  2021-09-25  

[148 rows x 3 columns]
```

---

### 🔹 Code Cell 22 [Execution: 67]

```python
summary = key_metrics.pivot_table(
    index="Period",
    columns="Label",
    values="NumericValue",
    aggfunc="first"
).reset_index()

print(summary)
```

**Output:**
```
Label      Period        Assets  CashAndCashEquivalentsAtCarryingValue  \
0      2021-09-25           NaN                                    NaN   
1      2022-09-24  3.527550e+11                           2.364600e+10   
2      2023-09-30  3.525830e+11                           2.996500e+10   

Label  EarningsPerShareBasic  EarningsPerShareDiluted   GrossProfit  \
0                       5.67                     5.61  1.528360e+11   
1                       6.15                     6.11  1.707820e+11   
2                       6.16                     6.13  1.691480e+11   

Label   Liabilities  NetIncomeLoss  OperatingIncomeLoss  \
0               NaN   9.468000e+10         1.089490e+11   
1      3.020830e+11   9.980300e+10         1.194370e+11   
2      2.904370e+11   9.699500e+10         1.143010e+11   

Label  ResearchAndDevelopmentExpense  \
0                       2.191400e+10   
1                       2.625100e+10   
2                       2.991500e+10   

Label  RevenueFromContractWithCustomerExcludingAssessedTax  
0                                           2.973920e+11    
1                                           3.161990e+11    
2                                           2.980850e+11
```

---

### 🔹 Code Cell 23 [Execution: 68]

```python
summary.to_csv("/content/apple_summary.csv", index=False)
print("✅ Saved as apple_summary.csv")
```

**Output:**
```
✅ Saved as apple_summary.csv
```

---

### 🔹 Code Cell 24 [Execution: 69]

```python
!pip install plotly
```

**Output:**
```
Requirement already satisfied: plotly in /usr/local/lib/python3.11/dist-packages (5.24.1)
Requirement already satisfied: tenacity>=6.2.0 in /usr/local/lib/python3.11/dist-packages (from plotly) (8.5.0)
Requirement already satisfied: packaging in /usr/local/lib/python3.11/dist-packages (from plotly) (24.2)
```

---

### 🔹 Code Cell 25 [Execution: 3]

```python
import pandas as pd

summary = pd.read_csv("/content/apple_summary.csv")
print(summary)
```

**Output:**
```
Period        Assets  CashAndCashEquivalentsAtCarryingValue  \
0  2021-09-25           NaN                                    NaN   
1  2022-09-24  3.527550e+11                           2.364600e+10   
2  2023-09-30  3.525830e+11                           2.996500e+10   

   EarningsPerShareBasic  EarningsPerShareDiluted   GrossProfit   Liabilities  \
0                   5.67                     5.61  1.528360e+11           NaN   
1                   6.15                     6.11  1.707820e+11  3.020830e+11   
2                   6.16                     6.13  1.691480e+11  2.904370e+11   

   NetIncomeLoss  OperatingIncomeLoss  ResearchAndDevelopmentExpense  \
0   9.468000e+10         1.089490e+11                   2.191400e+10   
1   9.980300e+10         1.194370e+11                   2.625100e+10   
2   9.699500e+10         1.143010e+11                   2.991500e+10   

   RevenueFromContractWithCustomerExcludingAssessedTax  
0                                       2.973920e+11    
1                                       3.161990e+11    
2                                       2.980850e+11
```

---

### 🔹 Code Cell 26 [Execution: 4]

```python
import plotly.express as px

fig = px.bar(
    summary,
    x="Period",
    y="RevenueFromContractWithCustomerExcludingAssessedTax",
    title="Apple Revenue by Fiscal Year",
    labels={"RevenueFromContractWithCustomerExcludingAssessedTax": "Revenue (USD)"}
)
fig.show()
```

**Output:**
```
/usr/local/lib/python3.11/dist-packages/kaleido/__init__.py:14: UserWarning:



Warning: You have Plotly version 5.24.1, which is not compatible with this version of Kaleido (1.0.0).

This means that static image generation (e.g. `fig.write_image()`) will not work.

Please upgrade Plotly to version 6.1.1 or greater, or downgrade Kaleido to version 0.2.1.
<html>
<head><meta charset="utf-8" /></head>
<body>
    <div>            <script src="https://cdnjs.cloudflare.com/ajax/libs/mathjax/2.7.5/MathJax.js?config=TeX-AMS-MML_SVG"></script><script type="text/javascript">if (window.MathJax && window.MathJax.Hub && window.MathJax.Hub.Config) {window.MathJax.Hub.Config({SVG: {font: "STIX-Web"}});}</script>                <script type="text/javascript">window.PlotlyConfig = {MathJaxConfig: 'local'};</script>
        <script charset="utf-8" src="https://cdn.plot.ly/plotly-2.35.2.min.js"></script>                <div id="5f8185ea-0b2f-439e-b2f5-e2a4d63edf0e" class="plotly-graph-div" style="height:525px; width:100%;"></div>            <script type="text/javascript">                                    window.PLOTLYENV=window.PLOTLYENV || {};                                    if (document.getElementById("5f8185ea-0b2f-439e-b2f5-e2a4d63edf0e")) {                    Plotly.newPlot(                        "5f8185ea-0b2f-439e-b2f5-e2a4d63edf0e",                        [{"alignmentgroup":"True","hovertemplate":"Period=%{x}\u003cbr\u003eRevenue (USD)=%{y}\u003cextra\u003e\u003c\u002fextra\u003e","legendgroup":"","marker":{"color":"#636efa","pattern":{"shape":""}},"name":"","offsetgroup":"","orientation":"v","showlegend":false,"textposition":"auto","x":["2021-09-25","2022-09-24","2023-09-30"],"xaxis":"x","y":[297392000000.0,316199000000.0,298085000000.0],"yaxis":"y","type":"bar"}],                        {"template":{"data":{"histogram2dcontour":[{"type":"histogram2dcontour","colorbar":{"outlinewidth":0,"ticks":""},"colorscale":[[0.0,"#0d0887"],[0.1111111111111111,"#46039f"],[0.2222222222222222,"#7201a8"],[0.3333333333333333,"#9c179e"],[0.4444444444444444,"#bd3786"],[0.5555555555555556,"#d8576b"],[0.6666666666666666,"#ed7953"],[0.7777777777777778,"#fb9f3a"],[0.8888888888888888,"#fdca26"],[1.0,"#f0f921"]]}],"choropleth":[{"type":"choropleth","colorbar":{"outlinewidth":0,"ticks":""}}],"histogram2d":[{"type":"histogram2d","colorbar":{"outlinewidth":0,"ticks":""},"colorscale":[[0.0,"#0d0887"],[0.1111111111111111,"#46039f"],[0.2222222222222222,"#7201a8"],[0.3333333333333333,"#9c179e"],[0.4444444444444444,"#bd3786"],[0.5555555555555556,"#d8576b"],[0.6666666666666666,"#ed7953"],[0.7777777777777778,"#fb9f3a"],[0.8888888888888888,"#fdca26"],[1.0,"#f0f921"]]}],"heatmap":[{"type":"heatmap","colorbar":{"outlinewidth":0,"ticks":""},"colorscale":[[0.0,"#0d0887"],[0.1111111111111111,"#46039f"],[0.2222222222222222,"#7201a8"],[0.3333333333333333,"#9c179e"],[0.4444444444444444,"#bd3786"],[0.5555555555555556,"#d8576b"],[0.6666666666666666,"#ed7953"],[0.7777777777777778,"#fb9f3a"],[0.8888888888888888,"#fdca26"],[1.0,"#f0f921"]]}],"heatmapgl":[{"type":"heatmapgl","colorbar":{"outlinewidth":0,"ticks":""},"colorscale":[[0.0,"#0d0887"],[0.1111111111111111,"#46039f"],[0.2222222222222222,"#7201a8"],[0.3333333333333333,"#9c179e"],[0.4444444444444444,"#bd3786"],[0.5555555555555556,"#d8576b"],[0.6666666666666666,"#ed7953"],[0.7777777777777778,"#fb9f3a"],[0.8888888888888888,"#fdca26"],[1.0,"#f0f921"]]}],"contourcarpet":[{"type":"contourcarpet","colorbar":{"outlinewidth":0,"ticks":""}}],"contour":[{"type":"contour","colorbar":{"outlinewidth":0,"ticks":""},"colorscale":[[0.0,"#0d0887"],[0.1111111111111111,"#46039f"],[0.2222222222222222,"#7201a8"],[0.3333333333333333,"#9c179e"],[0.4444444444444444,"#bd3786"],[0.5555555555555556,"#d8576b"],[0.6666666666666666,"#ed7953"],[0.7777777777777778,"#fb9f3a"],[0.8888888888888888,"#fdca26"],[1.0,"#f0f921"]]}],"surface":[{"type":"surface","colorbar":{"outlinewidth":0,"ticks":""},"colorscale":[[0.0,"#0d0887"],[0.1111111111111111,"#46039f"],[0.2222222222222222,"#7201a8"],[0.3333333333333333,"#9c179e"],[0.4444444444444444,"#bd3786"],[0.5555555555555556,"#d8576b"],[0.6666666666666666,"#ed7953"],[0.7777777777777778,"#fb9f3a"],[0.8888888888888888,"#fdca26"],[1.0,"#f0f921"]]}],"mesh3d":[{"type":"mesh3d","colorbar":{"outlinewidth":0,"ticks":""}}],"scatter":[{"fillpattern":{"fillmode":"overlay","size":10,"solidity":0.2},"type":"scatter"}],"parcoords":[{"type":"parcoords","line":{"colorbar":{"outlinewidth":0,"ticks":""}}}],"scatterpolargl":[{"type":"scatterpolargl","marker":{"colorbar":{"outlinewidth":0,"ticks":""}}}],"bar":[{"error_x":{"color":"#2a3f5f"},"error_y":{"color":"#2a3f5f"},"marker":{"line":{"color":"#E5ECF6","width":0.5},"pattern":{"fillmode":"overlay","size":10,"solidity":0.2}},"type":"bar"}],"scattergeo":[{"type":"scattergeo","marker":{"colorbar":{"outlinewidth":0,"ticks":""}}}],"scatterpolar":[{"type":"scatterpolar","marker":{"colorbar":{"outlinewidth":0,"ticks":""}}}],"histogram":[{"marker":{"pattern":{"fillmode":"overlay","size":10,"solidity":0.2}},"type":"histogram"}],"scattergl":[{"type":"scattergl","marker":{"colorbar":{"outlinewidth":0,"ticks":""}}}],"scatter3d":[{"type":"scatter3d","line":{"colorbar":{"outlinewidth":0,"ticks":""}},"marker":{"colorbar":{"outlinewidth":0,"ticks":""}}}],"scattermapbox":[{"type":"scattermapbox","marker":{"colorbar":{"outlinewidth":0,"ticks":""}}}],"scatterternary":[{"type":"scatterternary","marker":{"colorbar":{"outlinewidth":0,"ticks":""}}}],"scattercarpet":[{"type":"scattercarpet","marker":{"colorbar":{"outlinewidth":0,"ticks":""}}}],"carpet":[{"aaxis":{"endlinecolor":"#2a3f5f","gridcolor":"white","linecolor":"white","minorgridcolor":"white","startlinecolor":"#2a3f5f"},"baxis":{"endlinecolor":"#2a3f5f","gridcolor":"white","linecolor":"white","minorgridcolor":"white","startlinecolor":"#2a3f5f"},"type":"carpet"}],"table":[{"cells":{"fill":{"color":"#EBF0F8"},"line":{"color":"white"}},"header":{"fill":{"color":"#C8D4E3"},"line":{"color":"white"}},"type":"table"}],"barpolar":[{"marker":{"line":{"color":"#E5ECF6","width":0.5},"pattern":{"fillmode":"overlay","size":10,"solidity":0.2}},"type":"barpolar"}],"pie":[{"automargin":true,"type":"pie"}]},"layout":{"autotypenumbers":"strict","colorway":["#636efa","#EF553B","#00cc96","#ab63fa","#FFA15A","#19d3f3","#FF6692","#B6E880","#FF97FF","#FECB52"],"font":{"color":"#2a3f5f"},"hovermode":"closest","hoverlabel":{"align":"left"},"paper_bgcolor":"white","plot_bgcolor":"#E5ECF6","polar":{"bgcolor":"#E5ECF6","angularaxis":{"gridcolor":"white","linecolor":"white","ticks":""},"radialaxis":{"gridcolor":"white","linecolor":"white","ticks":""}},"ternary":{"bgcolor":"#E5ECF6","aaxis":{"gridcolor":"white","linecolor":"white","ticks":""},"baxis":{"gridcolor":"white","linecolor":"white","ticks":""},"caxis":{"gridcolor":"white","linecolor":"white","ticks":""}},"coloraxis":{"colorbar":{"outlinewidth":0,"ticks":""}},"colorscale":{"sequential":[[0.0,"#0d0887"],[0.1111111111111111,"#46039f"],[0.2222222222222222,"#7201a8"],[0.3333333333333333,"#9c179e"],[0.4444444444444444,"#bd3786"],[0.5555555555555556,"#d8576b"],[0.6666666666666666,"#ed7953"],[0.7777777777777778,"#fb9f3a"],[0.8888888888888888,"#fdca26"],[1.0,"#f0f921"]],"sequentialminus":[[0.0,"#0d0887"],[0.1111111111111111,"#46039f"],[0.2222222222222222,"#7201a8"],[0.3333333333333333,"#9c179e"],[0.4444444444444444,"#bd3786"],[0.5555555555555556,"#d8576b"],[0.6666666666666666,"#ed7953"],[0.7777777777777778,"#fb9f3a"],[0.8888888888888888,"#fdca26"],[1.0,"#f0f921"]],"diverging":[[0,"#8e0152"],[0.1,"#c51b7d"],[0.2,"#de77ae"],[0.3,"#f1b6da"],[0.4,"#fde0ef"],[0.5,"#f7f7f7"],[0.6,"#e6f5d0"],[0.7,"#b8e186"],[0.8,"#7fbc41"],[0.9,"#4d9221"],[1,"#276419"]]},"xaxis":{"gridcolor":"white","linecolor":"white","ticks":"","title":{"standoff":15},"zerolinecolor":"white","automargin":true,"zerolinewidth":2},"yaxis":{"gridcolor":"white","linecolor":"white","ticks":"","title":{"standoff":15},"zerolinecolor":"white","automargin":true,"zerolinewidth":2},"scene":{"xaxis":{"backgroundcolor":"#E5ECF6","gridcolor":"white","linecolor":"white","showbackground":true,"ticks":"","zerolinecolor":"white","gridwidth":2},"yaxis":{"backgroundcolor":"#E5ECF6","gridcolor":"white","linecolor":"white","showbackground":true,"ticks":"","zerolinecolor":"white","gridwidth":2},"zaxis":{"backgroundcolor":"#E5ECF6","gridcolor":"white","linecolor":"white","showbackground":true,"ticks":"","zerolinecolor":"white","gridwidth":2}},"shapedefaults":{"line":{"color":"#2a3f5f"}},"annotationdefaults":{"arrowcolor":"#2a3f5f","arrowhead":0,"arrowwidth":1},"geo":{"bgcolor":"white","landcolor":"#E5ECF6","subunitcolor":"white","showland":true,"showlakes":true,"lakecolor":"white"},"title":{"x":0.05},"mapbox":{"style":"light"}}},"xaxis":{"anchor":"y","domain":[0.0,1.0],"title":{"text":"Period"}},"yaxis":{"anchor":"x","domain":[0.0,1.0],"title":{"text":"Revenue (USD)"}},"legend":{"tracegroupgap":0},"title":{"text":"Apple Revenue by Fiscal Year"},"barmode":"relative"},                        {"responsive": true}                    ).then(function(){
                            
var gd = document.getElementById('5f8185ea-0b2f-439e-b2f5-e2a4d63edf0e');
var x = new MutationObserver(function (mutations, observer) {{
        var display = window.getComputedStyle(gd).display;
        if (!display || display === 'none') {{
            console.log([gd, 'removed!']);
            Plotly.purge(gd);
            observer.disconnect();
        }}
}});

// Listen for the removal of the full notebook cells
var notebookContainer = gd.closest('#notebook-container');
if (notebookContainer) {{
    x.observe(notebookContainer, {childList: true});
}}

// Listen for the clearing of the current output cell
var outputEl = gd.closest('.output');
if (outputEl) {{
    x.observe(outputEl, {childList: true});
}}

                        })                };                            </script>        </div>
</body>
</html>
```

---

### 🔹 Code Cell 27 [Execution: 72]

```python
fig = px.line(
    summary,
    x="Period",
    y="NetIncomeLoss",
    title="Apple Net Income Over Time",
    markers=True,
    labels={"NetIncomeLoss": "Net Income (USD)"}
)
fig.show()
```

**Output:**
```
<html>
<head><meta charset="utf-8" /></head>
<body>
    <div>            <script src="https://cdnjs.cloudflare.com/ajax/libs/mathjax/2.7.5/MathJax.js?config=TeX-AMS-MML_SVG"></script><script type="text/javascript">if (window.MathJax && window.MathJax.Hub && window.MathJax.Hub.Config) {window.MathJax.Hub.Config({SVG: {font: "STIX-Web"}});}</script>                <script type="text/javascript">window.PlotlyConfig = {MathJaxConfig: 'local'};</script>
        <script charset="utf-8" src="https://cdn.plot.ly/plotly-2.35.2.min.js"></script>                <div id="a17f142b-db05-43df-a8ca-1a7d1f0120b8" class="plotly-graph-div" style="height:525px; width:100%;"></div>            <script type="text/javascript">                                    window.PLOTLYENV=window.PLOTLYENV || {};                                    if (document.getElementById("a17f142b-db05-43df-a8ca-1a7d1f0120b8")) {                    Plotly.newPlot(                        "a17f142b-db05-43df-a8ca-1a7d1f0120b8",                        [{"hovertemplate":"Period=%{x}\u003cbr\u003eNet Income (USD)=%{y}\u003cextra\u003e\u003c\u002fextra\u003e","legendgroup":"","line":{"color":"#636efa","dash":"solid"},"marker":{"symbol":"circle"},"mode":"lines+markers","name":"","orientation":"v","showlegend":false,"x":["2021-09-25","2022-09-24","2023-09-30"],"xaxis":"x","y":[94680000000.0,99803000000.0,96995000000.0],"yaxis":"y","type":"scatter"}],                        {"template":{"data":{"histogram2dcontour":[{"type":"histogram2dcontour","colorbar":{"outlinewidth":0,"ticks":""},"colorscale":[[0.0,"#0d0887"],[0.1111111111111111,"#46039f"],[0.2222222222222222,"#7201a8"],[0.3333333333333333,"#9c179e"],[0.4444444444444444,"#bd3786"],[0.5555555555555556,"#d8576b"],[0.6666666666666666,"#ed7953"],[0.7777777777777778,"#fb9f3a"],[0.8888888888888888,"#fdca26"],[1.0,"#f0f921"]]}],"choropleth":[{"type":"choropleth","colorbar":{"outlinewidth":0,"ticks":""}}],"histogram2d":[{"type":"histogram2d","colorbar":{"outlinewidth":0,"ticks":""},"colorscale":[[0.0,"#0d0887"],[0.1111111111111111,"#46039f"],[0.2222222222222222,"#7201a8"],[0.3333333333333333,"#9c179e"],[0.4444444444444444,"#bd3786"],[0.5555555555555556,"#d8576b"],[0.6666666666666666,"#ed7953"],[0.7777777777777778,"#fb9f3a"],[0.8888888888888888,"#fdca26"],[1.0,"#f0f921"]]}],"heatmap":[{"type":"heatmap","colorbar":{"outlinewidth":0,"ticks":""},"colorscale":[[0.0,"#0d0887"],[0.1111111111111111,"#46039f"],[0.2222222222222222,"#7201a8"],[0.3333333333333333,"#9c179e"],[0.4444444444444444,"#bd3786"],[0.5555555555555556,"#d8576b"],[0.6666666666666666,"#ed7953"],[0.7777777777777778,"#fb9f3a"],[0.8888888888888888,"#fdca26"],[1.0,"#f0f921"]]}],"heatmapgl":[{"type":"heatmapgl","colorbar":{"outlinewidth":0,"ticks":""},"colorscale":[[0.0,"#0d0887"],[0.1111111111111111,"#46039f"],[0.2222222222222222,"#7201a8"],[0.3333333333333333,"#9c179e"],[0.4444444444444444,"#bd3786"],[0.5555555555555556,"#d8576b"],[0.6666666666666666,"#ed7953"],[0.7777777777777778,"#fb9f3a"],[0.8888888888888888,"#fdca26"],[1.0,"#f0f921"]]}],"contourcarpet":[{"type":"contourcarpet","colorbar":{"outlinewidth":0,"ticks":""}}],"contour":[{"type":"contour","colorbar":{"outlinewidth":0,"ticks":""},"colorscale":[[0.0,"#0d0887"],[0.1111111111111111,"#46039f"],[0.2222222222222222,"#7201a8"],[0.3333333333333333,"#9c179e"],[0.4444444444444444,"#bd3786"],[0.5555555555555556,"#d8576b"],[0.6666666666666666,"#ed7953"],[0.7777777777777778,"#fb9f3a"],[0.8888888888888888,"#fdca26"],[1.0,"#f0f921"]]}],"surface":[{"type":"surface","colorbar":{"outlinewidth":0,"ticks":""},"colorscale":[[0.0,"#0d0887"],[0.1111111111111111,"#46039f"],[0.2222222222222222,"#7201a8"],[0.3333333333333333,"#9c179e"],[0.4444444444444444,"#bd3786"],[0.5555555555555556,"#d8576b"],[0.6666666666666666,"#ed7953"],[0.7777777777777778,"#fb9f3a"],[0.8888888888888888,"#fdca26"],[1.0,"#f0f921"]]}],"mesh3d":[{"type":"mesh3d","colorbar":{"outlinewidth":0,"ticks":""}}],"scatter":[{"fillpattern":{"fillmode":"overlay","size":10,"solidity":0.2},"type":"scatter"}],"parcoords":[{"type":"parcoords","line":{"colorbar":{"outlinewidth":0,"ticks":""}}}],"scatterpolargl":[{"type":"scatterpolargl","marker":{"colorbar":{"outlinewidth":0,"ticks":""}}}],"bar":[{"error_x":{"color":"#2a3f5f"},"error_y":{"color":"#2a3f5f"},"marker":{"line":{"color":"#E5ECF6","width":0.5},"pattern":{"fillmode":"overlay","size":10,"solidity":0.2}},"type":"bar"}],"scattergeo":[{"type":"scattergeo","marker":{"colorbar":{"outlinewidth":0,"ticks":""}}}],"scatterpolar":[{"type":"scatterpolar","marker":{"colorbar":{"outlinewidth":0,"ticks":""}}}],"histogram":[{"marker":{"pattern":{"fillmode":"overlay","size":10,"solidity":0.2}},"type":"histogram"}],"scattergl":[{"type":"scattergl","marker":{"colorbar":{"outlinewidth":0,"ticks":""}}}],"scatter3d":[{"type":"scatter3d","line":{"colorbar":{"outlinewidth":0,"ticks":""}},"marker":{"colorbar":{"outlinewidth":0,"ticks":""}}}],"scattermapbox":[{"type":"scattermapbox","marker":{"colorbar":{"outlinewidth":0,"ticks":""}}}],"scatterternary":[{"type":"scatterternary","marker":{"colorbar":{"outlinewidth":0,"ticks":""}}}],"scattercarpet":[{"type":"scattercarpet","marker":{"colorbar":{"outlinewidth":0,"ticks":""}}}],"carpet":[{"aaxis":{"endlinecolor":"#2a3f5f","gridcolor":"white","linecolor":"white","minorgridcolor":"white","startlinecolor":"#2a3f5f"},"baxis":{"endlinecolor":"#2a3f5f","gridcolor":"white","linecolor":"white","minorgridcolor":"white","startlinecolor":"#2a3f5f"},"type":"carpet"}],"table":[{"cells":{"fill":{"color":"#EBF0F8"},"line":{"color":"white"}},"header":{"fill":{"color":"#C8D4E3"},"line":{"color":"white"}},"type":"table"}],"barpolar":[{"marker":{"line":{"color":"#E5ECF6","width":0.5},"pattern":{"fillmode":"overlay","size":10,"solidity":0.2}},"type":"barpolar"}],"pie":[{"automargin":true,"type":"pie"}]},"layout":{"autotypenumbers":"strict","colorway":["#636efa","#EF553B","#00cc96","#ab63fa","#FFA15A","#19d3f3","#FF6692","#B6E880","#FF97FF","#FECB52"],"font":{"color":"#2a3f5f"},"hovermode":"closest","hoverlabel":{"align":"left"},"paper_bgcolor":"white","plot_bgcolor":"#E5ECF6","polar":{"bgcolor":"#E5ECF6","angularaxis":{"gridcolor":"white","linecolor":"white","ticks":""},"radialaxis":{"gridcolor":"white","linecolor":"white","ticks":""}},"ternary":{"bgcolor":"#E5ECF6","aaxis":{"gridcolor":"white","linecolor":"white","ticks":""},"baxis":{"gridcolor":"white","linecolor":"white","ticks":""},"caxis":{"gridcolor":"white","linecolor":"white","ticks":""}},"coloraxis":{"colorbar":{"outlinewidth":0,"ticks":""}},"colorscale":{"sequential":[[0.0,"#0d0887"],[0.1111111111111111,"#46039f"],[0.2222222222222222,"#7201a8"],[0.3333333333333333,"#9c179e"],[0.4444444444444444,"#bd3786"],[0.5555555555555556,"#d8576b"],[0.6666666666666666,"#ed7953"],[0.7777777777777778,"#fb9f3a"],[0.8888888888888888,"#fdca26"],[1.0,"#f0f921"]],"sequentialminus":[[0.0,"#0d0887"],[0.1111111111111111,"#46039f"],[0.2222222222222222,"#7201a8"],[0.3333333333333333,"#9c179e"],[0.4444444444444444,"#bd3786"],[0.5555555555555556,"#d8576b"],[0.6666666666666666,"#ed7953"],[0.7777777777777778,"#fb9f3a"],[0.8888888888888888,"#fdca26"],[1.0,"#f0f921"]],"diverging":[[0,"#8e0152"],[0.1,"#c51b7d"],[0.2,"#de77ae"],[0.3,"#f1b6da"],[0.4,"#fde0ef"],[0.5,"#f7f7f7"],[0.6,"#e6f5d0"],[0.7,"#b8e186"],[0.8,"#7fbc41"],[0.9,"#4d9221"],[1,"#276419"]]},"xaxis":{"gridcolor":"white","linecolor":"white","ticks":"","title":{"standoff":15},"zerolinecolor":"white","automargin":true,"zerolinewidth":2},"yaxis":{"gridcolor":"white","linecolor":"white","ticks":"","title":{"standoff":15},"zerolinecolor":"white","automargin":true,"zerolinewidth":2},"scene":{"xaxis":{"backgroundcolor":"#E5ECF6","gridcolor":"white","linecolor":"white","showbackground":true,"ticks":"","zerolinecolor":"white","gridwidth":2},"yaxis":{"backgroundcolor":"#E5ECF6","gridcolor":"white","linecolor":"white","showbackground":true,"ticks":"","zerolinecolor":"white","gridwidth":2},"zaxis":{"backgroundcolor":"#E5ECF6","gridcolor":"white","linecolor":"white","showbackground":true,"ticks":"","zerolinecolor":"white","gridwidth":2}},"shapedefaults":{"line":{"color":"#2a3f5f"}},"annotationdefaults":{"arrowcolor":"#2a3f5f","arrowhead":0,"arrowwidth":1},"geo":{"bgcolor":"white","landcolor":"#E5ECF6","subunitcolor":"white","showland":true,"showlakes":true,"lakecolor":"white"},"title":{"x":0.05},"mapbox":{"style":"light"}}},"xaxis":{"anchor":"y","domain":[0.0,1.0],"title":{"text":"Period"}},"yaxis":{"anchor":"x","domain":[0.0,1.0],"title":{"text":"Net Income (USD)"}},"legend":{"tracegroupgap":0},"title":{"text":"Apple Net Income Over Time"}},                        {"responsive": true}                    ).then(function(){
                            
var gd = document.getElementById('a17f142b-db05-43df-a8ca-1a7d1f0120b8');
var x = new MutationObserver(function (mutations, observer) {{
        var display = window.getComputedStyle(gd).display;
        if (!display || display === 'none') {{
            console.log([gd, 'removed!']);
            Plotly.purge(gd);
            observer.disconnect();
        }}
}});

// Listen for the removal of the full notebook cells
var notebookContainer = gd.closest('#notebook-container');
if (notebookContainer) {{
    x.observe(notebookContainer, {childList: true});
}}

// Listen for the clearing of the current output cell
var outputEl = gd.closest('.output');
if (outputEl) {{
    x.observe(outputEl, {childList: true});
}}

                        })                };                            </script>        </div>
</body>
</html>
```

---

### 🔹 Code Cell 28 [Execution: 5]

```python
!pip install langchain huggingface_hub
```

**Output:**
```
Requirement already satisfied: langchain in /usr/local/lib/python3.11/dist-packages (0.3.26)
Requirement already satisfied: huggingface_hub in /usr/local/lib/python3.11/dist-packages (0.33.1)
Requirement already satisfied: langchain-core<1.0.0,>=0.3.66 in /usr/local/lib/python3.11/dist-packages (from langchain) (0.3.67)
Requirement already satisfied: langchain-text-splitters<1.0.0,>=0.3.8 in /usr/local/lib/python3.11/dist-packages (from langchain) (0.3.8)
Requirement already satisfied: langsmith>=0.1.17 in /usr/local/lib/python3.11/dist-packages (from langchain) (0.4.4)
Requirement already satisfied: pydantic<3.0.0,>=2.7.4 in /usr/local/lib/python3.11/dist-packages (from langchain) (2.11.7)
Requirement already satisfied: SQLAlchemy<3,>=1.4 in /usr/local/lib/python3.11/dist-packages (from langchain) (2.0.41)
Requirement already satisfied: requests<3,>=2 in /usr/local/lib/python3.11/dist-packages (from langchain) (2.32.3)
Requirement already satisfied: PyYAML>=5.3 in /usr/local/lib/python3.11/dist-packages (from langchain) (6.0.2)
Requirement already satisfied: filelock in /usr/local/lib/python3.11/dist-packages (from huggingface_hub) (3.18.0)
Requirement already satisfied: fsspec>=2023.5.0 in /usr/local/lib/python3.11/dist-packages (from huggingface_hub) (2025.3.2)
Requirement already satisfied: packaging>=20.9 in /usr/local/lib/python3.11/dist-packages (from huggingface_hub) (24.2)
Requirement already satisfied: tqdm>=4.42.1 in /usr/local/lib/python3.11/dist-packages (from huggingface_hub) (4.67.1)
Requirement already satisfied: typing-extensions>=3.7.4.3 in /usr/local/lib/python3.11/dist-packages (from huggingface_hub) (4.14.0)
Requirement already satisfied: hf-xet<2.0.0,>=1.1.2 in /usr/local/lib/python3.11/dist-packages (from huggingface_hub) (1.1.5)
Requirement already satisfied: tenacity!=8.4.0,<10.0.0,>=8.1.0 in /usr/local/lib/python3.11/dist-packages (from langchain-core<1.0.0,>=0.3.66->langchain) (8.5.0)
Requirement already satisfied: jsonpatch<2.0,>=1.33 in /usr/local/lib/python3.11/dist-packages (from langchain-core<1.0.0,>=0.3.66->langchain) (1.33)
Requirement already satisfied: httpx<1,>=0.23.0 in /usr/local/lib/python3.11/dist-packages (from langsmith>=0.1.17->langchain) (0.28.1)
Requirement already satisfied: orjson<4.0.0,>=3.9.14 in /usr/local/lib/python3.11/dist-packages (from langsmith>=0.1.17->langchain) (3.10.18)
Requirement already satisfied: requests-toolbelt<2.0.0,>=1.0.0 in /usr/local/lib/python3.11/dist-packages (from langsmith>=0.1.17->langchain) (1.0.0)
Requirement already satisfied: zstandard<0.24.0,>=0.23.0 in /usr/local/lib/python3.11/dist-packages (from langsmith>=0.1.17->langchain) (0.23.0)
Requirement already satisfied: annotated-types>=0.6.0 in /usr/local/lib/python3.11/dist-packages (from pydantic<3.0.0,>=2.7.4->langchain) (0.7.0)
Requirement already satisfied: pydantic-core==2.33.2 in /usr/local/lib/python3.11/dist-packages (from pydantic<3.0.0,>=2.7.4->langchain) (2.33.2)
Requirement already satisfied: typing-inspection>=0.4.0 in /usr/local/lib/python3.11/dist-packages (from pydantic<3.0.0,>=2.7.4->langchain) (0.4.1)
Requirement already satisfied: charset-normalizer<4,>=2 in /usr/local/lib/python3.11/dist-packages (from requests<3,>=2->langchain) (3.4.2)
Requirement already satisfied: idna<4,>=2.5 in /usr/local/lib/python3.11/dist-packages (from requests<3,>=2->langchain) (3.10)
Requirement already satisfied: urllib3<3,>=1.21.1 in /usr/local/lib/python3.11/dist-packages (from requests<3,>=2->langchain) (2.4.0)
Requirement already satisfied: certifi>=2017.4.17 in /usr/local/lib/python3.11/dist-packages (from requests<3,>=2->langchain) (2025.6.15)
Requirement already satisfied: greenlet>=1 in /usr/local/lib/python3.11/dist-packages (from SQLAlchemy<3,>=1.4->langchain) (3.2.3)
Requirement already satisfied: anyio in /usr/local/lib/python3.11/dist-packages (from httpx<1,>=0.23.0->langsmith>=0.1.17->langchain) (4.9.0)
Requirement already satisfied: httpcore==1.* in /usr/local/lib/python3.11/dist-packages (from httpx<1,>=0.23.0->langsmith>=0.1.17->langchain) (1.0.9)
Requirement already satisfied: h11>=0.16 in /usr/local/lib/python3.11/dist-packages (from httpcore==1.*->httpx<1,>=0.23.0->langsmith>=0.1.17->langchain) (0.16.0)
Requirement already satisfied: jsonpointer>=1.9 in /usr/local/lib/python3.11/dist-packages (from jsonpatch<2.0,>=1.33->langchain-core<1.0.0,>=0.3.66->langchain) (3.0.0)
Requirement already satisfied: sniffio>=1.1 in /usr/local/lib/python3.11/dist-packages (from anyio->httpx<1,>=0.23.0->langsmith>=0.1.17->langchain) (1.3.1)
```

---

### 🔹 Code Cell 29 [Execution: 15]

```python
from langchain_community.llms import HuggingFaceHub

llm = HuggingFaceHub(
    repo_id="mistralai/Mistral-7B-Instruct-v0.2",
    model_kwargs={"temperature": 0.2, "max_new_tokens": 300},
    huggingfacehub_api_token = "YOUR_TOKEN_HERE"
)
```

---

### 🔹 Code Cell 30 [Execution: 21]

```python
from langchain_experimental.agents import create_pandas_dataframe_agent

agent = create_pandas_dataframe_agent(
    llm,
    summary,  # Your summary DataFrame
    verbose=True,
    allow_dangerous_code=True
)
```

---

### 🔹 Code Cell 31 [Execution: 22]

```python
response = agent.run("What was Apple's revenue in 2023?")
print(response)
```

**Output:**
```
[1m> Entering new AgentExecutor chain...[0m
/tmp/ipython-input-22-3664992454.py:1: LangChainDeprecationWarning:

The method `Chain.run` was deprecated in langchain 0.1.0 and will be removed in 1.0. Use :meth:`~invoke` instead.
[0;31m---------------------------------------------------------------------------[0m
[0;31mAttributeError[0m                            Traceback (most recent call last)
[0;32m/tmp/ipython-input-22-3664992454.py[0m in [0;36m<cell line: 0>[0;34m()[0m
[0;32m----> 1[0;31m [0mresponse[0m [0;34m=[0m [0magent[0m[0;34m.[0m[0mrun[0m[0;34m([0m[0;34m"What was Apple's revenue in 2023?"[0m[0;34m)[0m[0;34m[0m[0;34m[0m[0m
[0m[1;32m      2[0m [0mprint[0m[0;34m([0m[0mresponse[0m[0;34m)[0m[0;34m[0m[0;34m[0m[0m

[0;32m/usr/local/lib/python3.11/dist-packages/langchain_core/_api/deprecation.py[0m in [0;36mwarning_emitting_wrapper[0;34m(*args, **kwargs)[0m
[1;32m    187[0m                 [0mwarned[0m [0;34m=[0m [0;32mTrue[0m[0;34m[0m[0;34m[0m[0m
[1;32m    188[0m                 [0memit_warning[0m[0;34m([0m[0;34m)[0m[0;34m[0m[0;34m[0m[0m
[0;32m--> 189[0;31m             [0;32mreturn[0m [0mwrapped[0m[0;34m([0m[0;34m*[0m[0margs[0m[0;34m,[0m [0;34m**[0m[0mkwargs[0m[0;34m)[0m[0;34m[0m[0;34m[0m[0m
[0m[1;32m    190[0m [0;34m[0m[0m
[1;32m    191[0m         [0;32masync[0m [0;32mdef[0m [0mawarning_emitting_wrapper[0m[0;34m([0m[0;34m*[0m[0margs[0m[0;34m:[0m [0mAny[0m[0;34m,[0m [0;34m**[0m[0mkwargs[0m[0;34m:[0m [0mAny[0m[0;34m)[0m [0;34m->[0m [0mAny[0m[0;34m:[0m[0;34m[0m[0;34m[0m[0m

[0;32m/usr/local/lib/python3.11/dist-packages/langchain/chains/base.py[0m in [0;36mrun[0;34m(self, callbacks, tags, metadata, *args, **kwargs)[0m
[1;32m    601[0m             [0;32mif[0m [0mlen[0m[0;34m([0m[0margs[0m[0;34m)[0m [0;34m!=[0m [0;36m1[0m[0;34m:[0m[0;34m[0m[0;34m[0m[0m
[1;32m    602[0m                 [0;32mraise[0m [0mValueError[0m[0;34m([0m[0;34m"`run` supports only one positional argument."[0m[0;34m)[0m[0;34m[0m[0;34m[0m[0m
[0;32m--> 603[0;31m             return self(args[0], callbacks=callbacks, tags=tags, metadata=metadata)[
[0m[1;32m    604[0m                 [0m_output_key[0m[0;34m[0m[0;34m[0m[0m
[1;32m    605[0m             ]

[0;32m/usr/local/lib/python3.11/dist-packages/langchain_core/_api/deprecation.py[0m in [0;36mwarning_emitting_wrapper[0;34m(*args, **kwargs)[0m
[1;32m    187[0m                 [0mwarned[0m [0;34m=[0m [0;32mTrue[0m[0;34m[0m[0;34m[0m[0m
[1;32m    188[0m                 [0memit_warning[0m[0;34m([0m[0;34m)[0m[0;34m[0m[0;34m[0m[0m
[0;32m--> 189[0;31m             [0;32mreturn[0m [0mwrapped[0m[0;34m([0m[0;34m*[0m[0margs[0m[0;34m,[0m [0;34m**[0m[0mkwargs[0m[0;34m)[0m[0;34m[0m[0;34m[0m[0m
[0m[1;32m    190[0m [0;34m[0m[0m
[1;32m    191[0m         [0;32masync[0m [0;32mdef[0m [0mawarning_emitting_wrapper[0m[0;34m([0m[0;34m*[0m[0margs[0m[0;34m:[0m [0mAny[0m[0;34m,[0m [0;34m**[0m[0mkwargs[0m[0;34m:[0m [0mAny[0m[0;34m)[0m [0;34m->[0m [0mAny[0m[0;34m:[0m[0;34m[0m[0;34m[0m[0m

[0;32m/usr/local/lib/python3.11/dist-packages/langchain/chains/base.py[0m in [0;36m__call__[0;34m(self, inputs, return_only_outputs, callbacks, tags, metadata, run_name, include_run_info)[0m
[1;32m    384[0m         }
[1;32m    385[0m [0;34m[0m[0m
[0;32m--> 386[0;31m         return self.invoke(
[0m[1;32m    387[0m             [0minputs[0m[0;34m,[0m[0;34m[0m[0;34m[0m[0m
[1;32m    388[0m             [0mcast[0m[0;34m([0m[0mRunnableConfig[0m[0;34m,[0m [0;34m{[0m[0mk[0m[0;34m:[0m [0mv[0m [0;32mfor[0m [0mk[0m[0;34m,[0m [0mv[0m [0;32min[0m [0mconfig[0m[0;34m.[0m[0mitems[0m[0;34m([0m[0;34m)[0m [0;32mif[0m [0mv[0m [0;32mis[0m [0;32mnot[0m [0;32mNone[0m[0;34m}[0m[0;34m)[0m[0;34m,[0m[0;34m[0m[0;34m[0m[0m

[0;32m/usr/local/lib/python3.11/dist-packages/langchain/chains/base.py[0m in [0;36minvoke[0;34m(self, input, config, **kwargs)[0m
[1;32m    165[0m         [0;32mexcept[0m [0mBaseException[0m [0;32mas[0m [0me[0m[0;34m:[0m[0;34m[0m[0;34m[0m[0m
[1;32m    166[0m             [0mrun_manager[0m[0;34m.[0m[0mon_chain_error[0m[0;34m([0m[0me[0m[0;34m)[0m[0;34m[0m[0;34m[0m[0m
[0;32m--> 167[0;31m             [0;32mraise[0m [0me[0m[0;34m[0m[0;34m[0m[0m
[0m[1;32m    168[0m         [0mrun_manager[0m[0;34m.[0m[0mon_chain_end[0m[0;34m([0m[0moutputs[0m[0;34m)[0m[0;34m[0m[0;34m[0m[0m
[1;32m    169[0m [0;34m[0m[0m

[0;32m/usr/local/lib/python3.11/dist-packages/langchain/chains/base.py[0m in [0;36minvoke[0;34m(self, input, config, **kwargs)[0m
[1;32m    155[0m             [0mself[0m[0;34m.[0m[0m_validate_inputs[0m[0;34m([0m[0minputs[0m[0;34m)[0m[0;34m[0m[0;34m[0m[0m
[1;32m    156[0m             outputs = (
[0;32m--> 157[0;31m                 [0mself[0m[0;34m.[0m[0m_call[0m[0;34m([0m[0minputs[0m[0;34m,[0m [0mrun_manager[0m[0;34m=[0m[0mrun_manager[0m[0;34m)[0m[0;34m[0m[0;34m[0m[0m
[0m[1;32m    158[0m                 [0;32mif[0m [0mnew_arg_supported[0m[0;34m[0m[0;34m[0m[0m
[1;32m    159[0m                 [0;32melse[0m [0mself[0m[0;34m.[0m[0m_call[0m[0;34m([0m[0minputs[0m[0;34m)[0m[0;34m[0m[0;34m[0m[0m

[0;32m/usr/local/lib/python3.11/dist-packages/langchain/agents/agent.py[0m in [0;36m_call[0;34m(self, inputs, run_manager)[0m
[1;32m   1618[0m         [0;31m# We now enter the agent loop (until it returns something).[0m[0;34m[0m[0;34m[0m[0m
[1;32m   1619[0m         [0;32mwhile[0m [0mself[0m[0;34m.[0m[0m_should_continue[0m[0;34m([0m[0miterations[0m[0;34m,[0m [0mtime_elapsed[0m[0;34m)[0m[0;34m:[0m[0;34m[0m[0;34m[0m[0m
[0;32m-> 1620[0;31m             next_step_output = self._take_next_step(
[0m[1;32m   1621[0m                 [0mname_to_tool_map[0m[0;34m,[0m[0;34m[0m[0;34m[0m[0m
[1;32m   1622[0m                 [0mcolor_mapping[0m[0;34m,[0m[0;34m[0m[0;34m[0m[0m

[0;32m/usr/local/lib/python3.11/dist-packages/langchain/agents/agent.py[0m in [0;36m_take_next_step[0;34m(self, name_to_tool_map, color_mapping, inputs, intermediate_steps, run_manager)[0m
[1;32m   1324[0m     ) -> Union[AgentFinish, list[tuple[AgentAction, str]]]:
[1;32m   1325[0m         return self._consume_next_step(
[0;32m-> 1326[0;31m             [
[0m[1;32m   1327[0m                 [0ma[0m[0;34m[0m[0;34m[0m[0m
[1;32m   1328[0m                 for a in self._iter_next_step(

[0;32m/usr/local/lib/python3.11/dist-packages/langchain/agents/agent.py[0m in [0;36m<listcomp>[0;34m(.0)[0m
[1;32m   1324[0m     ) -> Union[AgentFinish, list[tuple[AgentAction, str]]]:
[1;32m   1325[0m         return self._consume_next_step(
[0;32m-> 1326[0;31m             [
[0m[1;32m   1327[0m                 [0ma[0m[0;34m[0m[0;34m[0m[0m
[1;32m   1328[0m                 for a in self._iter_next_step(

[0;32m/usr/local/lib/python3.11/dist-packages/langchain/agents/agent.py[0m in [0;36m_iter_next_step[0;34m(self, name_to_tool_map, color_mapping, inputs, intermediate_steps, run_manager)[0m
[1;32m   1352[0m [0;34m[0m[0m
[1;32m   1353[0m             [0;31m# Call the LLM to see what to do.[0m[0;34m[0m[0;34m[0m[0m
[0;32m-> 1354[0;31m             output = self._action_agent.plan(
[0m[1;32m   1355[0m                 [0mintermediate_steps[0m[0;34m,[0m[0;34m[0m[0;34m[0m[0m
[1;32m   1356[0m                 [0mcallbacks[0m[0;34m=[0m[0mrun_manager[0m[0;34m.[0m[0mget_child[0m[0;34m([0m[0;34m)[0m [0;32mif[0m [0mrun_manager[0m [0;32melse[0m [0;32mNone[0m[0;34m,[0m[0;34m[0m[0;34m[0m[0m

[0;32m/usr/local/lib/python3.11/dist-packages/langchain/agents/agent.py[0m in [0;36mplan[0;34m(self, intermediate_steps, callbacks, **kwargs)[0m
[1;32m    459[0m             [0;31m# Because the response from the plan is not a generator, we need to[0m[0;34m[0m[0;34m[0m[0m
[1;32m    460[0m             [0;31m# accumulate the output into final output and return that.[0m[0;34m[0m[0;34m[0m[0m
[0;32m--> 461[0;31m             [0;32mfor[0m [0mchunk[0m [0;32min[0m [0mself[0m[0;34m.[0m[0mrunnable[0m[0;34m.[0m[0mstream[0m[0;34m([0m[0minputs[0m[0;34m,[0m [0mconfig[0m[0;34m=[0m[0;34m{[0m[0;34m"callbacks"[0m[0;34m:[0m [0mcallbacks[0m[0;34m}[0m[0;34m)[0m[0;34m:[0m[0;34m[0m[0;34m[0m[0m
[0m[1;32m    462[0m                 [0;32mif[0m [0mfinal_output[0m [0;32mis[0m [0;32mNone[0m[0;34m:[0m[0;34m[0m[0;34m[0m[0m
[1;32m    463[0m                     [0mfinal_output[0m [0;34m=[0m [0mchunk[0m[0;34m[0m[0;34m[0m[0m

[0;32m/usr/local/lib/python3.11/dist-packages/langchain_core/runnables/base.py[0m in [0;36mstream[0;34m(self, input, config, **kwargs)[0m
[1;32m   3436[0m         [0;34m**[0m[0mkwargs[0m[0;34m:[0m [0mOptional[0m[0;34m[[0m[0mAny[0m[0;34m][0m[0;34m,[0m[0;34m[0m[0;34m[0m[0m
[1;32m   3437[0m     ) -> Iterator[Output]:
[0;32m-> 3438[0;31m         [0;32myield[0m [0;32mfrom[0m [0mself[0m[0;34m.[0m[0mtransform[0m[0;34m([0m[0miter[0m[0;34m([0m[0;34m[[0m[0minput[0m[0;34m][0m[0;34m)[0m[0;34m,[0m [0mconfig[0m[0;34m,[0m [0;34m**[0m[0mkwargs[0m[0;34m)[0m[0;34m[0m[0;34m[0m[0m
[0m[1;32m   3439[0m [0;34m[0m[0m
[1;32m   3440[0m     [0;34m@[0m[0moverride[0m[0;34m[0m[0;34m[0m[0m

[0;32m/usr/local/lib/python3.11/dist-packages/langchain_core/runnables/base.py[0m in [0;36mtransform[0;34m(self, input, config, **kwargs)[0m
[1;32m   3422[0m         [0;34m**[0m[0mkwargs[0m[0;34m:[0m [0mOptional[0m[0;34m[[0m[0mAny[0m[0;34m][0m[0;34m,[0m[0;34m[0m[0;34m[0m[0m
[1;32m   3423[0m     ) -> Iterator[Output]:
[0;32m-> 3424[0;31m         yield from self._transform_stream_with_config(
[0m[1;32m   3425[0m             [0minput[0m[0;34m,[0m[0;34m[0m[0;34m[0m[0m
[1;32m   3426[0m             [0mself[0m[0;34m.[0m[0m_transform[0m[0;34m,[0m[0;34m[0m[0;34m[0m[0m

[0;32m/usr/local/lib/python3.11/dist-packages/langchain_core/runnables/base.py[0m in [0;36m_transform_stream_with_config[0;34m(self, inputs, transformer, config, run_type, **kwargs)[0m
[1;32m   2213[0m                 [0;32mtry[0m[0;34m:[0m[0;34m[0m[0;34m[0m[0m
[1;32m   2214[0m                     [0;32mwhile[0m [0;32mTrue[0m[0;34m:[0m[0;34m[0m[0;34m[0m[0m
[0;32m-> 2215[0;31m                         [0mchunk[0m[0;34m:[0m [0mOutput[0m [0;34m=[0m [0mcontext[0m[0;34m.[0m[0mrun[0m[0;34m([0m[0mnext[0m[0;34m,[0m [0miterator[0m[0;34m)[0m[0;34m[0m[0;34m[0m[0m
[0m[1;32m   2216[0m                         [0;32myield[0m [0mchunk[0m[0;34m[0m[0;34m[0m[0m
[1;32m   2217[0m                         [0;32mif[0m [0mfinal_output_supported[0m[0;34m:[0m[0;34m[0m[0;34m[0m[0m

[0;32m/usr/local/lib/python3.11/dist-packages/langchain_core/runnables/base.py[0m in [0;36m_transform[0;34m(self, inputs, run_manager, config, **kwargs)[0m
[1;32m   3384[0m                 [0mfinal_pipeline[0m [0;34m=[0m [0mstep[0m[0;34m.[0m[0mtransform[0m[0;34m([0m[0mfinal_pipeline[0m[0;34m,[0m [0mconfig[0m[0;34m)[0m[0;34m[0m[0;34m[0m[0m
[1;32m   3385[0m [0;34m[0m[0m
[0;32m-> 3386[0;31m         [0;32myield[0m [0;32mfrom[0m [0mfinal_pipeline[0m[0;34m[0m[0;34m[0m[0m
[0m[1;32m   3387[0m [0;34m[0m[0m
[1;32m   3388[0m     async def _atransform(

[0;32m/usr/local/lib/python3.11/dist-packages/langchain_core/runnables/base.py[0m in [0;36mtransform[0;34m(self, input, config, **kwargs)[0m
[1;32m   1427[0m         [0mgot_first_val[0m [0;34m=[0m [0;32mFalse[0m[0;34m[0m[0;34m[0m[0m
[1;32m   1428[0m [0;34m[0m[0m
[0;32m-> 1429[0;31m         [0;32mfor[0m [0michunk[0m [0;32min[0m [0minput[0m[0;34m:[0m[0;34m[0m[0;34m[0m[0m
[0m[1;32m   1430[0m             [0;31m# The default implementation of transform is to buffer input and[0m[0;34m[0m[0;34m[0m[0m
[1;32m   1431[0m             [0;31m# then call stream.[0m[0;34m[0m[0;34m[0m[0m

[0;32m/usr/local/lib/python3.11/dist-packages/langchain_core/runnables/base.py[0m in [0;36mtransform[0;34m(self, input, config, **kwargs)[0m
[1;32m   5645[0m         [0;34m**[0m[0mkwargs[0m[0;34m:[0m [0mAny[0m[0;34m,[0m[0;34m[0m[0;34m[0m[0m
[1;32m   5646[0m     ) -> Iterator[Output]:
[0;32m-> 5647[0;31m         yield from self.bound.transform(
[0m[1;32m   5648[0m             [0minput[0m[0;34m,[0m[0;34m[0m[0;34m[0m[0m
[1;32m   5649[0m             [0mself[0m[0;34m.[0m[0m_merge_configs[0m[0;34m([0m[0mconfig[0m[0;34m)[0m[0;34m,[0m[0;34m[0m[0;34m[0m[0m

[0;32m/usr/local/lib/python3.11/dist-packages/langchain_core/runnables/base.py[0m in [0;36mtransform[0;34m(self, input, config, **kwargs)[0m
[1;32m   1445[0m [0;34m[0m[0m
[1;32m   1446[0m         [0;32mif[0m [0mgot_first_val[0m[0;34m:[0m[0;34m[0m[0;34m[0m[0m
[0;32m-> 1447[0;31m             [0;32myield[0m [0;32mfrom[0m [0mself[0m[0;34m.[0m[0mstream[0m[0;34m([0m[0mfinal[0m[0;34m,[0m [0mconfig[0m[0;34m,[0m [0;34m**[0m[0mkwargs[0m[0;34m)[0m[0;34m[0m[0;34m[0m[0m
[0m[1;32m   1448[0m [0;34m[0m[0m
[1;32m   1449[0m     async def atransform(

[0;32m/usr/local/lib/python3.11/dist-packages/langchain_core/language_models/llms.py[0m in [0;36mstream[0;34m(self, input, config, stop, **kwargs)[0m
[1;32m    527[0m         [0;32mif[0m [0mtype[0m[0;34m([0m[0mself[0m[0;34m)[0m[0;34m.[0m[0m_stream[0m [0;34m==[0m [0mBaseLLM[0m[0;34m.[0m[0m_stream[0m[0;34m:[0m  [0;31m# noqa: SLF001[0m[0;34m[0m[0;34m[0m[0m
[1;32m    528[0m             [0;31m# model doesn't implement streaming, so use default implementation[0m[0;34m[0m[0;34m[0m[0m
[0;32m--> 529[0;31m             [0;32myield[0m [0mself[0m[0;34m.[0m[0minvoke[0m[0;34m([0m[0minput[0m[0;34m,[0m [0mconfig[0m[0;34m=[0m[0mconfig[0m[0;34m,[0m [0mstop[0m[0;34m=[0m[0mstop[0m[0;34m,[0m [0;34m**[0m[0mkwargs[0m[0;34m)[0m[0;34m[0m[0;34m[0m[0m
[0m[1;32m    530[0m         [0;32melse[0m[0;34m:[0m[0;34m[0m[0;34m[0m[0m
[1;32m    531[0m             [0mprompt[0m [0;34m=[0m [0mself[0m[0;34m.[0m[0m_convert_input[0m[0;34m([0m[0minput[0m[0;34m)[0m[0;34m.[0m[0mto_string[0m[0;34m([0m[0;34m)[0m[0;34m[0m[0;34m[0m[0m

[0;32m/usr/local/lib/python3.11/dist-packages/langchain_core/language_models/llms.py[0m in [0;36minvoke[0;34m(self, input, config, stop, **kwargs)[0m
[1;32m    387[0m         [0mconfig[0m [0;34m=[0m [0mensure_config[0m[0;34m([0m[0mconfig[0m[0;34m)[0m[0;34m[0m[0;34m[0m[0m
[1;32m    388[0m         return (
[0;32m--> 389[0;31m             self.generate_prompt(
[0m[1;32m    390[0m                 [0;34m[[0m[0mself[0m[0;34m.[0m[0m_convert_input[0m[0;34m([0m[0minput[0m[0;34m)[0m[0;34m][0m[0;34m,[0m[0;34m[0m[0;34m[0m[0m
[1;32m    391[0m                 [0mstop[0m[0;34m=[0m[0mstop[0m[0;34m,[0m[0;34m[0m[0;34m[0m[0m

[0;32m/usr/local/lib/python3.11/dist-packages/langchain_core/language_models/llms.py[0m in [0;36mgenerate_prompt[0;34m(self, prompts, stop, callbacks, **kwargs)[0m
[1;32m    764[0m     ) -> LLMResult:
[1;32m    765[0m         [0mprompt_strings[0m [0;34m=[0m [0;34m[[0m[0mp[0m[0;34m.[0m[0mto_string[0m[0;34m([0m[0;34m)[0m [0;32mfor[0m [0mp[0m [0;32min[0m [0mprompts[0m[0;34m][0m[0;34m[0m[0;34m[0m[0m
[0;32m--> 766[0;31m         [0;32mreturn[0m [0mself[0m[0;34m.[0m[0mgenerate[0m[0;34m([0m[0mprompt_strings[0m[0;34m,[0m [0mstop[0m[0;34m=[0m[0mstop[0m[0;34m,[0m [0mcallbacks[0m[0;34m=[0m[0mcallbacks[0m[0;34m,[0m [0;34m**[0m[0mkwargs[0m[0;34m)[0m[0;34m[0m[0;34m[0m[0m
[0m[1;32m    767[0m [0;34m[0m[0m
[1;32m    768[0m     [0;34m@[0m[0moverride[0m[0;34m[0m[0;34m[0m[0m

[0;32m/usr/local/lib/python3.11/dist-packages/langchain_core/language_models/llms.py[0m in [0;36mgenerate[0;34m(self, prompts, stop, callbacks, tags, metadata, run_name, run_id, **kwargs)[0m
[1;32m    971[0m                 )
[1;32m    972[0m             ]
[0;32m--> 973[0;31m             return self._generate_helper(
[0m[1;32m    974[0m                 [0mprompts[0m[0;34m,[0m[0;34m[0m[0;34m[0m[0m
[1;32m    975[0m                 [0mstop[0m[0;34m,[0m[0;34m[0m[0;34m[0m[0m

[0;32m/usr/local/lib/python3.11/dist-packages/langchain_core/language_models/llms.py[0m in [0;36m_generate_helper[0;34m(self, prompts, stop, run_managers, new_arg_supported, **kwargs)[0m
[1;32m    790[0m         [0;32mtry[0m[0;34m:[0m[0;34m[0m[0;34m[0m[0m
[1;32m    791[0m             output = (
[0;32m--> 792[0;31m                 self._generate(
[0m[1;32m    793[0m                     [0mprompts[0m[0;34m,[0m[0;34m[0m[0;34m[0m[0m
[1;32m    794[0m                     [0mstop[0m[0;34m=[0m[0mstop[0m[0;34m,[0m[0;34m[0m[0;34m[0m[0m

[0;32m/usr/local/lib/python3.11/dist-packages/langchain_core/language_models/llms.py[0m in [0;36m_generate[0;34m(self, prompts, stop, run_manager, **kwargs)[0m
[1;32m   1545[0m         [0;32mfor[0m [0mprompt[0m [0;32min[0m [0mprompts[0m[0;34m:[0m[0;34m[0m[0;34m[0m[0m
[1;32m   1546[0m             text = (
[0;32m-> 1547[0;31m                 [0mself[0m[0;34m.[0m[0m_call[0m[0;34m([0m[0mprompt[0m[0;34m,[0m [0mstop[0m[0;34m=[0m[0mstop[0m[0;34m,[0m [0mrun_manager[0m[0;34m=[0m[0mrun_manager[0m[0;34m,[0m [0;34m**[0m[0mkwargs[0m[0;34m)[0m[0;34m[0m[0;34m[0m[0m
[0m[1;32m   1548[0m                 [0;32mif[0m [0mnew_arg_supported[0m[0;34m[0m[0;34m[0m[0m
[1;32m   1549[0m                 [0;32melse[0m [0mself[0m[0;34m.[0m[0m_call[0m[0;34m([0m[0mprompt[0m[0;34m,[0m [0mstop[0m[0;34m=[0m[0mstop[0m[0;34m,[0m [0;34m**[0m[0mkwargs[0m[0;34m)[0m[0;34m[0m[0;34m[0m[0m

[0;32m/usr/local/lib/python3.11/dist-packages/langchain_community/llms/huggingface_hub.py[0m in [0;36m_call[0;34m(self, prompt, stop, run_manager, **kwargs)[0m
[1;32m    136[0m         [0mparameters[0m [0;34m=[0m [0;34m{[0m[0;34m**[0m[0m_model_kwargs[0m[0;34m,[0m [0;34m**[0m[0mkwargs[0m[0;34m}[0m[0;34m[0m[0;34m[0m[0m
[1;32m    137[0m [0;34m[0m[0m
[0;32m--> 138[0;31m         response = self.client.post(
[0m[1;32m    139[0m             [0mjson[0m[0;34m=[0m[0;34m{[0m[0;34m"inputs"[0m[0;34m:[0m [0mprompt[0m[0;34m,[0m [0;34m"parameters"[0m[0;34m:[0m [0mparameters[0m[0;34m}[0m[0;34m,[0m [0mtask[0m[0;34m=[0m[0mself[0m[0;34m.[0m[0mtask[0m[0;34m[0m[0;34m[0m[0m
[1;32m    140[0m         )

[0;31mAttributeError[0m: 'InferenceClient' object has no attribute 'post'
```

---

### 🔹 Code Cell 32 [Execution: 23]

```python
!pip install -U langchain-huggingface
```

**Output:**
```
Requirement already satisfied: langchain-huggingface in /usr/local/lib/python3.11/dist-packages (0.3.0)
Requirement already satisfied: langchain-core<1.0.0,>=0.3.65 in /usr/local/lib/python3.11/dist-packages (from langchain-huggingface) (0.3.67)
Requirement already satisfied: tokenizers>=0.19.1 in /usr/local/lib/python3.11/dist-packages (from langchain-huggingface) (0.21.2)
Requirement already satisfied: huggingface-hub>=0.30.2 in /usr/local/lib/python3.11/dist-packages (from langchain-huggingface) (0.33.1)
Requirement already satisfied: filelock in /usr/local/lib/python3.11/dist-packages (from huggingface-hub>=0.30.2->langchain-huggingface) (3.18.0)
Requirement already satisfied: fsspec>=2023.5.0 in /usr/local/lib/python3.11/dist-packages (from huggingface-hub>=0.30.2->langchain-huggingface) (2025.3.2)
Requirement already satisfied: packaging>=20.9 in /usr/local/lib/python3.11/dist-packages (from huggingface-hub>=0.30.2->langchain-huggingface) (24.2)
Requirement already satisfied: pyyaml>=5.1 in /usr/local/lib/python3.11/dist-packages (from huggingface-hub>=0.30.2->langchain-huggingface) (6.0.2)
Requirement already satisfied: requests in /usr/local/lib/python3.11/dist-packages (from huggingface-hub>=0.30.2->langchain-huggingface) (2.32.3)
Requirement already satisfied: tqdm>=4.42.1 in /usr/local/lib/python3.11/dist-packages (from huggingface-hub>=0.30.2->langchain-huggingface) (4.67.1)
Requirement already satisfied: typing-extensions>=3.7.4.3 in /usr/local/lib/python3.11/dist-packages (from huggingface-hub>=0.30.2->langchain-huggingface) (4.14.0)
Requirement already satisfied: hf-xet<2.0.0,>=1.1.2 in /usr/local/lib/python3.11/dist-packages (from huggingface-hub>=0.30.2->langchain-huggingface) (1.1.5)
Requirement already satisfied: langsmith>=0.3.45 in /usr/local/lib/python3.11/dist-packages (from langchain-core<1.0.0,>=0.3.65->langchain-huggingface) (0.4.4)
Requirement already satisfied: tenacity!=8.4.0,<10.0.0,>=8.1.0 in /usr/local/lib/python3.11/dist-packages (from langchain-core<1.0.0,>=0.3.65->langchain-huggingface) (8.5.0)
Requirement already satisfied: jsonpatch<2.0,>=1.33 in /usr/local/lib/python3.11/dist-packages (from langchain-core<1.0.0,>=0.3.65->langchain-huggingface) (1.33)
Requirement already satisfied: pydantic>=2.7.4 in /usr/local/lib/python3.11/dist-packages (from langchain-core<1.0.0,>=0.3.65->langchain-huggingface) (2.11.7)
Requirement already satisfied: jsonpointer>=1.9 in /usr/local/lib/python3.11/dist-packages (from jsonpatch<2.0,>=1.33->langchain-core<1.0.0,>=0.3.65->langchain-huggingface) (3.0.0)
Requirement already satisfied: httpx<1,>=0.23.0 in /usr/local/lib/python3.11/dist-packages (from langsmith>=0.3.45->langchain-core<1.0.0,>=0.3.65->langchain-huggingface) (0.28.1)
Requirement already satisfied: orjson<4.0.0,>=3.9.14 in /usr/local/lib/python3.11/dist-packages (from langsmith>=0.3.45->langchain-core<1.0.0,>=0.3.65->langchain-huggingface) (3.10.18)
Requirement already satisfied: requests-toolbelt<2.0.0,>=1.0.0 in /usr/local/lib/python3.11/dist-packages (from langsmith>=0.3.45->langchain-core<1.0.0,>=0.3.65->langchain-huggingface) (1.0.0)
Requirement already satisfied: zstandard<0.24.0,>=0.23.0 in /usr/local/lib/python3.11/dist-packages (from langsmith>=0.3.45->langchain-core<1.0.0,>=0.3.65->langchain-huggingface) (0.23.0)
Requirement already satisfied: annotated-types>=0.6.0 in /usr/local/lib/python3.11/dist-packages (from pydantic>=2.7.4->langchain-core<1.0.0,>=0.3.65->langchain-huggingface) (0.7.0)
Requirement already satisfied: pydantic-core==2.33.2 in /usr/local/lib/python3.11/dist-packages (from pydantic>=2.7.4->langchain-core<1.0.0,>=0.3.65->langchain-huggingface) (2.33.2)
Requirement already satisfied: typing-inspection>=0.4.0 in /usr/local/lib/python3.11/dist-packages (from pydantic>=2.7.4->langchain-core<1.0.0,>=0.3.65->langchain-huggingface) (0.4.1)
Requirement already satisfied: charset-normalizer<4,>=2 in /usr/local/lib/python3.11/dist-packages (from requests->huggingface-hub>=0.30.2->langchain-huggingface) (3.4.2)
Requirement already satisfied: idna<4,>=2.5 in /usr/local/lib/python3.11/dist-packages (from requests->huggingface-hub>=0.30.2->langchain-huggingface) (3.10)
Requirement already satisfied: urllib3<3,>=1.21.1 in /usr/local/lib/python3.11/dist-packages (from requests->huggingface-hub>=0.30.2->langchain-huggingface) (2.4.0)
Requirement already satisfied: certifi>=2017.4.17 in /usr/local/lib/python3.11/dist-packages (from requests->huggingface-hub>=0.30.2->langchain-huggingface) (2025.6.15)
Requirement already satisfied: anyio in /usr/local/lib/python3.11/dist-packages (from httpx<1,>=0.23.0->langsmith>=0.3.45->langchain-core<1.0.0,>=0.3.65->langchain-huggingface) (4.9.0)
Requirement already satisfied: httpcore==1.* in /usr/local/lib/python3.11/dist-packages (from httpx<1,>=0.23.0->langsmith>=0.3.45->langchain-core<1.0.0,>=0.3.65->langchain-huggingface) (1.0.9)
Requirement already satisfied: h11>=0.16 in /usr/local/lib/python3.11/dist-packages (from httpcore==1.*->httpx<1,>=0.23.0->langsmith>=0.3.45->langchain-core<1.0.0,>=0.3.65->langchain-huggingface) (0.16.0)
Requirement already satisfied: sniffio>=1.1 in /usr/local/lib/python3.11/dist-packages (from anyio->httpx<1,>=0.23.0->langsmith>=0.3.45->langchain-core<1.0.0,>=0.3.65->langchain-huggingface) (1.3.1)
```

---

### 🔹 Code Cell 33 [Execution: 26]

```python
from langchain_huggingface import HuggingFaceEndpoint

llm = HuggingFaceEndpoint(
    repo_id="mistralai/Mistral-7B-Instruct-v0.2",
    temperature=0.2,
    max_new_tokens=300,
    huggingfacehub_api_token = "YOUR_TOKEN_HERE"
)
```

---

### 🔹 Code Cell 34 [Execution: 27]

```python
from langchain_experimental.agents import create_pandas_dataframe_agent

agent = create_pandas_dataframe_agent(
    llm,
    summary,              # Your cleaned DataFrame with metrics
    verbose=True,
    allow_dangerous_code=True
)
```

---

### 🔹 Code Cell 35 [Execution: 29]

```python
!pip install openai
```

**Output:**
```
Requirement already satisfied: openai in /usr/local/lib/python3.11/dist-packages (1.93.0)
Requirement already satisfied: anyio<5,>=3.5.0 in /usr/local/lib/python3.11/dist-packages (from openai) (4.9.0)
Requirement already satisfied: distro<2,>=1.7.0 in /usr/local/lib/python3.11/dist-packages (from openai) (1.9.0)
Requirement already satisfied: httpx<1,>=0.23.0 in /usr/local/lib/python3.11/dist-packages (from openai) (0.28.1)
Requirement already satisfied: jiter<1,>=0.4.0 in /usr/local/lib/python3.11/dist-packages (from openai) (0.10.0)
Requirement already satisfied: pydantic<3,>=1.9.0 in /usr/local/lib/python3.11/dist-packages (from openai) (2.11.7)
Requirement already satisfied: sniffio in /usr/local/lib/python3.11/dist-packages (from openai) (1.3.1)
Requirement already satisfied: tqdm>4 in /usr/local/lib/python3.11/dist-packages (from openai) (4.67.1)
Requirement already satisfied: typing-extensions<5,>=4.11 in /usr/local/lib/python3.11/dist-packages (from openai) (4.14.0)
Requirement already satisfied: idna>=2.8 in /usr/local/lib/python3.11/dist-packages (from anyio<5,>=3.5.0->openai) (3.10)
Requirement already satisfied: certifi in /usr/local/lib/python3.11/dist-packages (from httpx<1,>=0.23.0->openai) (2025.6.15)
Requirement already satisfied: httpcore==1.* in /usr/local/lib/python3.11/dist-packages (from httpx<1,>=0.23.0->openai) (1.0.9)
Requirement already satisfied: h11>=0.16 in /usr/local/lib/python3.11/dist-packages (from httpcore==1.*->httpx<1,>=0.23.0->openai) (0.16.0)
Requirement already satisfied: annotated-types>=0.6.0 in /usr/local/lib/python3.11/dist-packages (from pydantic<3,>=1.9.0->openai) (0.7.0)
Requirement already satisfied: pydantic-core==2.33.2 in /usr/local/lib/python3.11/dist-packages (from pydantic<3,>=1.9.0->openai) (2.33.2)
Requirement already satisfied: typing-inspection>=0.4.0 in /usr/local/lib/python3.11/dist-packages (from pydantic<3,>=1.9.0->openai) (0.4.1)
```

---

### 🔹 Code Cell 37 [Execution: 1]

```python
!pip install -U openai langchain
```

**Output:**
```
Requirement already satisfied: openai in /usr/local/lib/python3.11/dist-packages (1.93.0)
Requirement already satisfied: langchain in /usr/local/lib/python3.11/dist-packages (0.3.26)
Requirement already satisfied: anyio<5,>=3.5.0 in /usr/local/lib/python3.11/dist-packages (from openai) (4.9.0)
Requirement already satisfied: distro<2,>=1.7.0 in /usr/local/lib/python3.11/dist-packages (from openai) (1.9.0)
Requirement already satisfied: httpx<1,>=0.23.0 in /usr/local/lib/python3.11/dist-packages (from openai) (0.28.1)
Requirement already satisfied: jiter<1,>=0.4.0 in /usr/local/lib/python3.11/dist-packages (from openai) (0.10.0)
Requirement already satisfied: pydantic<3,>=1.9.0 in /usr/local/lib/python3.11/dist-packages (from openai) (2.11.7)
Requirement already satisfied: sniffio in /usr/local/lib/python3.11/dist-packages (from openai) (1.3.1)
Requirement already satisfied: tqdm>4 in /usr/local/lib/python3.11/dist-packages (from openai) (4.67.1)
Requirement already satisfied: typing-extensions<5,>=4.11 in /usr/local/lib/python3.11/dist-packages (from openai) (4.14.0)
Requirement already satisfied: langchain-core<1.0.0,>=0.3.66 in /usr/local/lib/python3.11/dist-packages (from langchain) (0.3.67)
Requirement already satisfied: langchain-text-splitters<1.0.0,>=0.3.8 in /usr/local/lib/python3.11/dist-packages (from langchain) (0.3.8)
Requirement already satisfied: langsmith>=0.1.17 in /usr/local/lib/python3.11/dist-packages (from langchain) (0.4.4)
Requirement already satisfied: SQLAlchemy<3,>=1.4 in /usr/local/lib/python3.11/dist-packages (from langchain) (2.0.41)
Requirement already satisfied: requests<3,>=2 in /usr/local/lib/python3.11/dist-packages (from langchain) (2.32.3)
Requirement already satisfied: PyYAML>=5.3 in /usr/local/lib/python3.11/dist-packages (from langchain) (6.0.2)
Requirement already satisfied: idna>=2.8 in /usr/local/lib/python3.11/dist-packages (from anyio<5,>=3.5.0->openai) (3.10)
Requirement already satisfied: certifi in /usr/local/lib/python3.11/dist-packages (from httpx<1,>=0.23.0->openai) (2025.6.15)
Requirement already satisfied: httpcore==1.* in /usr/local/lib/python3.11/dist-packages (from httpx<1,>=0.23.0->openai) (1.0.9)
Requirement already satisfied: h11>=0.16 in /usr/local/lib/python3.11/dist-packages (from httpcore==1.*->httpx<1,>=0.23.0->openai) (0.16.0)
Requirement already satisfied: tenacity!=8.4.0,<10.0.0,>=8.1.0 in /usr/local/lib/python3.11/dist-packages (from langchain-core<1.0.0,>=0.3.66->langchain) (8.5.0)
Requirement already satisfied: jsonpatch<2.0,>=1.33 in /usr/local/lib/python3.11/dist-packages (from langchain-core<1.0.0,>=0.3.66->langchain) (1.33)
Requirement already satisfied: packaging<25,>=23.2 in /usr/local/lib/python3.11/dist-packages (from langchain-core<1.0.0,>=0.3.66->langchain) (24.2)
Requirement already satisfied: orjson<4.0.0,>=3.9.14 in /usr/local/lib/python3.11/dist-packages (from langsmith>=0.1.17->langchain) (3.10.18)
Requirement already satisfied: requests-toolbelt<2.0.0,>=1.0.0 in /usr/local/lib/python3.11/dist-packages (from langsmith>=0.1.17->langchain) (1.0.0)
Requirement already satisfied: zstandard<0.24.0,>=0.23.0 in /usr/local/lib/python3.11/dist-packages (from langsmith>=0.1.17->langchain) (0.23.0)
Requirement already satisfied: annotated-types>=0.6.0 in /usr/local/lib/python3.11/dist-packages (from pydantic<3,>=1.9.0->openai) (0.7.0)
Requirement already satisfied: pydantic-core==2.33.2 in /usr/local/lib/python3.11/dist-packages (from pydantic<3,>=1.9.0->openai) (2.33.2)
Requirement already satisfied: typing-inspection>=0.4.0 in /usr/local/lib/python3.11/dist-packages (from pydantic<3,>=1.9.0->openai) (0.4.1)
Requirement already satisfied: charset-normalizer<4,>=2 in /usr/local/lib/python3.11/dist-packages (from requests<3,>=2->langchain) (3.4.2)
Requirement already satisfied: urllib3<3,>=1.21.1 in /usr/local/lib/python3.11/dist-packages (from requests<3,>=2->langchain) (2.4.0)
Requirement already satisfied: greenlet>=1 in /usr/local/lib/python3.11/dist-packages (from SQLAlchemy<3,>=1.4->langchain) (3.2.3)
Requirement already satisfied: jsonpointer>=1.9 in /usr/local/lib/python3.11/dist-packages (from jsonpatch<2.0,>=1.33->langchain-core<1.0.0,>=0.3.66->langchain) (3.0.0)
```

---

### 🔹 Code Cell 38 [Execution: 2]

```python
from langchain_openai import ChatOpenAI
```

---

### 🔹 Code Cell 39 [Execution: 3]

```python
import os
os.environ["OPENAI_API_KEY"] = "YOUR_API_KEY_HERE"
```

---

### 🔹 Code Cell 40 [Execution: 4]

```python
llm = ChatOpenAI(
    model="gpt-3.5-turbo",
    temperature=0.2
)
```

---

### 🔹 Code Cell 41 [Execution: 5]

```python
import pandas as pd
summary = pd.read_csv("/content/apple_summary.csv")
```

---

### 🔹 Code Cell 42 [Execution: 12]

```python
from langchain_experimental.agents import create_pandas_dataframe_agent

agent = create_pandas_dataframe_agent(
    llm,
    summary,
    verbose=True,
    allow_dangerous_code=True,
    max_iterations=15
)
```

---

### 🔹 Code Cell 43 [Execution: 7]

```python
response = agent.invoke("What was Apple's revenue in 2023?")
print(response)
```

**Output:**
```
[1m> Entering new AgentExecutor chain...[0m
[32;1m[1;3mThought: To find Apple's revenue in 2023, we need to look at the 'RevenueFromContractWithCustomerExcludingAssessedTax' column for the row where the 'Period' is '2023-09-30'.
Action: python_repl_ast
Action Input: df[df['Period'] == '2023-09-30']['RevenueFromContractWithCustomerExcludingAssessedTax'].values[0][0m[36;1m[1;3m298085000000.0[0m[32;1m[1;3mI now know the final answer
Final Answer: Apple's revenue in 2023 was $298,085,000,000.[0m

[1m> Finished chain.[0m
{'input': "What was Apple's revenue in 2023?", 'output': "Apple's revenue in 2023 was $298,085,000,000."}
```

---

### 🔹 Code Cell 44 [Execution: 8]

```python
response = agent.invoke("Summarize revenue for all years.")
print(response)
```

**Output:**
```
[1m> Entering new AgentExecutor chain...[0m
[32;1m[1;3mThought: To summarize revenue for all years, I need to calculate the total revenue from the "RevenueFromContractWithCustomerExcludingAssessedTax" column in the dataframe.

Action: python_repl_ast
Action Input: df["RevenueFromContractWithCustomerExcludingAssessedTax"].sum()[0m[36;1m[1;3m911676000000.0[0m[32;1m[1;3mI now know the final answer
Final Answer: The total revenue from the "RevenueFromContractWithCustomerExcludingAssessedTax" column for all years is 911,676,000,000.0[0m

[1m> Finished chain.[0m
{'input': 'Summarize revenue for all years.', 'output': 'The total revenue from the "RevenueFromContractWithCustomerExcludingAssessedTax" column for all years is 911,676,000,000.0'}
```

---

### 🔹 Code Cell 45 [Execution: 9]

```python
response = agent.invoke("What was the net income as a percentage of revenue in 2023?")
print(response)
```

**Output:**
```
[1m> Entering new AgentExecutor chain...[0m
[32;1m[1;3mThought: To calculate the net income as a percentage of revenue in 2023, we need to first find the net income and revenue values for 2023 from the dataframe.

Action: python_repl_ast
Action Input: df[df['Period'] == '2023-09-30'][['NetIncomeLoss', 'RevenueFromContractWithCustomerExcludingAssessedTax']][0m[36;1m[1;3m   NetIncomeLoss  RevenueFromContractWithCustomerExcludingAssessedTax
2   9.699500e+10                                       2.980850e+11  [0m[32;1m[1;3mWe have obtained the Net Income and Revenue values for 2023. Now we can calculate the net income as a percentage of revenue.

Action: python_repl_ast
Action Input: net_income_2023 = 9.699500e+10[0m[36;1m[1;3m[0m[32;1m[1;3mWe have stored the net income value for 2023 in a variable. Now, let's calculate the percentage.

Action: python_repl_ast
Action Input: revenue_2023 = 2.980850e+11[0m[36;1m[1;3m[0m[32;1m[1;3mWe have stored the revenue value for 2023 in a variable. Now, let's calculate the percentage.

Action: python_repl_ast
Action Input: net_income_percentage_2023 = (net_income_2023 / revenue_2023) * 100[0m[36;1m[1;3m[0m[32;1m[1;3mWe have calculated the net income as a percentage of revenue in 2023.

Final Answer: The net income as a percentage of revenue in 2023 is approximately 32.53%.[0m

[1m> Finished chain.[0m
{'input': 'What was the net income as a percentage of revenue in 2023?', 'output': 'The net income as a percentage of revenue in 2023 is approximately 32.53%.'}
```

---

### 🔹 Code Cell 46 [Execution: 10]

```python
response = agent.invoke("Compare net income in 2022 and 2023.")
print(response)
```

**Output:**
```
[1m> Entering new AgentExecutor chain...[0m
[32;1m[1;3mThought: We need to extract the net income values for 2022 and 2023 from the dataframe.
Action: Use python_repl_ast to extract the net income values for 2022 and 2023.
Action Input: df.loc[df['Period'] == '2022-09-24', 'NetIncomeLoss'].values[0], df.loc[df['Period'] == '2023-09-30', 'NetIncomeLoss'].values[0][0mUse python_repl_ast to extract the net income values for 2022 and 2023. is not a valid tool, try one of [python_repl_ast].[32;1m[1;3mI made a mistake in using the tool name. Let me correct that.
Action: Use python_repl_ast to extract the net income values for 2022 and 2023.
Action Input: df.loc[df['Period'] == '2022-09-24', 'NetIncomeLoss'].values[0], df.loc[df['Period'] == '2023-09-30', 'NetIncomeLoss'].values[0][0mUse python_repl_ast to extract the net income values for 2022 and 2023. is not a valid tool, try one of [python_repl_ast].[32;1m[1;3mI need to use the correct tool name, which is `python_repl_ast`.
Action: Use `python_repl_ast` to extract the net income values for 2022 and 2023.
Action Input: df.loc[df['Period'] == '2022-09-24', 'NetIncomeLoss'].values[0], df.loc[df['Period'] == '2023-09-30', 'NetIncomeLoss'].values[0][0mUse `python_repl_ast` to extract the net income values for 2022 and 2023. is not a valid tool, try one of [python_repl_ast].[32;1m[1;3mI made a mistake in trying to use the tool `python_repl_ast` to extract the net income values. Let me correct that.
Action: Use `python_repl_ast` to extract the net income values for 2022 and 2023.
Action Input: print(df.loc[df['Period'] == '2022-09-24', 'NetIncomeLoss'].values[0]), print(df.loc[df['Period'] == '2023-09-30', 'NetIncomeLoss'].values[0])[0mUse `python_repl_ast` to extract the net income values for 2022 and 2023. is not a valid tool, try one of [python_repl_ast].[32;1m[1;3mI need to use the correct tool name, which is `python_repl_ast`.
Action: Use `python_repl_ast` to extract the net income values for 2022 and 2023.
Action Input: df.loc[df['Period'] == '2022-09-24', 'NetIncomeLoss'].values[0], df.loc[df['Period'] == '2023-09-30', 'NetIncomeLoss'].values[0][0mUse `python_repl_ast` to extract the net income values for 2022 and 2023. is not a valid tool, try one of [python_repl_ast].[32;1m[1;3mI need to use the correct tool name, which is `python_repl_ast`.
Action: Use `python_repl_ast` to extract the net income values for 2022 and 2023.
Action Input: df.loc[df['Period'] == '2022-09-24', 'NetIncomeLoss'].values[0], df.loc[df['Period'] == '2023-09-30', 'NetIncomeLoss'].values[0][0mUse `python_repl_ast` to extract the net income values for 2022 and 2023. is not a valid tool, try one of [python_repl_ast].[32;1m[1;3mI made a mistake in repeatedly trying to use the tool `python_repl_ast` to extract the net income values. Let me correct that.
Action: Use `python_repl_ast` to extract the net income values for 2022 and 2023.
Action Input: print(df.loc[df['Period'] == '2022-09-24', 'NetIncomeLoss'].values[0]), print(df.loc[df['Period'] == '2023-09-30', 'NetIncomeLoss'].values[0])[0mUse `python_repl_ast` to extract the net income values for 2022 and 2023. is not a valid tool, try one of [python_repl_ast].[32;1m[1;3mI need to use the correct tool name, which is `python_repl_ast`.
Action: Use `python_repl_ast` to extract the net income values for 2022 and 2023.
Action Input: df.loc[df['Period'] == '2022-09-24', 'NetIncomeLoss'].values[0], df.loc[df['Period'] == '2023-09-30', 'NetIncomeLoss'].values[0][0mUse `python_repl_ast` to extract the net income values for 2022 and 2023. is not a valid tool, try one of [python_repl_ast].[32;1m[1;3mI apologize for the repeated errors. Let me correct that.
Action: Use `python_repl_ast` to extract the net income values for 2022 and 2023.
Action Input: df.loc[df['Period'] == '2022-09-24', 'NetIncomeLoss'].values[0], df.loc[df['Period'] == '2023-09-30', 'NetIncomeLoss'].values[0][0mUse `python_repl_ast` to extract the net income values for 2022 and 2023. is not a valid tool, try one of [python_repl_ast].[32;1m[1;3mI apologize for the repeated errors. Let me correct that.
Action: Use `python_repl_ast` to extract the net income values for 2022 and 2023.
Action Input: df.loc[df['Period'] == '2022-09-24', 'NetIncomeLoss'].values[0], df.loc[df['Period'] == '2023-09-30', 'NetIncomeLoss'].values[0][0mUse `python_repl_ast` to extract the net income values for 2022 and 2023. is not a valid tool, try one of [python_repl_ast].[32;1m[1;3mI apologize for the repeated errors. Let me correct that.
Action: Use `python_repl_ast` to extract the net income values for 2022 and 2023.
Action Input: df.loc[df['Period'] == '2022-09-24', 'NetIncomeLoss'].values[0], df.loc[df['Period'] == '2023-09-30', 'NetIncomeLoss'].values[0][0mUse `python_repl_ast` to extract the net income values for 2022 and 2023. is not a valid tool, try one of [python_repl_ast].[32;1m[1;3mI apologize for the repeated errors. Let me correct that.
Action: Use `python_repl_ast` to extract the net income values for 2022 and 2023.
Action Input: df.loc[df['Period'] == '2022-09-24', 'NetIncomeLoss'].values[0], df.loc[df['Period'] == '2023-09-30', 'NetIncomeLoss'].values[0][0mUse `python_repl_ast` to extract the net income values for 2022 and 2023. is not a valid tool, try one of [python_repl_ast].[32;1m[1;3mI apologize for the repeated errors. Let me correct that.
Action: Use `python_repl_ast` to extract the net income values for 2022 and 2023.
Action Input: df.loc[df['Period'] == '2022-09-24', 'NetIncomeLoss'].values[0], df.loc[df['Period'] == '2023-09-30', 'NetIncomeLoss'].values[0][0mUse `python_repl_ast` to extract the net income values for 2022 and 2023. is not a valid tool, try one of [python_repl_ast].[32;1m[1;3mI apologize for the repeated errors. Let me correct that.
Action: Use `python_repl_ast` to extract the net income values for 2022 and 2023.
Action Input: df.loc[df['Period'] == '2022-09-24', 'NetIncomeLoss'].values[0], df.loc[df['Period'] == '2023-09-30', 'NetIncomeLoss'].values[0][0mUse `python_repl_ast` to extract the net income values for 2022 and 2023. is not a valid tool, try one of [python_repl_ast].[32;1m[1;3mI apologize for the repeated errors. Let me correct that.
Action: Use `python_repl_ast` to extract the net income values for 2022 and 2023.
Action Input: df.loc[df['Period'] == '2022-09-24', 'NetIncomeLoss'].values[0], df.loc[df['Period'] == '2023-09-30', 'NetIncomeLoss'].values[0][0mUse `python_repl_ast` to extract the net income values for 2022 and 2023. is not a valid tool, try one of [python_repl_ast].[32;1m[1;3m[0m

[1m> Finished chain.[0m
{'input': 'Compare net income in 2022 and 2023.', 'output': 'Agent stopped due to iteration limit or time limit.'}
```

---

### 🔹 Code Cell 47 [Execution: 13]

```python
response = agent.invoke("Show the net income for all years.")
print(response)
```

**Output:**
```
[1m> Entering new AgentExecutor chain...[0m
[32;1m[1;3mThought: To show the net income for all years, we need to extract the 'NetIncomeLoss' column from the dataframe.
Action: python_repl_ast
Action Input: df['NetIncomeLoss'][0m[36;1m[1;3m0    9.468000e+10
1    9.980300e+10
2    9.699500e+10
Name: NetIncomeLoss, dtype: float64[0m[32;1m[1;3mThe net income for all years is shown above.
Final Answer: Net income for the years are 9.468e+10, 9.9803e+10, and 9.6995e+10.[0m

[1m> Finished chain.[0m
{'input': 'Show the net income for all years.', 'output': 'Net income for the years are 9.468e+10, 9.9803e+10, and 9.6995e+10.'}
```

---

### 🔹 Code Cell 48 [Execution: 14]

```python
import fitz  # PyMuPDF

def extract_text_from_pdf(pdf_path):
    text = ""
    with fitz.open(pdf_path) as doc:
        for page in doc:
            text += page.get_text()
    return text

# Example:
text = extract_text_from_pdf("/content/aapl-20230930.pdf")
print(text[:1000])  # Preview first 1000 chars
```

**Output:**
```
UNITED STATES
SECURITIES AND EXCHANGE COMMISSION
Washington, D.C. 20549
FORM 10-K
(Mark One)
☒ ANNUAL REPORT PURSUANT TO SECTION 13 OR 15(d) OF THE SECURITIES EXCHANGE ACT OF 1934
For the fiscal year ended September 30, 2023
or
☐ TRANSITION REPORT PURSUANT TO SECTION 13 OR 15(d) OF THE SECURITIES EXCHANGE ACT OF 1934
For the transition period from              to             .
Commission File Number: 001-36743
Apple Inc.
(Exact name of Registrant as specified in its charter)
California
94-2404110
(State or other jurisdiction
of incorporation or organization)
(I.R.S. Employer Identification No.)
One Apple Park Way
Cupertino, California
95014
(Address of principal executive offices)
(Zip Code)
(408) 996-1010
(Registrant’s telephone number, including area code)
Securities registered pursuant to Section 12(b) of the Act:
Title of each class
Trading
symbol(s)
Name of each exchange on which registered
Common Stock, $0.00001 par value per share
AAPL
The Nasdaq Stock Market LLC
1.375% Notes du
```

---

### 🔹 Code Cell 49 [Execution: 15]

```python
from langchain.text_splitter import RecursiveCharacterTextSplitter

splitter = RecursiveCharacterTextSplitter(
    chunk_size=1000,
    chunk_overlap=200
)

docs = splitter.create_documents([text])
```

---

### 🔹 Code Cell 50 [Execution: 16]

```python
!pip install sentence-transformers faiss-cpu
```

**Output:**
```
Requirement already satisfied: sentence-transformers in /usr/local/lib/python3.11/dist-packages (4.1.0)
Collecting faiss-cpu
  Downloading faiss_cpu-1.11.0-cp311-cp311-manylinux_2_28_x86_64.whl.metadata (4.8 kB)
Requirement already satisfied: transformers<5.0.0,>=4.41.0 in /usr/local/lib/python3.11/dist-packages (from sentence-transformers) (4.53.0)
Requirement already satisfied: tqdm in /usr/local/lib/python3.11/dist-packages (from sentence-transformers) (4.67.1)
Requirement already satisfied: torch>=1.11.0 in /usr/local/lib/python3.11/dist-packages (from sentence-transformers) (2.6.0+cu124)
Requirement already satisfied: scikit-learn in /usr/local/lib/python3.11/dist-packages (from sentence-transformers) (1.6.1)
Requirement already satisfied: scipy in /usr/local/lib/python3.11/dist-packages (from sentence-transformers) (1.15.3)
Requirement already satisfied: huggingface-hub>=0.20.0 in /usr/local/lib/python3.11/dist-packages (from sentence-transformers) (0.33.1)
Requirement already satisfied: Pillow in /usr/local/lib/python3.11/dist-packages (from sentence-transformers) (11.2.1)
Requirement already satisfied: typing_extensions>=4.5.0 in /usr/local/lib/python3.11/dist-packages (from sentence-transformers) (4.14.0)
Requirement already satisfied: numpy<3.0,>=1.25.0 in /usr/local/lib/python3.11/dist-packages (from faiss-cpu) (2.0.2)
Requirement already satisfied: packaging in /usr/local/lib/python3.11/dist-packages (from faiss-cpu) (24.2)
Requirement already satisfied: filelock in /usr/local/lib/python3.11/dist-packages (from huggingface-hub>=0.20.0->sentence-transformers) (3.18.0)
Requirement already satisfied: fsspec>=2023.5.0 in /usr/local/lib/python3.11/dist-packages (from huggingface-hub>=0.20.0->sentence-transformers) (2025.3.2)
Requirement already satisfied: pyyaml>=5.1 in /usr/local/lib/python3.11/dist-packages (from huggingface-hub>=0.20.0->sentence-transformers) (6.0.2)
Requirement already satisfied: requests in /usr/local/lib/python3.11/dist-packages (from huggingface-hub>=0.20.0->sentence-transformers) (2.32.3)
Requirement already satisfied: hf-xet<2.0.0,>=1.1.2 in /usr/local/lib/python3.11/dist-packages (from huggingface-hub>=0.20.0->sentence-transformers) (1.1.5)
Requirement already satisfied: networkx in /usr/local/lib/python3.11/dist-packages (from torch>=1.11.0->sentence-transformers) (3.5)
Requirement already satisfied: jinja2 in /usr/local/lib/python3.11/dist-packages (from torch>=1.11.0->sentence-transformers) (3.1.6)
Collecting nvidia-cuda-nvrtc-cu12==12.4.127 (from torch>=1.11.0->sentence-transformers)
  Downloading nvidia_cuda_nvrtc_cu12-12.4.127-py3-none-manylinux2014_x86_64.whl.metadata (1.5 kB)
Collecting nvidia-cuda-runtime-cu12==12.4.127 (from torch>=1.11.0->sentence-transformers)
  Downloading nvidia_cuda_runtime_cu12-12.4.127-py3-none-manylinux2014_x86_64.whl.metadata (1.5 kB)
Collecting nvidia-cuda-cupti-cu12==12.4.127 (from torch>=1.11.0->sentence-transformers)
  Downloading nvidia_cuda_cupti_cu12-12.4.127-py3-none-manylinux2014_x86_64.whl.metadata (1.6 kB)
Collecting nvidia-cudnn-cu12==9.1.0.70 (from torch>=1.11.0->sentence-transformers)
  Downloading nvidia_cudnn_cu12-9.1.0.70-py3-none-manylinux2014_x86_64.whl.metadata (1.6 kB)
Collecting nvidia-cublas-cu12==12.4.5.8 (from torch>=1.11.0->sentence-transformers)
  Downloading nvidia_cublas_cu12-12.4.5.8-py3-none-manylinux2014_x86_64.whl.metadata (1.5 kB)
Collecting nvidia-cufft-cu12==11.2.1.3 (from torch>=1.11.0->sentence-transformers)
  Downloading nvidia_cufft_cu12-11.2.1.3-py3-none-manylinux2014_x86_64.whl.metadata (1.5 kB)
Collecting nvidia-curand-cu12==10.3.5.147 (from torch>=1.11.0->sentence-transformers)
  Downloading nvidia_curand_cu12-10.3.5.147-py3-none-manylinux2014_x86_64.whl.metadata (1.5 kB)
Collecting nvidia-cusolver-cu12==11.6.1.9 (from torch>=1.11.0->sentence-transformers)
  Downloading nvidia_cusolver_cu12-11.6.1.9-py3-none-manylinux2014_x86_64.whl.metadata (1.6 kB)
Collecting nvidia-cusparse-cu12==12.3.1.170 (from torch>=1.11.0->sentence-transformers)
  Downloading nvidia_cusparse_cu12-12.3.1.170-py3-none-manylinux2014_x86_64.whl.metadata (1.6 kB)
Requirement already satisfied: nvidia-cusparselt-cu12==0.6.2 in /usr/local/lib/python3.11/dist-packages (from torch>=1.11.0->sentence-transformers) (0.6.2)
Requirement already satisfied: nvidia-nccl-cu12==2.21.5 in /usr/local/lib/python3.11/dist-packages (from torch>=1.11.0->sentence-transformers) (2.21.5)
Requirement already satisfied: nvidia-nvtx-cu12==12.4.127 in /usr/local/lib/python3.11/dist-packages (from torch>=1.11.0->sentence-transformers) (12.4.127)
Collecting nvidia-nvjitlink-cu12==12.4.127 (from torch>=1.11.0->sentence-transformers)
  Downloading nvidia_nvjitlink_cu12-12.4.127-py3-none-manylinux2014_x86_64.whl.metadata (1.5 kB)
Requirement already satisfied: triton==3.2.0 in /usr/local/lib/python3.11/dist-packages (from torch>=1.11.0->sentence-transformers) (3.2.0)
Requirement already satisfied: sympy==1.13.1 in /usr/local/lib/python3.11/dist-packages (from torch>=1.11.0->sentence-transformers) (1.13.1)
Requirement already satisfied: mpmath<1.4,>=1.1.0 in /usr/local/lib/python3.11/dist-packages (from sympy==1.13.1->torch>=1.11.0->sentence-transformers) (1.3.0)
Requirement already satisfied: regex!=2019.12.17 in /usr/local/lib/python3.11/dist-packages (from transformers<5.0.0,>=4.41.0->sentence-transformers) (2024.11.6)
Requirement already satisfied: tokenizers<0.22,>=0.21 in /usr/local/lib/python3.11/dist-packages (from transformers<5.0.0,>=4.41.0->sentence-transformers) (0.21.2)
Requirement already satisfied: safetensors>=0.4.3 in /usr/local/lib/python3.11/dist-packages (from transformers<5.0.0,>=4.41.0->sentence-transformers) (0.5.3)
Requirement already satisfied: joblib>=1.2.0 in /usr/local/lib/python3.11/dist-packages (from scikit-learn->sentence-transformers) (1.5.1)
Requirement already satisfied: threadpoolctl>=3.1.0 in /usr/local/lib/python3.11/dist-packages (from scikit-learn->sentence-transformers) (3.6.0)
Requirement already satisfied: MarkupSafe>=2.0 in /usr/local/lib/python3.11/dist-packages (from jinja2->torch>=1.11.0->sentence-transformers) (3.0.2)
Requirement already satisfied: charset-normalizer<4,>=2 in /usr/local/lib/python3.11/dist-packages (from requests->huggingface-hub>=0.20.0->sentence-transformers) (3.4.2)
Requirement already satisfied: idna<4,>=2.5 in /usr/local/lib/python3.11/dist-packages (from requests->huggingface-hub>=0.20.0->sentence-transformers) (3.10)
Requirement already satisfied: urllib3<3,>=1.21.1 in /usr/local/lib/python3.11/dist-packages (from requests->huggingface-hub>=0.20.0->sentence-transformers) (2.4.0)
Requirement already satisfied: certifi>=2017.4.17 in /usr/local/lib/python3.11/dist-packages (from requests->huggingface-hub>=0.20.0->sentence-transformers) (2025.6.15)
Downloading faiss_cpu-1.11.0-cp311-cp311-manylinux_2_28_x86_64.whl (31.3 MB)
[2K   [90m━━━━━━━━━━━━━━━━━━━━━━━━━━━━━━━━━━━━━━━━[0m [32m31.3/31.3 MB[0m [31m22.5 MB/s[0m eta [36m0:00:00[0m
[?25hDownloading nvidia_cublas_cu12-12.4.5.8-py3-none-manylinux2014_x86_64.whl (363.4 MB)
[2K   [90m━━━━━━━━━━━━━━━━━━━━━━━━━━━━━━━━━━━━━━━━[0m [32m363.4/363.4 MB[0m [31m1.6 MB/s[0m eta [36m0:00:00[0m
[?25hDownloading nvidia_cuda_cupti_cu12-12.4.127-py3-none-manylinux2014_x86_64.whl (13.8 MB)
[2K   [90m━━━━━━━━━━━━━━━━━━━━━━━━━━━━━━━━━━━━━━━━[0m [32m13.8/13.8 MB[0m [31m104.3 MB/s[0m eta [36m0:00:00[0m
[?25hDownloading nvidia_cuda_nvrtc_cu12-12.4.127-py3-none-manylinux2014_x86_64.whl (24.6 MB)
[2K   [90m━━━━━━━━━━━━━━━━━━━━━━━━━━━━━━━━━━━━━━━━[0m [32m24.6/24.6 MB[0m [31m81.6 MB/s[0m eta [36m0:00:00[0m
[?25hDownloading nvidia_cuda_runtime_cu12-12.4.127-py3-none-manylinux2014_x86_64.whl (883 kB)
[2K   [90m━━━━━━━━━━━━━━━━━━━━━━━━━━━━━━━━━━━━━━━━[0m [32m883.7/883.7 kB[0m [31m56.6 MB/s[0m eta [36m0:00:00[0m
[?25hDownloading nvidia_cudnn_cu12-9.1.0.70-py3-none-manylinux2014_x86_64.whl (664.8 MB)
[2K   [90m━━━━━━━━━━━━━━━━━━━━━━━━━━━━━━━━━━━━━━━[0m [32m664.8/664.8 MB[0m [31m840.4 kB/s[0m eta [36m0:00:00[0m
[?25hDownloading nvidia_cufft_cu12-11.2.1.3-py3-none-manylinux2014_x86_64.whl (211.5 MB)
[2K   [90m━━━━━━━━━━━━━━━━━━━━━━━━━━━━━━━━━━━━━━━━[0m [32m211.5/211.5 MB[0m [31m4.8 MB/s[0m eta [36m0:00:00[0m
[?25hDownloading nvidia_curand_cu12-10.3.5.147-py3-none-manylinux2014_x86_64.whl (56.3 MB)
[2K   [90m━━━━━━━━━━━━━━━━━━━━━━━━━━━━━━━━━━━━━━━━[0m [32m56.3/56.3 MB[0m [31m10.7 MB/s[0m eta [36m0:00:00[0m
[?25hDownloading nvidia_cusolver_cu12-11.6.1.9-py3-none-manylinux2014_x86_64.whl (127.9 MB)
[2K   [90m━━━━━━━━━━━━━━━━━━━━━━━━━━━━━━━━━━━━━━━━[0m [32m127.9/127.9 MB[0m [31m8.6 MB/s[0m eta [36m0:00:00[0m
[?25hDownloading nvidia_cusparse_cu12-12.3.1.170-py3-none-manylinux2014_x86_64.whl (207.5 MB)
[2K   [90m━━━━━━━━━━━━━━━━━━━━━━━━━━━━━━━━━━━━━━━━[0m [32m207.5/207.5 MB[0m [31m2.3 MB/s[0m eta [36m0:00:00[0m
[?25hDownloading nvidia_nvjitlink_cu12-12.4.127-py3-none-manylinux2014_x86_64.whl (21.1 MB)
[2K   [90m━━━━━━━━━━━━━━━━━━━━━━━━━━━━━━━━━━━━━━━━[0m [32m21.1/21.1 MB[0m [31m94.0 MB/s[0m eta [36m0:00:00[0m
[?25hInstalling collected packages: nvidia-nvjitlink-cu12, nvidia-curand-cu12, nvidia-cufft-cu12, nvidia-cuda-runtime-cu12, nvidia-cuda-nvrtc-cu12, nvidia-cuda-cupti-cu12, nvidia-cublas-cu12, faiss-cpu, nvidia-cusparse-cu12, nvidia-cudnn-cu12, nvidia-cusolver-cu12
  Attempting uninstall: nvidia-nvjitlink-cu12
    Found existing installation: nvidia-nvjitlink-cu12 12.5.82
    Uninstalling nvidia-nvjitlink-cu12-12.5.82:
      Successfully uninstalled nvidia-nvjitlink-cu12-12.5.82
  Attempting uninstall: nvidia-curand-cu12
    Found existing installation: nvidia-curand-cu12 10.3.6.82
    Uninstalling nvidia-curand-cu12-10.3.6.82:
      Successfully uninstalled nvidia-curand-cu12-10.3.6.82
  Attempting uninstall: nvidia-cufft-cu12
    Found existing installation: nvidia-cufft-cu12 11.2.3.61
    Uninstalling nvidia-cufft-cu12-11.2.3.61:
      Successfully uninstalled nvidia-cufft-cu12-11.2.3.61
  Attempting uninstall: nvidia-cuda-runtime-cu12
    Found existing installation: nvidia-cuda-runtime-cu12 12.5.82
    Uninstalling nvidia-cuda-runtime-cu12-12.5.82:
      Successfully uninstalled nvidia-cuda-runtime-cu12-12.5.82
  Attempting uninstall: nvidia-cuda-nvrtc-cu12
    Found existing installation: nvidia-cuda-nvrtc-cu12 12.5.82
    Uninstalling nvidia-cuda-nvrtc-cu12-12.5.82:
      Successfully uninstalled nvidia-cuda-nvrtc-cu12-12.5.82
  Attempting uninstall: nvidia-cuda-cupti-cu12
    Found existing installation: nvidia-cuda-cupti-cu12 12.5.82
    Uninstalling nvidia-cuda-cupti-cu12-12.5.82:
      Successfully uninstalled nvidia-cuda-cupti-cu12-12.5.82
  Attempting uninstall: nvidia-cublas-cu12
    Found existing installation: nvidia-cublas-cu12 12.5.3.2
    Uninstalling nvidia-cublas-cu12-12.5.3.2:
      Successfully uninstalled nvidia-cublas-cu12-12.5.3.2
  Attempting uninstall: nvidia-cusparse-cu12
    Found existing installation: nvidia-cusparse-cu12 12.5.1.3
    Uninstalling nvidia-cusparse-cu12-12.5.1.3:
      Successfully uninstalled nvidia-cusparse-cu12-12.5.1.3
  Attempting uninstall: nvidia-cudnn-cu12
    Found existing installation: nvidia-cudnn-cu12 9.3.0.75
    Uninstalling nvidia-cudnn-cu12-9.3.0.75:
      Successfully uninstalled nvidia-cudnn-cu12-9.3.0.75
  Attempting uninstall: nvidia-cusolver-cu12
    Found existing installation: nvidia-cusolver-cu12 11.6.3.83
    Uninstalling nvidia-cusolver-cu12-11.6.3.83:
      Successfully uninstalled nvidia-cusolver-cu12-11.6.3.83
Successfully installed faiss-cpu-1.11.0 nvidia-cublas-cu12-12.4.5.8 nvidia-cuda-cupti-cu12-12.4.127 nvidia-cuda-nvrtc-cu12-12.4.127 nvidia-cuda-runtime-cu12-12.4.127 nvidia-cudnn-cu12-9.1.0.70 nvidia-cufft-cu12-11.2.1.3 nvidia-curand-cu12-10.3.5.147 nvidia-cusolver-cu12-11.6.1.9 nvidia-cusparse-cu12-12.3.1.170 nvidia-nvjitlink-cu12-12.4.127
```

---

### 🔹 Code Cell 51 [Execution: 17]

```python
from sentence_transformers import SentenceTransformer

embedder = SentenceTransformer("all-MiniLM-L6-v2")
```

**Output:**
```
modules.json:   0%|          | 0.00/349 [00:00<?, ?B/s]
config_sentence_transformers.json:   0%|          | 0.00/116 [00:00<?, ?B/s]
README.md: 0.00B [00:00, ?B/s]
sentence_bert_config.json:   0%|          | 0.00/53.0 [00:00<?, ?B/s]
config.json:   0%|          | 0.00/612 [00:00<?, ?B/s]
model.safetensors:   0%|          | 0.00/90.9M [00:00<?, ?B/s]
tokenizer_config.json:   0%|          | 0.00/350 [00:00<?, ?B/s]
vocab.txt: 0.00B [00:00, ?B/s]
tokenizer.json: 0.00B [00:00, ?B/s]
special_tokens_map.json:   0%|          | 0.00/112 [00:00<?, ?B/s]
config.json:   0%|          | 0.00/190 [00:00<?, ?B/s]
```

---

### 🔹 Code Cell 52 [Execution: 18]

```python
embeddings = embedder.encode([d.page_content for d in docs], show_progress_bar=True)
```

**Output:**
```
Batches:   0%|          | 0/9 [00:00<?, ?it/s]
```

---

### 🔹 Code Cell 53 [Execution: 19]

```python
import faiss
import numpy as np

index = faiss.IndexFlatL2(embeddings.shape[1])
index.add(np.array(embeddings))
```

---

### 🔹 Code Cell 54 [Execution: 20]

```python
def search(query, k=3):
    q_embedding = embedder.encode([query])
    D, I = index.search(np.array(q_embedding), k)
    results = [docs[i].page_content for i in I[0]]
    return results
```

---

### 🔹 Code Cell 55 [Execution: 33]

```python
matches = search("What are the supply chain risks?")
context = "\n\n".join(matches)

prompt = f"""
You are a financial analyst.

Given the following excerpts from Apple's 10-K filing, answer the question clearly and concisely.

List the risks as numbered bullet points, each starting with a number and a period.

Example format:
1. First risk description.
2. Second risk description.
3. Third risk description.

Context:
{context}

Question: What are the supply chain risks?
"""

response = llm.invoke(prompt)

if isinstance(response, dict):
    text = response["output"]
else:
    text = response.content

import re

split_lines = re.split(r'(\d+\.\s)', text)

chunks = []
for i in range(1, len(split_lines), 2):
    bullet = split_lines[i].strip() + split_lines[i+1].strip()
    chunks.append(bullet)

for line in chunks:
    print(line)
```

**Output:**
```
1.Severe financial problems or disruptions in business of outsourcing partners or suppliers can reduce or terminate supply, impacting recoverability of prepayments.
2.Dependence on obtaining components in sufficient quantities on commercially reasonable terms.
3.Significant supply and pricing risks due to obtaining certain components from single or limited sources, industry-wide shortages, and commodity pricing fluctuations.
4.Potential disruptions in supply chain operations and ability to offer products and services due to restrictive measures on international trade.
```

---

### 🔹 Code Cell 57 [Execution: 40]

```python
def semantic_answer(question, k=3):
    matches = search(question, k=k)
    context = "\n\n".join(matches)

    prompt = f"""
    You are a financial analyst.

    Given the following excerpts from Apple's 10-K filing, answer the question clearly and concisely.

    Format your answer as numbered bullet points, one per line.

    Example format:
    1. [First point]
    2. [Second point]
    3. [Third point]

    Context:
    {context}

    Question: {question}
    """

    response = llm.invoke(prompt)

    if isinstance(response, dict):
        text = response["output"]
    else:
        text = response.content

    # Split bullets reliably
    import re

    split_lines = re.split(r'(\d+\.\s)', text)

    chunks = []
    for i in range(1, len(split_lines), 2):
        bullet = split_lines[i].strip() + split_lines[i+1].strip()
        chunks.append(bullet)

    return "\n".join(chunks)

print(semantic_answer("What does Apple say about geopolitical risks?"))
```

**Output:**
```
1.Geopolitical risks, such as tensions between governments like the U.S. and China, could lead to tariffs and restrictions that may significantly impact Apple's business.
2.Political uncertainty surrounding trade disputes could negatively affect consumer confidence and spending, which in turn could adversely affect Apple's business.
3.The Company's global operations and facilities, as well as those of its suppliers and contract manufacturers, are located in areas prone to natural disasters, posing additional risks to its business operations.
```

---

### 🔹 Code Cell 59 [Execution: 43]

```python
def semantic_answer(question, k=3):
    matches = search(question, k=k)
    context = "\n\n".join(matches)

    prompt = f"""
    You are a financial analyst.

    Given the following excerpts from Apple's 10-K filing, answer the question clearly and concisely.

    Format your answer as numbered bullet points, each starting with a number and a period, one per line.

    Example format:
    1. [First point]
    2. [Second point]
    3. [Third point]

    Context:
    {context}

    Question: {question}
    """

    response = llm.invoke(prompt)

    # Extract clean text regardless of type
    if isinstance(response, dict):
        text = response.get("output", "")
    elif hasattr(response, "content"):
        text = response.content
    else:
        text = str(response)

    import re

    # Split into numbered bullets
    split_lines = re.split(r'(\d+\.\s)', text)

    chunks = []
    for i in range(1, len(split_lines), 2):
        bullet = split_lines[i].strip() + split_lines[i+1].strip()
        chunks.append(bullet)

    return "\n".join(chunks)
```

---

### 🔹 Code Cell 60 [Execution: 44]

```python
print(semantic_answer("What are Apple's competition risks?"))
```

**Output:**
```
1.Highly competitive markets with aggressive price competition and downward pressure on gross margins.
2.Frequent introduction of new products and services by competitors.
3.Short product life cycles and evolving industry standards.
4.Competitors seeking to compete through aggressive pricing, low cost structures, and imitation of Apple's products.
5.Rapid adoption of technological advancements by competitors.
6.Price sensitivity of consumers and businesses in the market.
7.Dependence on ensuring the continuing and timely introduction of innovative new products, services, and technologies to compete successfully.
```

---

### 🔹 Code Cell 61 [Execution: 45]

```python
print(semantic_answer("What are the key factors that could negatively impact Apple’s profitability?"))
```

**Output:**
```
1.Intense competition in the market characterized by aggressive pricing, resulting in downward pressure on gross margins.
2.Continuous introduction of new products and services leading to short product life cycles and evolving industry standards.
3.Competitors imitating Apple's products and infringing on its intellectual property, affecting the company's competitive edge.
4.Uncertainty regarding demand for products could lead to resellers reducing their ordering and marketing of Apple's products.
5.Information technology system failures and network disruptions impacting the company's business and reputation.
```

---

### 🔹 Code Cell 62 [Execution: 46]

```python
print(semantic_answer("How does Apple describe its strategy for managing supply chain disruptions?"))
```

**Output:**
```
1.Apple describes its strategy for managing supply chain disruptions by acknowledging its dependence on complex information technology systems and the potential risks of system failures or network disruptions caused by various factors.
2.The company recognizes the importance of system upgrades, redundancy, and other continuity measures to mitigate the impact of disruptions on its business operations.
3.Apple also highlights the need for effective business continuity and disaster recovery planning for both the company and its vendors to address potential supply chain disruptions effectively.
4.The company acknowledges that failures or disruptions in its supply chain can adversely impact its business by preventing access to online services and affecting product distribution through resellers and other channels.
```

---

### 📝 Markdown Cell 65

# Semantic Search + QA

---

### 🔹 Code Cell 66 [Execution: 47]

```python
!pip install faiss-cpu sentence-transformers beautifulsoup4 lxml PyMuPDF
```

**Output:**
```
Requirement already satisfied: faiss-cpu in /usr/local/lib/python3.11/dist-packages (1.11.0)
Requirement already satisfied: sentence-transformers in /usr/local/lib/python3.11/dist-packages (4.1.0)
Requirement already satisfied: beautifulsoup4 in /usr/local/lib/python3.11/dist-packages (4.13.4)
Requirement already satisfied: lxml in /usr/local/lib/python3.11/dist-packages (5.4.0)
Requirement already satisfied: PyMuPDF in /usr/local/lib/python3.11/dist-packages (1.26.3)
Requirement already satisfied: numpy<3.0,>=1.25.0 in /usr/local/lib/python3.11/dist-packages (from faiss-cpu) (2.0.2)
Requirement already satisfied: packaging in /usr/local/lib/python3.11/dist-packages (from faiss-cpu) (24.2)
Requirement already satisfied: transformers<5.0.0,>=4.41.0 in /usr/local/lib/python3.11/dist-packages (from sentence-transformers) (4.53.0)
Requirement already satisfied: tqdm in /usr/local/lib/python3.11/dist-packages (from sentence-transformers) (4.67.1)
Requirement already satisfied: torch>=1.11.0 in /usr/local/lib/python3.11/dist-packages (from sentence-transformers) (2.6.0+cu124)
Requirement already satisfied: scikit-learn in /usr/local/lib/python3.11/dist-packages (from sentence-transformers) (1.6.1)
Requirement already satisfied: scipy in /usr/local/lib/python3.11/dist-packages (from sentence-transformers) (1.15.3)
Requirement already satisfied: huggingface-hub>=0.20.0 in /usr/local/lib/python3.11/dist-packages (from sentence-transformers) (0.33.1)
Requirement already satisfied: Pillow in /usr/local/lib/python3.11/dist-packages (from sentence-transformers) (11.2.1)
Requirement already satisfied: typing_extensions>=4.5.0 in /usr/local/lib/python3.11/dist-packages (from sentence-transformers) (4.14.0)
Requirement already satisfied: soupsieve>1.2 in /usr/local/lib/python3.11/dist-packages (from beautifulsoup4) (2.7)
Requirement already satisfied: filelock in /usr/local/lib/python3.11/dist-packages (from huggingface-hub>=0.20.0->sentence-transformers) (3.18.0)
Requirement already satisfied: fsspec>=2023.5.0 in /usr/local/lib/python3.11/dist-packages (from huggingface-hub>=0.20.0->sentence-transformers) (2025.3.2)
Requirement already satisfied: pyyaml>=5.1 in /usr/local/lib/python3.11/dist-packages (from huggingface-hub>=0.20.0->sentence-transformers) (6.0.2)
Requirement already satisfied: requests in /usr/local/lib/python3.11/dist-packages (from huggingface-hub>=0.20.0->sentence-transformers) (2.32.3)
Requirement already satisfied: hf-xet<2.0.0,>=1.1.2 in /usr/local/lib/python3.11/dist-packages (from huggingface-hub>=0.20.0->sentence-transformers) (1.1.5)
Requirement already satisfied: networkx in /usr/local/lib/python3.11/dist-packages (from torch>=1.11.0->sentence-transformers) (3.5)
Requirement already satisfied: jinja2 in /usr/local/lib/python3.11/dist-packages (from torch>=1.11.0->sentence-transformers) (3.1.6)
Requirement already satisfied: nvidia-cuda-nvrtc-cu12==12.4.127 in /usr/local/lib/python3.11/dist-packages (from torch>=1.11.0->sentence-transformers) (12.4.127)
Requirement already satisfied: nvidia-cuda-runtime-cu12==12.4.127 in /usr/local/lib/python3.11/dist-packages (from torch>=1.11.0->sentence-transformers) (12.4.127)
Requirement already satisfied: nvidia-cuda-cupti-cu12==12.4.127 in /usr/local/lib/python3.11/dist-packages (from torch>=1.11.0->sentence-transformers) (12.4.127)
Requirement already satisfied: nvidia-cudnn-cu12==9.1.0.70 in /usr/local/lib/python3.11/dist-packages (from torch>=1.11.0->sentence-transformers) (9.1.0.70)
Requirement already satisfied: nvidia-cublas-cu12==12.4.5.8 in /usr/local/lib/python3.11/dist-packages (from torch>=1.11.0->sentence-transformers) (12.4.5.8)
Requirement already satisfied: nvidia-cufft-cu12==11.2.1.3 in /usr/local/lib/python3.11/dist-packages (from torch>=1.11.0->sentence-transformers) (11.2.1.3)
Requirement already satisfied: nvidia-curand-cu12==10.3.5.147 in /usr/local/lib/python3.11/dist-packages (from torch>=1.11.0->sentence-transformers) (10.3.5.147)
Requirement already satisfied: nvidia-cusolver-cu12==11.6.1.9 in /usr/local/lib/python3.11/dist-packages (from torch>=1.11.0->sentence-transformers) (11.6.1.9)
Requirement already satisfied: nvidia-cusparse-cu12==12.3.1.170 in /usr/local/lib/python3.11/dist-packages (from torch>=1.11.0->sentence-transformers) (12.3.1.170)
Requirement already satisfied: nvidia-cusparselt-cu12==0.6.2 in /usr/local/lib/python3.11/dist-packages (from torch>=1.11.0->sentence-transformers) (0.6.2)
Requirement already satisfied: nvidia-nccl-cu12==2.21.5 in /usr/local/lib/python3.11/dist-packages (from torch>=1.11.0->sentence-transformers) (2.21.5)
Requirement already satisfied: nvidia-nvtx-cu12==12.4.127 in /usr/local/lib/python3.11/dist-packages (from torch>=1.11.0->sentence-transformers) (12.4.127)
Requirement already satisfied: nvidia-nvjitlink-cu12==12.4.127 in /usr/local/lib/python3.11/dist-packages (from torch>=1.11.0->sentence-transformers) (12.4.127)
Requirement already satisfied: triton==3.2.0 in /usr/local/lib/python3.11/dist-packages (from torch>=1.11.0->sentence-transformers) (3.2.0)
Requirement already satisfied: sympy==1.13.1 in /usr/local/lib/python3.11/dist-packages (from torch>=1.11.0->sentence-transformers) (1.13.1)
Requirement already satisfied: mpmath<1.4,>=1.1.0 in /usr/local/lib/python3.11/dist-packages (from sympy==1.13.1->torch>=1.11.0->sentence-transformers) (1.3.0)
Requirement already satisfied: regex!=2019.12.17 in /usr/local/lib/python3.11/dist-packages (from transformers<5.0.0,>=4.41.0->sentence-transformers) (2024.11.6)
Requirement already satisfied: tokenizers<0.22,>=0.21 in /usr/local/lib/python3.11/dist-packages (from transformers<5.0.0,>=4.41.0->sentence-transformers) (0.21.2)
Requirement already satisfied: safetensors>=0.4.3 in /usr/local/lib/python3.11/dist-packages (from transformers<5.0.0,>=4.41.0->sentence-transformers) (0.5.3)
Requirement already satisfied: joblib>=1.2.0 in /usr/local/lib/python3.11/dist-packages (from scikit-learn->sentence-transformers) (1.5.1)
Requirement already satisfied: threadpoolctl>=3.1.0 in /usr/local/lib/python3.11/dist-packages (from scikit-learn->sentence-transformers) (3.6.0)
Requirement already satisfied: MarkupSafe>=2.0 in /usr/local/lib/python3.11/dist-packages (from jinja2->torch>=1.11.0->sentence-transformers) (3.0.2)
Requirement already satisfied: charset-normalizer<4,>=2 in /usr/local/lib/python3.11/dist-packages (from requests->huggingface-hub>=0.20.0->sentence-transformers) (3.4.2)
Requirement already satisfied: idna<4,>=2.5 in /usr/local/lib/python3.11/dist-packages (from requests->huggingface-hub>=0.20.0->sentence-transformers) (3.10)
Requirement already satisfied: urllib3<3,>=1.21.1 in /usr/local/lib/python3.11/dist-packages (from requests->huggingface-hub>=0.20.0->sentence-transformers) (2.4.0)
Requirement already satisfied: certifi>=2017.4.17 in /usr/local/lib/python3.11/dist-packages (from requests->huggingface-hub>=0.20.0->sentence-transformers) (2025.6.15)
```

---

### 🔹 Code Cell 67 [Execution: 48]

```python
# Core imports
import os
import fitz  # PyMuPDF
from bs4 import BeautifulSoup
import xml.etree.ElementTree as ET
from sentence_transformers import SentenceTransformer
import faiss
import numpy as np

# Model
embedder = SentenceTransformer("all-MiniLM-L6-v2")
```

---

### 🔹 Code Cell 68 [Execution: 49]

```python
def parse_pdf(file_path):
    """Extracts text from a PDF file."""
    doc = fitz.open(file_path)
    text = ""
    for page in doc:
        text += page.get_text()
    return text

def parse_html(file_path):
    """Extracts text from an HTML/HTM file."""
    with open(file_path, "r", encoding="utf-8") as f:
        soup = BeautifulSoup(f, "lxml")
        return soup.get_text(separator="\n")

def parse_xml(file_path):
    """Extracts text from an XML file."""
    tree = ET.parse(file_path)
    root = tree.getroot()
    text = ET.tostring(root, encoding="unicode", method="text")
    return text
```

---

### 🔹 Code Cell 69 [Execution: 50]

```python
def chunk_text(text, chunk_size=500, overlap=50):
    """
    Splits text into overlapping chunks.
    """
    words = text.split()
    chunks = []
    start = 0
    while start < len(words):
        end = start + chunk_size
        chunk = " ".join(words[start:end])
        chunks.append(chunk)
        start += chunk_size - overlap
    return chunks
```

---

### 🔹 Code Cell 70 [Execution: 51]

```python
def embed_chunks(chunks):
    """
    Converts text chunks to embeddings using sentence-transformers.
    """
    embeddings = embedder.encode(
        chunks,
        convert_to_numpy=True,
        show_progress_bar=True
    )
    return embeddings
```

---

### 🔹 Code Cell 71 [Execution: 53]

```python
from google.colab import files

# Upload multiple files
uploaded_files = files.upload()

# Map file extensions to parser functions
parser_map = {
    ".pdf": parse_pdf,
    ".htm": parse_html,
    ".html": parse_html,
    ".xml": parse_xml
}

# Helper to choose parser based on extension
def get_parser(file_name):
    ext = os.path.splitext(file_name)[1].lower()
    return parser_map.get(ext, None)
```

**Output:**
```
<IPython.core.display.HTML object>
Saving aapl-20230930.htm to aapl-20230930 (2).htm
Saving aapl-20230930.pdf to aapl-20230930 (1).pdf
Saving aapl-20230930_htm.xml to aapl-20230930_htm (2).xml
Saving FilingSummary.xml to FilingSummary (2).xml
```

---

### 🔹 Code Cell 72 [Execution: 54]

```python
all_chunks = []
all_embeddings = []
all_metadata = []

for file_name in uploaded_files.keys():
    parser = get_parser(file_name)
    if parser is None:
        print(f"⚠️ Skipping unsupported file: {file_name}")
        continue

    print(f"✅ Processing: {file_name}")

    # Parse text
    text = parser(file_name)

    # Chunk text
    chunks = chunk_text(text, chunk_size=500, overlap=50)

    # Embed chunks
    embeddings = embed_chunks(chunks)

    # Collect
    all_chunks.extend(chunks)
    all_embeddings.append(embeddings)

    # Store metadata for each chunk
    all_metadata.extend([
        {"file_name": file_name, "chunk_id": idx}
        for idx in range(len(chunks))
    ])

print("✅ All files processed.")
```

**Output:**
```
✅ Processing: aapl-20230930 (2).htm
/tmp/ipython-input-49-1346218613.py:12: XMLParsedAsHTMLWarning: It looks like you're using an HTML parser to parse an XML document.

Assuming this really is an XML document, what you're doing might work, but you should know that using an XML parser will be more reliable. To parse this document as XML, make sure you have the Python package 'lxml' installed, and pass the keyword argument `features="xml"` into the BeautifulSoup constructor.

If you want or need to use an HTML parser on this document, you can make this warning go away by filtering it. To do that, run this code before calling the BeautifulSoup constructor:

    from bs4 import XMLParsedAsHTMLWarning
    import warnings

    warnings.filterwarnings("ignore", category=XMLParsedAsHTMLWarning)

  soup = BeautifulSoup(f, "lxml")
Batches:   0%|          | 0/3 [00:00<?, ?it/s]
✅ Processing: aapl-20230930 (1).pdf
Batches:   0%|          | 0/3 [00:00<?, ?it/s]
✅ Processing: aapl-20230930_htm (2).xml
Batches:   0%|          | 0/3 [00:00<?, ?it/s]
✅ Processing: FilingSummary (2).xml
Batches:   0%|          | 0/1 [00:00<?, ?it/s]
✅ All files processed.
```

---

### 🔹 Code Cell 73 [Execution: 55]

```python
# Stack all embeddings into one big matrix
embedding_matrix = np.vstack(all_embeddings)

# Create FAISS index
dimension = embedding_matrix.shape[1]
index = faiss.IndexFlatL2(dimension)
index.add(embedding_matrix)

print(f"✅ FAISS index created with {index.ntotal} vectors.")
```

**Output:**
```
✅ FAISS index created with 231 vectors.
```

---

### 🔹 Code Cell 74 [Execution: 59]

```python
def semantic_search(query, k=5):
    """
    Embeds the query and retrieves top-k most similar chunks with metadata.
    """
    # Embed the query
    q_embedding = embedder.encode([query])

    # Search FAISS
    distances, indices = index.search(np.array(q_embedding), k)

    # Collect results
    results = []
    for idx in indices[0]:
        result = {
            "text": all_chunks[idx],
            "metadata": all_metadata[idx]
        }
        results.append(result)

    return results
```

---

### 🔹 Code Cell 75 [Execution: 60]

```python
def display_results(results):
    """
    Pretty-print retrieved chunks with metadata.
    """
    for i, r in enumerate(results, start=1):
        print(f"\n🔹 Result #{i}")
        print(f"📄 File: {r['metadata']['file_name']} | Chunk ID: {r['metadata']['chunk_id']}")
        print("------")
        snippet = r["text"][:500]  # Show only first 500 characters
        print(snippet)
```

---

### 🔹 Code Cell 76 [Execution: 61]

```python
# Example query
query = "What are Apple's supply chain risks?"

# Run search
results = semantic_search(query, k=5)

# Display results
display_results(results)
```

**Output:**
```
🔹 Result #1
📄 File: aapl-20230930 (2).htm | Chunk ID: 28
------
can be liable for associated investigatory expenses, and can also incur significant fees or fines. Payment card data is also subject to additional requirements. Under payment card rules and obligations, if cardholder information is potentially compromised, the Company can be liable for associated investigatory expenses and can also incur significant fees or fines if the Company fails to follow payment card industry data security standards. The Company could also experience a significant increase

🔹 Result #2
📄 File: aapl-20230930 (2).htm | Chunk ID: 11
------
Company and its customers, suppliers, contract manufacturers, logistics providers, distributors, cellular network carriers and other channel partners. Apple Inc. | 2023 Form 10-K | 5 The Company has a large, global business with sales outside the U.S. representing a majority of the Company’s total net sales, and the Company believes that it generally benefits from growth in international trade. Substantially all of the Company’s manufacturing is performed in whole or in part by outsourcing partn

🔹 Result #3
📄 File: aapl-20230930 (1).pdf | Chunk ID: 9
------
and other financial institutions; limitations on the Company’s ability to issue new debt; reduced liquidity; and declines in the fair values of the Company’s financial instruments. These and other impacts can materially adversely affect the Company’s business, results of operations, financial condition and stock price. The Company’s business can be impacted by political events, trade and other international disputes, war, terrorism, natural disasters, public health issues, industrial accidents a

🔹 Result #4
📄 File: aapl-20230930 (1).pdf | Chunk ID: 15
------
no assurance the Company will be able to detect and fix all issues and defects in the hardware, software and services it offers. Failure to do so can result in widespread technical and performance issues affecting the Company’s products and services. In addition, the Company can be exposed to product liability claims, recalls, product replacements or modifications, write-offs of inventory, property, plant and equipment or intangible assets, and significant warranty and other expenses, including 

🔹 Result #5
📄 File: aapl-20230930 (1).pdf | Chunk ID: 13
------
service in the event of product defects and experiences unanticipated product defect liabilities from time to time. While the Company relies on its partners to adhere to its supplier code of conduct, violations of the supplier code of conduct occur from time to time and can materially adversely affect the Company’s business, reputation, results of operations and financial condition. Apple Inc. | 2023 Form 10-K | 7 7/4/25, 5:25 PM aapl-20230930 https://www.sec.gov/Archives/edgar/data/320193/00003
```

---

### 🔹 Code Cell 77 [Execution: 62]

```python
from langchain_openai import ChatOpenAI

# Initialize your LLM (change model if needed)
llm = ChatOpenAI(
    model="gpt-3.5-turbo",
    temperature=0.2
)

def summarize_with_llm(query, results):
    """
    Combines retrieved chunks and sends them to the LLM to generate an answer.
    """
    # Build context with citations
    context = ""
    for r in results:
        snippet = r["text"][:1000].strip().replace("\n", " ")
        file = r["metadata"]["file_name"]
        context += f"\n(Source: {file})\n{snippet}\n"

    # Prompt
    prompt = (
        f"You are a financial analyst assistant.\n\n"
        f"Context excerpts:\n{context}\n\n"
        f"Question: {query}\n\n"
        f"Answer in bullet points with clear sentences."
    )

    response = llm.invoke(prompt)
    return response.content.strip()
```

---

### 🔹 Code Cell 78 [Execution: 63]

```python
# Example question
query = "Summarize Apple's supply chain risks."

# Retrieve top 5 chunks
results = semantic_search(query, k=5)

# Generate answer
summary = summarize_with_llm(query, results)

# Display answer
print("✅ LLM Summary:\n")
print(summary)
```

**Output:**
```
✅ LLM Summary:

- Apple's supply chain is heavily reliant on outsourcing partners located primarily in China mainland, India, Japan, South Korea, Taiwan, and Vietnam.
- Restrictions on international trade, such as tariffs and controls on imports or exports, can adversely affect Apple's operations and supply chain.
- These restrictive measures can limit Apple's ability to offer and distribute its products and services to customers, particularly if they apply to countries and regions where the company operates.
- Any disruptions in the supply chain can have a significant impact on Apple's business, results of operations, and financial condition.
```

---

### 🔹 Code Cell 79 [Execution: 64]

```python
# Example 2
query2 = "What were the key financial highlights in 2023?"
results2 = semantic_search(query2, k=5)
summary2 = summarize_with_llm(query2, results2)
print("✅ Financial Highlights Summary:\n")
print(summary2)
```

**Output:**
```
✅ Financial Highlights Summary:

- Total net sales were $383.3 billion in 2023.
- Net income was $97.0 billion in 2023.
- Total net sales decreased by 3% or $11.0 billion compared to 2022.
- The decrease in total net sales was primarily due to the weakness in foreign currencies relative to the U.S. dollar.
- Lower net sales of Mac and iPhone were partially offset by higher net sales of Services.
```

---

### 🔹 Code Cell 81 [Execution: 65]

```python
from lxml import etree

def extract_xbrl_facts(xml_file):
    """
    Extracts all us-gaap facts and their values from an XBRL XML file.
    Returns a list of dicts with label and value.
    """
    tree = etree.parse(xml_file)
    root = tree.getroot()

    ns = {"us-gaap": "http://fasb.org/us-gaap/2023"}

    # Find all tags in the us-gaap namespace
    facts = []
    for element in root.iter():
        if element.tag.startswith("{http://fasb.org/us-gaap/2023}"):
            tag = element.tag.split("}")[1]
            value = element.text
            facts.append({
                "Label": tag,
                "Value": value
            })
    return facts
```

---

### 🔹 Code Cell 82 [Execution: 66]

```python
# Path to your uploaded XBRL file
xbrl_file = "aapl-20230930_htm.xml"

# Extract all facts
facts = extract_xbrl_facts(xbrl_file)

# Show a sample of what we got
print(f"✅ Extracted {len(facts)} facts. Showing first 10:\n")
for f in facts[:10]:
    print(f)
```

**Output:**
```
✅ Extracted 1010 facts. Showing first 10:

{'Label': 'RevenueRemainingPerformanceObligationExpectedTimingOfSatisfactionStartDateAxis.domain', 'Value': '2023-10-01'}
{'Label': 'RevenueRemainingPerformanceObligationExpectedTimingOfSatisfactionStartDateAxis.domain', 'Value': '2024-09-29'}
{'Label': 'RevenueRemainingPerformanceObligationExpectedTimingOfSatisfactionStartDateAxis.domain', 'Value': '2025-09-28'}
{'Label': 'RevenueRemainingPerformanceObligationExpectedTimingOfSatisfactionStartDateAxis.domain', 'Value': '2026-09-27'}
{'Label': 'RevenueRemainingPerformanceObligationExpectedTimingOfSatisfactionPeriod1', 'Value': 'P1Y'}
{'Label': 'RevenueRemainingPerformanceObligationPercentage', 'Value': '0.67'}
{'Label': 'RevenueRemainingPerformanceObligationExpectedTimingOfSatisfactionPeriod1', 'Value': 'P1Y'}
{'Label': 'RevenueRemainingPerformanceObligationPercentage', 'Value': '0.25'}
{'Label': 'RevenueRemainingPerformanceObligationExpectedTimingOfSatisfactionPeriod1', 'Value': 'P1Y'}
{'Label': 'RevenueRemainingPerformanceObligationPercentage', 'Value': '0.07'}
```

---

### 🔹 Code Cell 83 [Execution: 77]

```python
# Define the tags we care about
important_tags = {
    "RevenueFromContractWithCustomerExcludingAssessedTax": "Revenue",
    "Revenues": "Revenue",
    "SalesRevenueNet": "Revenue",
    "CostOfGoodsAndServicesSold": "COGS",
    "OperatingIncomeLoss": "OperatingIncome",
    "NetIncomeLoss": "NetIncome",
    "Assets": "TotalAssets",
    "Liabilities": "TotalLiabilities",
    "StockholdersEquity": "Equity",
    "LongTermDebt": "LongTermDebt",
}

# Initialize empty dict
data = {}

# Loop through extracted facts
for f in facts:
    tag = f["Label"]
    value = f["Value"]
    if tag in important_tags:
        try:
            # Convert to numeric safely
            numeric_value = float(value)
            data[important_tags[tag]] = numeric_value
        except:
            continue

# Display cleaned data
print("✅ Extracted Financial Metrics:\n")
for k, v in data.items():
    print(f"{k}: {v:,.0f}")
```

**Output:**
```
✅ Extracted Financial Metrics:

Revenue: 365,817,000,000
COGS: 212,981,000,000
OperatingIncome: 108,949,000,000
NetIncome: 94,680,000,000
TotalAssets: 352,755,000,000
TotalLiabilities: 302,083,000,000
Equity: 63,090,000,000
LongTermDebt: 110,087,000,000
```

---

### 🔹 Code Cell 84 [Execution: 78]

```python
import pandas as pd

# Convert dict to DataFrame
df = pd.DataFrame([data])

# Compute Ratios
df["GrossMargin"] = (df["Revenue"] - df["COGS"]) / df["Revenue"] * 100
df["OperatingMargin"] = df["OperatingIncome"] / df["Revenue"] * 100
df["NetMargin"] = df["NetIncome"] / df["Revenue"] * 100
df["DebtEquity"] = df["LongTermDebt"] / df["Equity"]
df["LiabilitiesEquity"] = df["TotalLiabilities"] / df["Equity"]

# Display nicely
print("✅ Financial Ratios:\n")
print(df[[
    "GrossMargin",
    "OperatingMargin",
    "NetMargin",
    "DebtEquity",
    "LiabilitiesEquity"
]].round(2))
```

**Output:**
```
✅ Financial Ratios:

   GrossMargin  OperatingMargin  NetMargin  DebtEquity  LiabilitiesEquity
0        41.78            29.78      25.88        1.74               4.79
```

---

### 🔹 Code Cell 85 [Execution: 79]

```python
import matplotlib.pyplot as plt

# Create figure and axes
fig, ax = plt.subplots(figsize=(8, 6))

# Bar plot of the ratios
bars = ax.bar(
    ["Gross Margin", "Operating Margin", "Net Margin"],
    [
        df["GrossMargin"].iloc[0],
        df["OperatingMargin"].iloc[0],
        df["NetMargin"].iloc[0]
    ],
    color="#5fba7d"
)

# Add value labels
for bar in bars:
    yval = bar.get_height()
    ax.text(bar.get_x() + bar.get_width()/2, yval + 0.5, f"{yval:.2f}%", ha='center', fontsize=12)

# Customize plot
ax.set_title("Apple Financial Margins (%)", fontsize=16)
ax.set_ylabel("Percentage")
ax.set_ylim(0, max(df["GrossMargin"].iloc[0], df["OperatingMargin"].iloc[0], df["NetMargin"].iloc[0]) + 10)
plt.tight_layout()

# Show plot
plt.show()
```

**Output:**
```
<Figure size 800x600 with 1 Axes>
```

---

### 🔹 Code Cell 88 [Execution: 94]

```python
from bs4 import BeautifulSoup

file = "/content/aapl-20210925_htm.xml"

with open(file, "r") as f:
    soup = BeautifulSoup(f, "lxml")

# List unique tag names
all_tags = set([tag.name for tag in soup.find_all()])

print("✅ Unique tag names in 2021 file:")
for t in sorted(all_tags):
    print(t)
```

**Output:**
```
✅ Unique tag names in 2021 file:
aapl:amountutilizedundersharerepurchaseprogram
aapl:cashcashequivalentsandmarketablesecurities
aapl:cashcashequivalentsandmarketablesecuritiescost
aapl:cashequivalentsandmarketablesecuritiesaccumulatedgrossunrealizedgainbeforetax
aapl:cashequivalentsandmarketablesecuritiesaccumulatedgrossunrealizedlossbeforetax
aapl:commercialpapercashflowsummarytabletextblock
aapl:debtinstrumentmaturityyearrangeend
aapl:debtinstrumentmaturityyearrangestart
aapl:deferredtaxassetsleaseliabilities
aapl:deferredtaxliabilitiesminimumtaxonforeignearnings
aapl:effectiveincometaxratereconciliationforeignderivedintangibleincomedeductionamount
aapl:employeestockpurchaseplanmaximumannualpurchasesperemployeeamount
aapl:equitysecuritiesfvniaccumulatedgrossunrealizedgainbeforetax
aapl:equitysecuritiesfvniaccumulatedgrossunrealizedlossbeforetax
aapl:factorbywhicheachrsugrantedreducesandeachrsucanceledorsharewithheldfortaxesincreasessharesavail
aapl:hedgeaccountingadjustmentsrelatedtotermdebt
aapl:incometaxcontingencynumberofsubsidiaries
aapl:lesseeoperatingandfinanceleaseleasenotyetcommencedpaymentsdue
aapl:lesseeoperatingandfinanceleaseleasenotyetcommencedtermofcontract
aapl:lesseeoperatingandfinanceleaseliabilitypaymentsdue
aapl:lesseeoperatingandfinanceleaseliabilitytobepaidafteryearfive
aapl:lesseeoperatingandfinanceleaseliabilitytobepaidyearfive
aapl:lesseeoperatingandfinanceleaseliabilitytobepaidyearfour
aapl:lesseeoperatingandfinanceleaseliabilitytobepaidyearone
aapl:lesseeoperatingandfinanceleaseliabilitytobepaidyearthree
aapl:lesseeoperatingandfinanceleaseliabilitytobepaidyeartwo
aapl:lesseeoperatingandfinanceleaseliabilityundiscountedexcessamount
aapl:lesseeoperatingandfinanceleasetermofcontract
aapl:noncashactivitiesinvolvingpropertyplantandequipmentnetincreasedecreasetoaccountspayableandother
aapl:numberofcustomerswithsignificantaccountsreceivablebalance
aapl:numberofsignificantvendors
aapl:operatingandfinanceleaseliability
aapl:operatingandfinanceleaserightofuseasset
aapl:operatingandfinanceleaserightofuseassetsandleaseliabilitiestabletextblock
aapl:operatingandfinanceleaseweightedaveragediscountratepercent
aapl:operatingandfinanceleaseweightedaverageremainingleaseterm
aapl:othercomprehensiveincomelossderivativeinstrumentgainlossafterreclassificationandtax
aapl:othercomprehensiveincomelossderivativeinstrumentgainlossbeforereclassificationaftertax
aapl:othercomprehensiveincomelossderivativeinstrumentgainlossreclassificationaftertax
aapl:performanceobligationsinarrangements
aapl:restrictedcashandrestrictedmarketablesecuritiespolicytextblock
aapl:rightofuseassetsobtainedinexchangeforoperatingandfinanceleaseliabilities
aapl:sharebasedcompensationarrangementbysharebasedpaymentawardequityinstrumentsotherthanoptionsnumbe
aapl:sharebasedcompensationarrangementbysharebasedpaymentawardofferingperiod
aapl:stockissuedduringperiodsharessharebasedpaymentarrangementnetofshareswithheldfortaxes
aapl:upfrontpaymentunderacceleratedsharerepurchaseagreement
body
context
dei:amendmentflag
dei:cityareacode
dei:currentfiscalyearenddate
dei:documentannualreport
dei:documentfiscalperiodfocus
dei:documentfiscalyearfocus
dei:documentperiodenddate
dei:documenttransitionreport
dei:documenttype
dei:entityaddressaddressline1
dei:entityaddresscityortown
dei:entityaddresspostalzipcode
dei:entityaddressstateorprovince
dei:entitycentralindexkey
dei:entitycommonstocksharesoutstanding
dei:entitycurrentreportingstatus
dei:entityemerginggrowthcompany
dei:entityfilenumber
dei:entityfilercategory
dei:entityincorporationstatecountrycode
dei:entityinteractivedatacurrent
dei:entitypublicfloat
dei:entityregistrantname
dei:entityshellcompany
dei:entitysmallbusiness
dei:entitytaxidentificationnumber
dei:entityvoluntaryfilers
dei:entitywellknownseasonedissuer
dei:icfrauditorattestationflag
dei:localphonenumber
dei:notradingsymbolflag
dei:security12btitle
dei:securityexchangename
dei:tradingsymbol
divide
enddate
entity
html
identifier
instant
link:schemaref
measure
period
segment
startdate
unit
unitdenominator
unitnumerator
us-gaap:accountspayablecurrent
us-gaap:accountsreceivablenetcurrent
us-gaap:accruedincometaxesnoncurrent
us-gaap:accumulateddepreciationdepletionandamortizationpropertyplantandequipment
us-gaap:accumulatedothercomprehensiveincomelossnetoftax
us-gaap:additionalfinancialinformationdisclosuretextblock
us-gaap:adjustmentsrelatedtotaxwithholdingforsharebasedcompensation
us-gaap:adjustmentstoadditionalpaidincapitalsharebasedcompensationrequisiteserviceperiodrecognitionv
us-gaap:advertisingcostspolicytextblock
us-gaap:allocatedsharebasedcompensationexpense
us-gaap:antidilutivesecuritiesexcludedfromcomputationofearningspershareamount
us-gaap:assets
us-gaap:assetscurrent
us-gaap:assetsnoncurrent
us-gaap:availableforsaledebtsecuritiesaccumulatedgrossunrealizedgainbeforetax
us-gaap:availableforsaledebtsecuritiesaccumulatedgrossunrealizedlossbeforetax
us-gaap:availableforsaledebtsecuritiesamortizedcostbasis
us-gaap:availableforsalesecuritiesdebtmaturitiesrollingafteryeartenfairvalue
us-gaap:availableforsalesecuritiesdebtmaturitiesrollingyearsixthroughtenfairvalue
us-gaap:availableforsalesecuritiesdebtmaturitiesrollingyeartwothroughfivefairvalue
us-gaap:availableforsalesecuritiesdebtmaturitiessinglematuritydate
us-gaap:availableforsalesecuritiesdebtsecurities
us-gaap:basisofaccountingpolicypolicytextblock
us-gaap:basisofpresentationandsignificantaccountingpoliciestextblock
us-gaap:cash
us-gaap:cashandcashequivalentsatcarryingvalue
us-gaap:cashandcashequivalentspolicytextblock
us-gaap:cashcashequivalentsrestrictedcashandrestrictedcashequivalents
us-gaap:cashcashequivalentsrestrictedcashandrestrictedcashequivalentsperiodincreasedecreaseincluding
us-gaap:commercialpaper
us-gaap:commitmentsandcontingencies
us-gaap:commitmentsandcontingenciesdisclosuretextblock
us-gaap:commonstockdividendspersharedeclared
us-gaap:commonstockparorstatedvaluepershare
us-gaap:commonstocksharesauthorized
us-gaap:commonstocksharesissued
us-gaap:commonstocksharesoutstanding
us-gaap:commonstocksincludingadditionalpaidincapital
us-gaap:compensationandemployeebenefitplanstextblock
us-gaap:compensationrelatedcostspolicytextblock
us-gaap:comprehensiveincomenetoftax
us-gaap:concentrationriskpercentage1
us-gaap:contractwithcustomerliability
us-gaap:contractwithcustomerliabilitycurrent
us-gaap:contractwithcustomerliabilityrevenuerecognized
us-gaap:costofgoodsandservicessold
us-gaap:currentfederaltaxexpensebenefit
us-gaap:currentforeigntaxexpensebenefit
us-gaap:currentstateandlocaltaxexpensebenefit
us-gaap:debtdisclosuretextblock
us-gaap:debtinstrumentcarryingamount
us-gaap:debtinstrumentinterestrateeffectivepercentage
us-gaap:debtinstrumentinterestratestatedpercentage
us-gaap:debtinstrumentterm
us-gaap:debtinstrumentunamortizeddiscountpremiumanddebtissuancecostsnet
us-gaap:decreaseinunrecognizedtaxbenefitsisreasonablypossible
us-gaap:deferredfederalincometaxexpensebenefit
us-gaap:deferredforeignincometaxexpensebenefit
us-gaap:deferredincometaxexpensebenefit
us-gaap:deferredincometaxliabilities
us-gaap:deferredstateandlocalincometaxexpensebenefit
us-gaap:deferredtaxassetsdeferredincome
us-gaap:deferredtaxassetsgoodwillandintangibleassets
us-gaap:deferredtaxassetsgross
us-gaap:deferredtaxassetsliabilitiesnet
us-gaap:deferredtaxassetsnet
us-gaap:deferredtaxassetsother
us-gaap:deferredtaxassetstaxcreditcarryforwards
us-gaap:deferredtaxassetstaxcreditcarryforwardsforeign
us-gaap:deferredtaxassetstaxcreditcarryforwardsresearch
us-gaap:deferredtaxassetstaxdeferredexpensereservesandaccruals
us-gaap:deferredtaxassetsvaluationallowance
us-gaap:deferredtaxliabilitiesleasingarrangements
us-gaap:deferredtaxliabilitiesother
us-gaap:deferredtaxliabilitiesothercomprehensiveincome
us-gaap:definedcontributionplanemployermatchingcontributionpercent
us-gaap:definedcontributionplanemployermatchingcontributionpercentofmatch
us-gaap:definedcontributionplanmaximumannualcontributionsperemployeeamount
us-gaap:depreciation
us-gaap:depreciationdepletionandamortization
us-gaap:derivativenotionalamount
us-gaap:derivativespolicytextblock
us-gaap:disaggregationofrevenuetabletextblock
us-gaap:dividends
us-gaap:earningspersharebasic
us-gaap:earningspersharediluted
us-gaap:earningspersharepolicytextblock
us-gaap:effectiveincometaxratecontinuingoperations
us-gaap:effectiveincometaxratereconciliationatfederalstatutoryincometaxrate
us-gaap:effectiveincometaxratereconciliationsharebasedcompensationexcesstaxbenefitamount
us-gaap:effectiveincometaxratereconciliationtaxcutsandjobsactof2017amount
us-gaap:employeeservicesharebasedcompensationnonvestedawardstotalcompensationcostnotyetrecognized
us-gaap:employeeservicesharebasedcompensationnonvestedawardstotalcompensationcostnotyetrecognizedper
us-gaap:employeeservicesharebasedcompensationtaxbenefitfromcompensationexpense
us-gaap:equitysecuritiesfvnicost
us-gaap:equitysecuritiesfvnicurrentandnoncurrent
us-gaap:fairvaluemeasurementpolicypolicytextblock
us-gaap:federalincometaxexpensebenefitcontinuingoperations
us-gaap:financeleaseliability
us-gaap:financeleaseliabilitycurrent
us-gaap:financeleaseliabilitycurrentstatementoffinancialpositionextensiblelist
us-gaap:financeleaseliabilitymaturitytabletextblock
us-gaap:financeleaseliabilitynoncurrent
us-gaap:financeleaseliabilitynoncurrentstatementoffinancialpositionextensiblelist
us-gaap:financeleaseliabilitypaymentsdue
us-gaap:financeleaseliabilitypaymentsdueafteryearfive
us-gaap:financeleaseliabilitypaymentsduenexttwelvemonths
us-gaap:financeleaseliabilitypaymentsdueyearfive
us-gaap:financeleaseliabilitypaymentsdueyearfour
us-gaap:financeleaseliabilitypaymentsdueyearthree
us-gaap:financeleaseliabilitypaymentsdueyeartwo
us-gaap:financeleaseliabilityundiscountedexcessamount
us-gaap:financeleaserightofuseasset
us-gaap:financeleaserightofuseassetstatementoffinancialpositionextensiblelist
us-gaap:financialinstrumentsdisclosuretextblock
us-gaap:fiscalperiod
us-gaap:foreignincometaxexpensebenefitcontinuingoperations
us-gaap:grossprofit
us-gaap:hedgedassetfairvaluehedge
us-gaap:hedgedliabilityfairvaluehedge
us-gaap:incomelossfromcontinuingoperationsbeforeincometaxesextraordinaryitemsnoncontrollinginterest
us-gaap:incomelossfromcontinuingoperationsbeforeincometaxesforeign
us-gaap:incometaxdisclosuretextblock
us-gaap:incometaxespaidnet
us-gaap:incometaxexpensebenefit
us-gaap:incometaxpolicytextblock
us-gaap:incometaxreconciliationforeignincometaxratedifferential
us-gaap:incometaxreconciliationincometaxexpensebenefitatfederalstatutoryincometaxrate
us-gaap:incometaxreconciliationotheradjustments
us-gaap:incometaxreconciliationstateandlocalincometaxes
us-gaap:incometaxreconciliationtaxcreditsresearch
us-gaap:increasedecreaseinaccountspayable
us-gaap:increasedecreaseinaccountsreceivable
us-gaap:increasedecreaseincontractwithcustomerliability
us-gaap:increasedecreaseininventories
us-gaap:increasedecreaseinotheroperatingassets
us-gaap:increasedecreaseinotheroperatingliabilities
us-gaap:increasedecreaseinotherreceivables
us-gaap:interestandotherincometabletextblock
us-gaap:interestexpense
us-gaap:interestexpensedebt
us-gaap:interestpaidnet
us-gaap:inventorynet
us-gaap:inventorypolicytextblock
us-gaap:investmentincomeinterestanddividend
us-gaap:investmentsclassifiedbycontractualmaturitydatetabletextblock
us-gaap:lesseefinanceleasestextblock
us-gaap:lesseeleasespolicytextblock
us-gaap:lesseeoperatingleaseliabilitymaturitytabletextblock
us-gaap:lesseeoperatingleaseliabilitypaymentsdue
us-gaap:lesseeoperatingleaseliabilitypaymentsdueafteryearfive
us-gaap:lesseeoperatingleaseliabilitypaymentsduenexttwelvemonths
us-gaap:lesseeoperatingleaseliabilitypaymentsdueyearfive
us-gaap:lesseeoperatingleaseliabilitypaymentsdueyearfour
us-gaap:lesseeoperatingleaseliabilitypaymentsdueyearthree
us-gaap:lesseeoperatingleaseliabilitypaymentsdueyeartwo
us-gaap:lesseeoperatingleaseliabilityundiscountedexcessamount
us-gaap:lesseeoperatingleasestextblock
us-gaap:liabilities
us-gaap:liabilitiesandstockholdersequity
us-gaap:liabilitiescurrent
us-gaap:liabilitiesnoncurrent
us-gaap:litigationsettlementamountawardedtootherparty
us-gaap:longtermdebtcurrent
us-gaap:longtermdebtfairvalue
us-gaap:longtermdebtmaturitiesrepaymentsofprincipalafteryearfive
us-gaap:longtermdebtmaturitiesrepaymentsofprincipalinnexttwelvemonths
us-gaap:longtermdebtmaturitiesrepaymentsofprincipalinyearfive
us-gaap:longtermdebtmaturitiesrepaymentsofprincipalinyearfour
us-gaap:longtermdebtmaturitiesrepaymentsofprincipalinyearthree
us-gaap:longtermdebtmaturitiesrepaymentsofprincipalinyeartwo
us-gaap:longtermdebtnoncurrent
us-gaap:losscontingencyestimateofpossibleloss
us-gaap:marketablesecuritiescurrent
us-gaap:marketablesecuritiesnoncurrent
us-gaap:marketablesecuritiespolicy
us-gaap:maximumlengthoftimeforeigncurrencycashflowhedge
us-gaap:netcashprovidedbyusedinfinancingactivities
us-gaap:netcashprovidedbyusedininvestingactivities
us-gaap:netcashprovidedbyusedinoperatingactivities
us-gaap:netincomeloss
us-gaap:newaccountingpronouncementspolicypolicytextblock
us-gaap:noncurrentassets
us-gaap:nonoperatingincomeexpense
us-gaap:nontradereceivablescurrent
us-gaap:operatingexpenses
us-gaap:operatingincomeloss
us-gaap:operatingleasecost
us-gaap:operatingleaseliability
us-gaap:operatingleaseliabilitycurrent
us-gaap:operatingleaseliabilitycurrentstatementoffinancialpositionextensiblelist
us-gaap:operatingleaseliabilitynoncurrent
us-gaap:operatingleaseliabilitynoncurrentstatementoffinancialpositionextensiblelist
us-gaap:operatingleasepayments
us-gaap:operatingleaserightofuseasset
us-gaap:operatingleaserightofuseassetstatementoffinancialpositionextensiblelist
us-gaap:operatingleasesrentexpensenet
us-gaap:otheraccruedliabilitiesnoncurrent
us-gaap:otherassetscurrent
us-gaap:otherassetsnoncurrent
us-gaap:othercomprehensiveincomelossavailableforsalesecuritiesadjustmentnetoftax
us-gaap:othercomprehensiveincomelossderivativesqualifyingashedgesnetoftax
us-gaap:othercomprehensiveincomelossforeigncurrencytransactionandtranslationadjustmentnetoftax
us-gaap:othercomprehensiveincomelossnetoftaxportionattributabletoparent
us-gaap:othercomprehensiveincomelossreclassificationadjustmentfromaociforsaleofsecuritiesnetoftax
us-gaap:othercomprehensiveincomelossreclassificationadjustmentfromaocionderivativesnetoftax
us-gaap:othercomprehensiveincomeunrealizedgainlossonderivativesarisingduringperiodnetoftax
us-gaap:othercomprehensiveincomeunrealizedholdinggainlossonsecuritiesarisingduringperiodnetoftax
us-gaap:othergeneralandadministrativeexpense
us-gaap:otherliabilitiescurrent
us-gaap:otherliabilitiesnoncurrent
us-gaap:othernoncashincomeexpense
us-gaap:othernoncurrentliabilitiestabletextblock
us-gaap:othernonoperatingincomeexpense
us-gaap:paymentsforproceedsfromotherinvestingactivities
us-gaap:paymentsforrepurchaseofcommonstock
us-gaap:paymentsofdividends
us-gaap:paymentsrelatedtotaxwithholdingforsharebasedcompensation
us-gaap:paymentstoacquireavailableforsalesecuritiesdebt
us-gaap:paymentstoacquirebusinessesnetofcashacquired
us-gaap:paymentstoacquireotherinvestments
us-gaap:paymentstoacquirepropertyplantandequipment
us-gaap:proceedsfromissuanceofcommonstock
us-gaap:proceedsfromissuanceoflongtermdebt
us-gaap:proceedsfrommaturitiesprepaymentsandcallsofavailableforsalesecurities
us-gaap:proceedsfromothershorttermdebt
us-gaap:proceedsfrompaymentsforotherfinancingactivities
us-gaap:proceedsfromrepaymentsofcommercialpaper
us-gaap:proceedsfromrepaymentsofshorttermdebtmaturinginmorethanthreemonths
us-gaap:proceedsfromrepaymentsofshorttermdebtmaturinginthreemonthsorless
us-gaap:proceedsfromsaleandmaturityofotherinvestments
us-gaap:proceedsfromsaleofavailableforsalesecuritiesdebt
us-gaap:proceedsfromshorttermdebtmaturinginmorethanthreemonths
us-gaap:propertyplantandequipmentgross
us-gaap:propertyplantandequipmentnet
us-gaap:propertyplantandequipmentpolicytextblock
us-gaap:propertyplantandequipmenttextblock
us-gaap:propertyplantandequipmentusefullife
us-gaap:reconciliationofoperatingprofitlossfromsegmentstoconsolidatedtextblock
us-gaap:repaymentsoflongtermdebt
us-gaap:repaymentsofothershorttermdebt
us-gaap:repaymentsofshorttermdebtmaturinginmorethanthreemonths
us-gaap:researchanddevelopmentexpense
us-gaap:restrictedinvestments
us-gaap:retainedearningsaccumulateddeficit
us-gaap:revenuefromcontractwithcustomerexcludingassessedtax
us-gaap:revenuefromcontractwithcustomertextblock
us-gaap:revenuerecognitionpolicytextblock
us-gaap:revenueremainingperformanceobligationexpectedtimingofsatisfactionperiod1
us-gaap:revenueremainingperformanceobligationexpectedtimingofsatisfactionstartdateaxis.domain
us-gaap:revenueremainingperformanceobligationpercentage
us-gaap:scheduleofcashcashequivalentsandshortterminvestmentstabletextblock
us-gaap:scheduleofcomponentsofincometaxexpensebenefittabletextblock
us-gaap:scheduleofdebtinstrumentstextblock
us-gaap:scheduleofdeferredtaxassetsandliabilitiestabletextblock
us-gaap:scheduleofearningspersharebasicanddilutedtabletextblock
us-gaap:scheduleofeffectiveincometaxratereconciliationtabletextblock
us-gaap:scheduleofemployeeservicesharebasedcompensationallocationofrecognizedperiodcoststextblock
us-gaap:scheduleoffairvaluehedginginstrumentsstatementsoffinancialperformanceandfinancialpositionloc
us-gaap:scheduleofmaturitiesoflongtermdebttabletextblock
us-gaap:scheduleofnonvestedrestrictedstockunitsactivitytabletextblock
us-gaap:scheduleofnotionalamountsofoutstandingderivativepositionstabletextblock
us-gaap:scheduleofproductwarrantyliabilitytabletextblock
us-gaap:scheduleofrevenuesfromexternalcustomersandlonglivedassetsbygeographicalareastabletextblock
us-gaap:scheduleofsegmentreportinginformationbysegmenttextblock
us-gaap:scheduleofstockbyclasstextblock
us-gaap:scheduleofunrecognizedtaxbenefitsrollforwardtabletextblock
us-gaap:segmentreportingdisclosuretextblock
us-gaap:segmentreportingpolicypolicytextblock
us-gaap:sellinggeneralandadministrativeexpense
us-gaap:sharebasedcompensation
us-gaap:sharebasedcompensationarrangementbysharebasedpaymentawardawardvestingperiod1
us-gaap:sharebasedcompensationarrangementbysharebasedpaymentawardequityinstrumentsotherthanoptionsag
us-gaap:sharebasedcompensationarrangementbysharebasedpaymentawardequityinstrumentsotherthanoptionsfo
us-gaap:sharebasedcompensationarrangementbysharebasedpaymentawardequityinstrumentsotherthanoptionsgr
us-gaap:sharebasedcompensationarrangementbysharebasedpaymentawardequityinstrumentsotherthanoptionsno
us-gaap:sharebasedcompensationarrangementbysharebasedpaymentawardequityinstrumentsotherthanoptionsve
us-gaap:sharebasedcompensationarrangementbysharebasedpaymentawardmaximumemployeesubscriptionrate
us-gaap:sharebasedcompensationarrangementbysharebasedpaymentawardnumberofsharesavailableforgrant
us-gaap:sharebasedcompensationarrangementbysharebasedpaymentawardpurchasepriceofcommonstockpercent
us-gaap:sharespaidfortaxwithholdingforsharebasedcompensation
us-gaap:shorttermdebtweightedaverageinterestrate
us-gaap:standardproductwarrantyaccrual
us-gaap:standardproductwarrantyaccrualpayments
us-gaap:standardproductwarrantyaccrualwarrantiesissued
us-gaap:stateandlocalincometaxexpensebenefitcontinuingoperations
us-gaap:stockholdersequity
us-gaap:stockholdersequitynotedisclosuretextblock
us-gaap:stockissuedduringperiodvaluenewissues
us-gaap:stockrepurchasedandretiredduringperiodshares
us-gaap:stockrepurchasedandretiredduringperiodvalue
us-gaap:stockrepurchaseprogramauthorizedamount1
us-gaap:unrecognizedtaxbenefits
us-gaap:unrecognizedtaxbenefitsdecreasesresultingfrompriorperiodtaxpositions
us-gaap:unrecognizedtaxbenefitsdecreasesresultingfromsettlementswithtaxingauthorities
us-gaap:unrecognizedtaxbenefitsincometaxpenaltiesandinterestaccrued
us-gaap:unrecognizedtaxbenefitsincometaxpenaltiesandinterestexpense
us-gaap:unrecognizedtaxbenefitsincreasesresultingfromcurrentperiodtaxpositions
us-gaap:unrecognizedtaxbenefitsincreasesresultingfrompriorperiodtaxpositions
us-gaap:unrecognizedtaxbenefitsreductionsresultingfromlapseofapplicablestatuteoflimitations
us-gaap:unrecognizedtaxbenefitsthatwouldimpacteffectivetaxrate
us-gaap:unrecordedunconditionalpurchaseobligationbalanceonfifthanniversary
us-gaap:unrecordedunconditionalpurchaseobligationbalanceonfirstanniversary
us-gaap:unrecordedunconditionalpurchaseobligationbalanceonfourthanniversary
us-gaap:unrecordedunconditionalpurchaseobligationbalanceonsecondanniversary
us-gaap:unrecordedunconditionalpurchaseobligationbalanceonthirdanniversary
us-gaap:unrecordedunconditionalpurchaseobligationbalancesheetamount
us-gaap:unrecordedunconditionalpurchaseobligationdueafterfiveyears
us-gaap:unrecordedunconditionalpurchaseobligationsdisclosuretextblock
us-gaap:variableleasecost
us-gaap:weightedaveragenumberdilutedsharesoutstandingadjustment
us-gaap:weightedaveragenumberofdilutedsharesoutstanding
us-gaap:weightedaveragenumberofsharesoutstandingbasic
xbrl
xbrldi:explicitmember
xbrldi:typedmember
/tmp/ipython-input-94-2064203530.py:6: XMLParsedAsHTMLWarning: It looks like you're using an HTML parser to parse an XML document.

Assuming this really is an XML document, what you're doing might work, but you should know that using an XML parser will be more reliable. To parse this document as XML, make sure you have the Python package 'lxml' installed, and pass the keyword argument `features="xml"` into the BeautifulSoup constructor.

If you want or need to use an HTML parser on this document, you can make this warning go away by filtering it. To do that, run this code before calling the BeautifulSoup constructor:

    from bs4 import XMLParsedAsHTMLWarning
    import warnings

    warnings.filterwarnings("ignore", category=XMLParsedAsHTMLWarning)

  soup = BeautifulSoup(f, "lxml")
```

---

### 🔹 Code Cell 90 [Execution: 108]

```python
from bs4 import BeautifulSoup
import pandas as pd
from google.colab import files
```

---

### 🔹 Code Cell 91 [Execution: 113]

```python
uploaded = files.upload()
```

**Output:**
```
<IPython.core.display.HTML object>
Saving aapl-20210925_htm.xml to aapl-20210925_htm (2).xml
Saving aapl-20220924_htm.xml to aapl-20220924_htm (2).xml
Saving aapl-20230930_htm.xml to aapl-20230930_htm (4).xml
```

---

### 🔹 Code Cell 92 [Execution: 117]

```python
import glob

# Only pick Apple filings ending with _htm.xml
files = sorted(glob.glob("aapl-*_htm.xml"))

print(f"✅ Found {len(files)} files:")
for f in files:
    print(" -", f)
```

**Output:**
```
✅ Found 3 files:
 - aapl-20210925_htm.xml
 - aapl-20220924_htm.xml
 - aapl-20230930_htm.xml
```

---

### 🔹 Code Cell 93 [Execution: 120]

```python
from bs4 import BeautifulSoup
import glob

# Collect only aapl-*_htm.xml files in current directory
xml_files = sorted(glob.glob("aapl-*_htm.xml"))

if not xml_files:
    print("⚠️ No matching files found.")
else:
    print(f"✅ Found {len(xml_files)} files:")
    for f in xml_files:
        print(f" - {f}")

# Dictionary to hold all tags per file
all_file_tags = {}

# Process each file
for file in xml_files:
    with open(file, "r", encoding="utf-8") as f:
        soup = BeautifulSoup(f, "xml")

    # Get all unique tag names
    tags = sorted({tag.name for tag in soup.find_all()})
    all_file_tags[file] = tags

# Display all tags found in each file
for file, tags in all_file_tags.items():
    print(f"\n✅ {file} has {len(tags)} unique tags:")
    print(tags)
```

**Output:**
```
✅ Found 3 files:
 - aapl-20210925_htm.xml
 - aapl-20220924_htm.xml
 - aapl-20230930_htm.xml

✅ aapl-20210925_htm.xml has 415 unique tags:
['AccountsPayableCurrent', 'AccountsReceivableNetCurrent', 'AccruedIncomeTaxesNoncurrent', 'AccumulatedDepreciationDepletionAndAmortizationPropertyPlantAndEquipment', 'AccumulatedOtherComprehensiveIncomeLossNetOfTax', 'AdditionalFinancialInformationDisclosureTextBlock', 'AdjustmentsRelatedToTaxWithholdingForShareBasedCompensation', 'AdjustmentsToAdditionalPaidInCapitalSharebasedCompensationRequisiteServicePeriodRecognitionValue', 'AdvertisingCostsPolicyTextBlock', 'AllocatedShareBasedCompensationExpense', 'AmendmentFlag', 'AmountUtilizedUnderShareRepurchaseProgram', 'AntidilutiveSecuritiesExcludedFromComputationOfEarningsPerShareAmount', 'Assets', 'AssetsCurrent', 'AssetsNoncurrent', 'AvailableForSaleDebtSecuritiesAccumulatedGrossUnrealizedGainBeforeTax', 'AvailableForSaleDebtSecuritiesAccumulatedGrossUnrealizedLossBeforeTax', 'AvailableForSaleDebtSecuritiesAmortizedCostBasis', 'AvailableForSaleSecuritiesDebtMaturitiesRollingAfterYearTenFairValue', 'AvailableForSaleSecuritiesDebtMaturitiesRollingYearSixThroughTenFairValue', 'AvailableForSaleSecuritiesDebtMaturitiesRollingYearTwoThroughFiveFairValue', 'AvailableForSaleSecuritiesDebtMaturitiesSingleMaturityDate', 'AvailableForSaleSecuritiesDebtSecurities', 'BasisOfAccountingPolicyPolicyTextBlock', 'BasisOfPresentationAndSignificantAccountingPoliciesTextBlock', 'Cash', 'CashAndCashEquivalentsAtCarryingValue', 'CashAndCashEquivalentsPolicyTextBlock', 'CashCashEquivalentsAndMarketableSecurities', 'CashCashEquivalentsAndMarketableSecuritiesCost', 'CashCashEquivalentsRestrictedCashAndRestrictedCashEquivalents', 'CashCashEquivalentsRestrictedCashAndRestrictedCashEquivalentsPeriodIncreaseDecreaseIncludingExchangeRateEffect', 'CashEquivalentsAndMarketableSecuritiesAccumulatedGrossUnrealizedGainBeforeTax', 'CashEquivalentsAndMarketableSecuritiesAccumulatedGrossUnrealizedLossBeforeTax', 'CityAreaCode', 'CommercialPaper', 'CommercialPaperCashFlowSummaryTableTextBlock', 'CommitmentsAndContingencies', 'CommitmentsAndContingenciesDisclosureTextBlock', 'CommonStockDividendsPerShareDeclared', 'CommonStockParOrStatedValuePerShare', 'CommonStockSharesAuthorized', 'CommonStockSharesIssued', 'CommonStockSharesOutstanding', 'CommonStocksIncludingAdditionalPaidInCapital', 'CompensationAndEmployeeBenefitPlansTextBlock', 'CompensationRelatedCostsPolicyTextBlock', 'ComprehensiveIncomeNetOfTax', 'ConcentrationRiskPercentage1', 'ContractWithCustomerLiability', 'ContractWithCustomerLiabilityCurrent', 'ContractWithCustomerLiabilityRevenueRecognized', 'CostOfGoodsAndServicesSold', 'CurrentFederalTaxExpenseBenefit', 'CurrentFiscalYearEndDate', 'CurrentForeignTaxExpenseBenefit', 'CurrentStateAndLocalTaxExpenseBenefit', 'DebtDisclosureTextBlock', 'DebtInstrumentCarryingAmount', 'DebtInstrumentInterestRateEffectivePercentage', 'DebtInstrumentInterestRateStatedPercentage', 'DebtInstrumentMaturityYearRangeEnd', 'DebtInstrumentMaturityYearRangeStart', 'DebtInstrumentTerm', 'DebtInstrumentUnamortizedDiscountPremiumAndDebtIssuanceCostsNet', 'DecreaseInUnrecognizedTaxBenefitsIsReasonablyPossible', 'DeferredFederalIncomeTaxExpenseBenefit', 'DeferredForeignIncomeTaxExpenseBenefit', 'DeferredIncomeTaxExpenseBenefit', 'DeferredIncomeTaxLiabilities', 'DeferredStateAndLocalIncomeTaxExpenseBenefit', 'DeferredTaxAssetsDeferredIncome', 'DeferredTaxAssetsGoodwillAndIntangibleAssets', 'DeferredTaxAssetsGross', 'DeferredTaxAssetsLeaseLiabilities', 'DeferredTaxAssetsLiabilitiesNet', 'DeferredTaxAssetsNet', 'DeferredTaxAssetsOther', 'DeferredTaxAssetsTaxCreditCarryforwards', 'DeferredTaxAssetsTaxCreditCarryforwardsForeign', 'DeferredTaxAssetsTaxCreditCarryforwardsResearch', 'DeferredTaxAssetsTaxDeferredExpenseReservesAndAccruals', 'DeferredTaxAssetsValuationAllowance', 'DeferredTaxLiabilitiesLeasingArrangements', 'DeferredTaxLiabilitiesMinimumTaxonForeignEarnings', 'DeferredTaxLiabilitiesOther', 'DeferredTaxLiabilitiesOtherComprehensiveIncome', 'DefinedContributionPlanEmployerMatchingContributionPercent', 'DefinedContributionPlanEmployerMatchingContributionPercentOfMatch', 'DefinedContributionPlanMaximumAnnualContributionsPerEmployeeAmount', 'Depreciation', 'DepreciationDepletionAndAmortization', 'DerivativeNotionalAmount', 'DerivativesPolicyTextBlock', 'DisaggregationOfRevenueTableTextBlock', 'Dividends', 'DocumentAnnualReport', 'DocumentFiscalPeriodFocus', 'DocumentFiscalYearFocus', 'DocumentPeriodEndDate', 'DocumentTransitionReport', 'DocumentType', 'EarningsPerShareBasic', 'EarningsPerShareDiluted', 'EarningsPerSharePolicyTextBlock', 'EffectiveIncomeTaxRateContinuingOperations', 'EffectiveIncomeTaxRateReconciliationAtFederalStatutoryIncomeTaxRate', 'EffectiveIncomeTaxRateReconciliationForeignDerivedIntangibleIncomeDeductionAmount', 'EffectiveIncomeTaxRateReconciliationShareBasedCompensationExcessTaxBenefitAmount', 'EffectiveIncomeTaxRateReconciliationTaxCutsAndJobsActOf2017Amount', 'EmployeeServiceShareBasedCompensationNonvestedAwardsTotalCompensationCostNotYetRecognized', 'EmployeeServiceShareBasedCompensationNonvestedAwardsTotalCompensationCostNotYetRecognizedPeriodForRecognition1', 'EmployeeServiceShareBasedCompensationTaxBenefitFromCompensationExpense', 'EmployeeStockPurchasePlanMaximumAnnualPurchasesPerEmployeeAmount', 'EntityAddressAddressLine1', 'EntityAddressCityOrTown', 'EntityAddressPostalZipCode', 'EntityAddressStateOrProvince', 'EntityCentralIndexKey', 'EntityCommonStockSharesOutstanding', 'EntityCurrentReportingStatus', 'EntityEmergingGrowthCompany', 'EntityFileNumber', 'EntityFilerCategory', 'EntityIncorporationStateCountryCode', 'EntityInteractiveDataCurrent', 'EntityPublicFloat', 'EntityRegistrantName', 'EntityShellCompany', 'EntitySmallBusiness', 'EntityTaxIdentificationNumber', 'EntityVoluntaryFilers', 'EntityWellKnownSeasonedIssuer', 'EquitySecuritiesFVNIAccumulatedGrossUnrealizedGainBeforeTax', 'EquitySecuritiesFVNIAccumulatedGrossUnrealizedLossBeforeTax', 'EquitySecuritiesFvNiCost', 'EquitySecuritiesFvNiCurrentAndNoncurrent', 'FactorByWhichEachRSUGrantedReducesAndEachRSUCanceledOrShareWithheldForTaxesIncreasesSharesAvailableForGrant', 'FairValueMeasurementPolicyPolicyTextBlock', 'FederalIncomeTaxExpenseBenefitContinuingOperations', 'FinanceLeaseLiability', 'FinanceLeaseLiabilityCurrent', 'FinanceLeaseLiabilityCurrentStatementOfFinancialPositionExtensibleList', 'FinanceLeaseLiabilityMaturityTableTextBlock', 'FinanceLeaseLiabilityNoncurrent', 'FinanceLeaseLiabilityNoncurrentStatementOfFinancialPositionExtensibleList', 'FinanceLeaseLiabilityPaymentsDue', 'FinanceLeaseLiabilityPaymentsDueAfterYearFive', 'FinanceLeaseLiabilityPaymentsDueNextTwelveMonths', 'FinanceLeaseLiabilityPaymentsDueYearFive', 'FinanceLeaseLiabilityPaymentsDueYearFour', 'FinanceLeaseLiabilityPaymentsDueYearThree', 'FinanceLeaseLiabilityPaymentsDueYearTwo', 'FinanceLeaseLiabilityUndiscountedExcessAmount', 'FinanceLeaseRightOfUseAsset', 'FinanceLeaseRightOfUseAssetStatementOfFinancialPositionExtensibleList', 'FinancialInstrumentsDisclosureTextBlock', 'FiscalPeriod', 'ForeignIncomeTaxExpenseBenefitContinuingOperations', 'GrossProfit', 'HedgeAccountingAdjustmentsRelatedToTermDebt', 'HedgedAssetFairValueHedge', 'HedgedLiabilityFairValueHedge', 'IcfrAuditorAttestationFlag', 'IncomeLossFromContinuingOperationsBeforeIncomeTaxesExtraordinaryItemsNoncontrollingInterest', 'IncomeLossFromContinuingOperationsBeforeIncomeTaxesForeign', 'IncomeTaxContingencyNumberOfSubsidiaries', 'IncomeTaxDisclosureTextBlock', 'IncomeTaxExpenseBenefit', 'IncomeTaxPolicyTextBlock', 'IncomeTaxReconciliationForeignIncomeTaxRateDifferential', 'IncomeTaxReconciliationIncomeTaxExpenseBenefitAtFederalStatutoryIncomeTaxRate', 'IncomeTaxReconciliationOtherAdjustments', 'IncomeTaxReconciliationStateAndLocalIncomeTaxes', 'IncomeTaxReconciliationTaxCreditsResearch', 'IncomeTaxesPaidNet', 'IncreaseDecreaseInAccountsPayable', 'IncreaseDecreaseInAccountsReceivable', 'IncreaseDecreaseInContractWithCustomerLiability', 'IncreaseDecreaseInInventories', 'IncreaseDecreaseInOtherOperatingAssets', 'IncreaseDecreaseInOtherOperatingLiabilities', 'IncreaseDecreaseInOtherReceivables', 'InterestAndOtherIncomeTableTextBlock', 'InterestExpense', 'InterestExpenseDebt', 'InterestPaidNet', 'InventoryNet', 'InventoryPolicyTextBlock', 'InvestmentIncomeInterestAndDividend', 'InvestmentsClassifiedByContractualMaturityDateTableTextBlock', 'LesseeFinanceLeasesTextBlock', 'LesseeLeasesPolicyTextBlock', 'LesseeOperatingAndFinanceLeaseLeaseNotYetCommencedPaymentsDue', 'LesseeOperatingAndFinanceLeaseLeaseNotYetCommencedTermOfContract', 'LesseeOperatingAndFinanceLeaseLiabilityToBePaidAfterYearFive', 'LesseeOperatingAndFinanceLeaseLiabilityToBePaidYearFive', 'LesseeOperatingAndFinanceLeaseLiabilityToBePaidYearFour', 'LesseeOperatingAndFinanceLeaseLiabilityToBePaidYearOne', 'LesseeOperatingAndFinanceLeaseLiabilityToBePaidYearThree', 'LesseeOperatingAndFinanceLeaseLiabilityToBePaidYearTwo', 'LesseeOperatingLeaseLiabilityMaturityTableTextBlock', 'LesseeOperatingLeaseLiabilityPaymentsDue', 'LesseeOperatingLeaseLiabilityPaymentsDueAfterYearFive', 'LesseeOperatingLeaseLiabilityPaymentsDueNextTwelveMonths', 'LesseeOperatingLeaseLiabilityPaymentsDueYearFive', 'LesseeOperatingLeaseLiabilityPaymentsDueYearFour', 'LesseeOperatingLeaseLiabilityPaymentsDueYearThree', 'LesseeOperatingLeaseLiabilityPaymentsDueYearTwo', 'LesseeOperatingLeaseLiabilityUndiscountedExcessAmount', 'LesseeOperatingLeasesTextBlock', 'LesseeOperatingandFinanceLeaseLiabilityPaymentsDue', 'LesseeOperatingandFinanceLeaseLiabilityUndiscountedExcessAmount', 'LesseeOperatingandFinanceLeaseTermofContract', 'Liabilities', 'LiabilitiesAndStockholdersEquity', 'LiabilitiesCurrent', 'LiabilitiesNoncurrent', 'LitigationSettlementAmountAwardedToOtherParty', 'LocalPhoneNumber', 'LongTermDebtCurrent', 'LongTermDebtFairValue', 'LongTermDebtMaturitiesRepaymentsOfPrincipalAfterYearFive', 'LongTermDebtMaturitiesRepaymentsOfPrincipalInNextTwelveMonths', 'LongTermDebtMaturitiesRepaymentsOfPrincipalInYearFive', 'LongTermDebtMaturitiesRepaymentsOfPrincipalInYearFour', 'LongTermDebtMaturitiesRepaymentsOfPrincipalInYearThree', 'LongTermDebtMaturitiesRepaymentsOfPrincipalInYearTwo', 'LongTermDebtNoncurrent', 'LossContingencyEstimateOfPossibleLoss', 'MarketableSecuritiesCurrent', 'MarketableSecuritiesNoncurrent', 'MarketableSecuritiesPolicy', 'MaximumLengthOfTimeForeignCurrencyCashFlowHedge', 'NetCashProvidedByUsedInFinancingActivities', 'NetCashProvidedByUsedInInvestingActivities', 'NetCashProvidedByUsedInOperatingActivities', 'NetIncomeLoss', 'NewAccountingPronouncementsPolicyPolicyTextBlock', 'NoTradingSymbolFlag', 'NonCashActivitiesInvolvingPropertyPlantandEquipmentNetIncreaseDecreasetoAccountsPayableandOtherCurrentLiabilities', 'NoncurrentAssets', 'NonoperatingIncomeExpense', 'NontradeReceivablesCurrent', 'NumberOfCustomersWithSignificantAccountsReceivableBalance', 'NumberOfSignificantVendors', 'OperatingExpenses', 'OperatingIncomeLoss', 'OperatingLeaseCost', 'OperatingLeaseLiability', 'OperatingLeaseLiabilityCurrent', 'OperatingLeaseLiabilityCurrentStatementOfFinancialPositionExtensibleList', 'OperatingLeaseLiabilityNoncurrent', 'OperatingLeaseLiabilityNoncurrentStatementOfFinancialPositionExtensibleList', 'OperatingLeasePayments', 'OperatingLeaseRightOfUseAsset', 'OperatingLeaseRightOfUseAssetStatementOfFinancialPositionExtensibleList', 'OperatingLeasesRentExpenseNet', 'OperatingandFinanceLeaseLiability', 'OperatingandFinanceLeaseRightofUseAsset', 'OperatingandFinanceLeaseRightofUseAssetsandLeaseLiabilitiesTableTextBlock', 'OperatingandFinanceLeaseWeightedAverageDiscountRatePercent', 'OperatingandFinanceLeaseWeightedAverageRemainingLeaseTerm', 'OtherAccruedLiabilitiesNoncurrent', 'OtherAssetsCurrent', 'OtherAssetsNoncurrent', 'OtherComprehensiveIncomeLossAvailableForSaleSecuritiesAdjustmentNetOfTax', 'OtherComprehensiveIncomeLossDerivativeInstrumentGainLossReclassificationAfterTax', 'OtherComprehensiveIncomeLossDerivativeInstrumentGainLossafterReclassificationandTax', 'OtherComprehensiveIncomeLossDerivativeInstrumentGainLossbeforeReclassificationafterTax', 'OtherComprehensiveIncomeLossDerivativesQualifyingAsHedgesNetOfTax', 'OtherComprehensiveIncomeLossForeignCurrencyTransactionAndTranslationAdjustmentNetOfTax', 'OtherComprehensiveIncomeLossNetOfTaxPortionAttributableToParent', 'OtherComprehensiveIncomeLossReclassificationAdjustmentFromAOCIForSaleOfSecuritiesNetOfTax', 'OtherComprehensiveIncomeLossReclassificationAdjustmentFromAOCIOnDerivativesNetOfTax', 'OtherComprehensiveIncomeUnrealizedGainLossOnDerivativesArisingDuringPeriodNetOfTax', 'OtherComprehensiveIncomeUnrealizedHoldingGainLossOnSecuritiesArisingDuringPeriodNetOfTax', 'OtherGeneralAndAdministrativeExpense', 'OtherLiabilitiesCurrent', 'OtherLiabilitiesNoncurrent', 'OtherNoncashIncomeExpense', 'OtherNoncurrentLiabilitiesTableTextBlock', 'OtherNonoperatingIncomeExpense', 'PaymentsForProceedsFromOtherInvestingActivities', 'PaymentsForRepurchaseOfCommonStock', 'PaymentsOfDividends', 'PaymentsRelatedToTaxWithholdingForShareBasedCompensation', 'PaymentsToAcquireAvailableForSaleSecuritiesDebt', 'PaymentsToAcquireBusinessesNetOfCashAcquired', 'PaymentsToAcquireOtherInvestments', 'PaymentsToAcquirePropertyPlantAndEquipment', 'PerformanceObligationsinArrangements', 'ProceedsFromIssuanceOfCommonStock', 'ProceedsFromIssuanceOfLongTermDebt', 'ProceedsFromMaturitiesPrepaymentsAndCallsOfAvailableForSaleSecurities', 'ProceedsFromOtherShortTermDebt', 'ProceedsFromPaymentsForOtherFinancingActivities', 'ProceedsFromRepaymentsOfCommercialPaper', 'ProceedsFromRepaymentsOfShortTermDebtMaturingInMoreThanThreeMonths', 'ProceedsFromRepaymentsOfShortTermDebtMaturingInThreeMonthsOrLess', 'ProceedsFromSaleAndMaturityOfOtherInvestments', 'ProceedsFromSaleOfAvailableForSaleSecuritiesDebt', 'ProceedsFromShortTermDebtMaturingInMoreThanThreeMonths', 'PropertyPlantAndEquipmentGross', 'PropertyPlantAndEquipmentNet', 'PropertyPlantAndEquipmentPolicyTextBlock', 'PropertyPlantAndEquipmentTextBlock', 'PropertyPlantAndEquipmentUsefulLife', 'ReconciliationOfOperatingProfitLossFromSegmentsToConsolidatedTextBlock', 'RepaymentsOfLongTermDebt', 'RepaymentsOfOtherShortTermDebt', 'RepaymentsOfShortTermDebtMaturingInMoreThanThreeMonths', 'ResearchAndDevelopmentExpense', 'RestrictedCashandRestrictedMarketableSecuritiesPolicyTextBlock', 'RestrictedInvestments', 'RetainedEarningsAccumulatedDeficit', 'RevenueFromContractWithCustomerExcludingAssessedTax', 'RevenueFromContractWithCustomerTextBlock', 'RevenueRecognitionPolicyTextBlock', 'RevenueRemainingPerformanceObligationExpectedTimingOfSatisfactionPeriod1', 'RevenueRemainingPerformanceObligationExpectedTimingOfSatisfactionStartDateAxis.domain', 'RevenueRemainingPerformanceObligationPercentage', 'RightofUseAssetsObtainedinExchangeforOperatingandFinanceLeaseLiabilities', 'ScheduleOfCashCashEquivalentsAndShortTermInvestmentsTableTextBlock', 'ScheduleOfComponentsOfIncomeTaxExpenseBenefitTableTextBlock', 'ScheduleOfDebtInstrumentsTextBlock', 'ScheduleOfDeferredTaxAssetsAndLiabilitiesTableTextBlock', 'ScheduleOfEarningsPerShareBasicAndDilutedTableTextBlock', 'ScheduleOfEffectiveIncomeTaxRateReconciliationTableTextBlock', 'ScheduleOfEmployeeServiceShareBasedCompensationAllocationOfRecognizedPeriodCostsTextBlock', 'ScheduleOfFairValueHedgingInstrumentsStatementsOfFinancialPerformanceAndFinancialPositionLocationTableTextBlock', 'ScheduleOfMaturitiesOfLongTermDebtTableTextBlock', 'ScheduleOfNonvestedRestrictedStockUnitsActivityTableTextBlock', 'ScheduleOfNotionalAmountsOfOutstandingDerivativePositionsTableTextBlock', 'ScheduleOfProductWarrantyLiabilityTableTextBlock', 'ScheduleOfRevenuesFromExternalCustomersAndLongLivedAssetsByGeographicalAreasTableTextBlock', 'ScheduleOfSegmentReportingInformationBySegmentTextBlock', 'ScheduleOfStockByClassTextBlock', 'ScheduleOfUnrecognizedTaxBenefitsRollForwardTableTextBlock', 'Security12bTitle', 'SecurityExchangeName', 'SegmentReportingDisclosureTextBlock', 'SegmentReportingPolicyPolicyTextBlock', 'SellingGeneralAndAdministrativeExpense', 'ShareBasedCompensation', 'ShareBasedCompensationArrangementByShareBasedPaymentAwardAwardVestingPeriod1', 'ShareBasedCompensationArrangementByShareBasedPaymentAwardEquityInstrumentsOtherThanOptionsForfeitedInPeriod', 'ShareBasedCompensationArrangementByShareBasedPaymentAwardEquityInstrumentsOtherThanOptionsForfeituresWeightedAverageGrantDateFairValue', 'ShareBasedCompensationArrangementByShareBasedPaymentAwardEquityInstrumentsOtherThanOptionsGrantsInPeriod', 'ShareBasedCompensationArrangementByShareBasedPaymentAwardEquityInstrumentsOtherThanOptionsGrantsInPeriodWeightedAverageGrantDateFairValue', 'ShareBasedCompensationArrangementByShareBasedPaymentAwardEquityInstrumentsOtherThanOptionsNonvestedNumber', 'ShareBasedCompensationArrangementByShareBasedPaymentAwardEquityInstrumentsOtherThanOptionsNonvestedWeightedAverageGrantDateFairValue', 'ShareBasedCompensationArrangementByShareBasedPaymentAwardEquityInstrumentsOtherThanOptionsNumberOfSharesOfCommonStockIssuedPerUnitUponVesting', 'ShareBasedCompensationArrangementByShareBasedPaymentAwardEquityInstrumentsOtherThanOptionsVestedInPeriod', 'ShareBasedCompensationArrangementByShareBasedPaymentAwardEquityInstrumentsOtherThanOptionsVestedInPeriodTotalFairValue', 'ShareBasedCompensationArrangementByShareBasedPaymentAwardEquityInstrumentsOtherThanOptionsVestedInPeriodWeightedAverageGrantDateFairValue', 'ShareBasedCompensationArrangementByShareBasedPaymentAwardMaximumEmployeeSubscriptionRate', 'ShareBasedCompensationArrangementByShareBasedPaymentAwardNumberOfSharesAvailableForGrant', 'ShareBasedCompensationArrangementByShareBasedPaymentAwardOfferingPeriod', 'SharebasedCompensationArrangementBySharebasedPaymentAwardEquityInstrumentsOtherThanOptionsAggregateIntrinsicValueNonvested', 'SharebasedCompensationArrangementBySharebasedPaymentAwardPurchasePriceOfCommonStockPercent', 'SharesPaidForTaxWithholdingForShareBasedCompensation', 'ShortTermDebtWeightedAverageInterestRate', 'StandardProductWarrantyAccrual', 'StandardProductWarrantyAccrualPayments', 'StandardProductWarrantyAccrualWarrantiesIssued', 'StateAndLocalIncomeTaxExpenseBenefitContinuingOperations', 'StockIssuedDuringPeriodSharesSharebasedPaymentArrangementNetofSharesWithheldforTaxes', 'StockIssuedDuringPeriodValueNewIssues', 'StockRepurchaseProgramAuthorizedAmount1', 'StockRepurchasedAndRetiredDuringPeriodShares', 'StockRepurchasedAndRetiredDuringPeriodValue', 'StockholdersEquity', 'StockholdersEquityNoteDisclosureTextBlock', 'TradingSymbol', 'UnrecognizedTaxBenefits', 'UnrecognizedTaxBenefitsDecreasesResultingFromPriorPeriodTaxPositions', 'UnrecognizedTaxBenefitsDecreasesResultingFromSettlementsWithTaxingAuthorities', 'UnrecognizedTaxBenefitsIncomeTaxPenaltiesAndInterestAccrued', 'UnrecognizedTaxBenefitsIncomeTaxPenaltiesAndInterestExpense', 'UnrecognizedTaxBenefitsIncreasesResultingFromCurrentPeriodTaxPositions', 'UnrecognizedTaxBenefitsIncreasesResultingFromPriorPeriodTaxPositions', 'UnrecognizedTaxBenefitsReductionsResultingFromLapseOfApplicableStatuteOfLimitations', 'UnrecognizedTaxBenefitsThatWouldImpactEffectiveTaxRate', 'UnrecordedUnconditionalPurchaseObligationBalanceOnFifthAnniversary', 'UnrecordedUnconditionalPurchaseObligationBalanceOnFirstAnniversary', 'UnrecordedUnconditionalPurchaseObligationBalanceOnFourthAnniversary', 'UnrecordedUnconditionalPurchaseObligationBalanceOnSecondAnniversary', 'UnrecordedUnconditionalPurchaseObligationBalanceOnThirdAnniversary', 'UnrecordedUnconditionalPurchaseObligationBalanceSheetAmount', 'UnrecordedUnconditionalPurchaseObligationDueAfterFiveYears', 'UnrecordedUnconditionalPurchaseObligationsDisclosureTextBlock', 'UpFrontPaymentUnderAcceleratedShareRepurchaseAgreement', 'VariableLeaseCost', 'WeightedAverageNumberDilutedSharesOutstandingAdjustment', 'WeightedAverageNumberOfDilutedSharesOutstanding', 'WeightedAverageNumberOfSharesOutstandingBasic', 'context', 'divide', 'endDate', 'entity', 'explicitMember', 'identifier', 'instant', 'measure', 'period', 'schemaRef', 'segment', 'startDate', 'typedMember', 'unit', 'unitDenominator', 'unitNumerator', 'xbrl']

✅ aapl-20220924_htm.xml has 404 unique tags:
['AccountsPayableCurrent', 'AccountsReceivableNetCurrent', 'AccruedIncomeTaxesNoncurrent', 'AccumulatedDepreciationDepletionAndAmortizationPropertyPlantAndEquipment', 'AccumulatedOtherComprehensiveIncomeLossNetOfTax', 'AdditionalFinancialInformationDisclosureTextBlock', 'AdjustmentsRelatedToTaxWithholdingForShareBasedCompensation', 'AdjustmentsToAdditionalPaidInCapitalSharebasedCompensationRequisiteServicePeriodRecognitionValue', 'AllocatedShareBasedCompensationExpense', 'AmendmentFlag', 'Assets', 'AssetsCurrent', 'AssetsNoncurrent', 'AuditorFirmId', 'AuditorLocation', 'AuditorName', 'AvailableForSaleDebtSecuritiesAccumulatedGrossUnrealizedGainBeforeTax', 'AvailableForSaleDebtSecuritiesAccumulatedGrossUnrealizedLossBeforeTax', 'AvailableForSaleDebtSecuritiesAmortizedCostBasis', 'AvailableForSaleSecuritiesDebtMaturitiesRollingAfterYearTenFairValue', 'AvailableForSaleSecuritiesDebtMaturitiesRollingYearSixThroughTenFairValue', 'AvailableForSaleSecuritiesDebtMaturitiesRollingYearTwoThroughFiveFairValue', 'AvailableForSaleSecuritiesDebtMaturitiesSingleMaturityDate', 'AvailableForSaleSecuritiesDebtSecurities', 'BasisOfAccountingPolicyPolicyTextBlock', 'BasisOfPresentationAndSignificantAccountingPoliciesTextBlock', 'Cash', 'CashAndCashEquivalentsAtCarryingValue', 'CashAndCashEquivalentsPolicyTextBlock', 'CashCashEquivalentsAndMarketableSecurities', 'CashCashEquivalentsAndMarketableSecuritiesCost', 'CashCashEquivalentsRestrictedCashAndRestrictedCashEquivalents', 'CashCashEquivalentsRestrictedCashAndRestrictedCashEquivalentsPeriodIncreaseDecreaseIncludingExchangeRateEffect', 'CashEquivalentsAndMarketableSecuritiesAccumulatedGrossUnrealizedGainBeforeTax', 'CashEquivalentsAndMarketableSecuritiesAccumulatedGrossUnrealizedLossBeforeTax', 'CityAreaCode', 'CommercialPaper', 'CommercialPaperCashFlowSummaryTableTextBlock', 'CommitmentsAndContingencies', 'CommitmentsAndContingenciesDisclosureTextBlock', 'CommonStockDividendsPerShareDeclared', 'CommonStockParOrStatedValuePerShare', 'CommonStockSharesAuthorized', 'CommonStockSharesIssued', 'CommonStockSharesOutstanding', 'CommonStocksIncludingAdditionalPaidInCapital', 'CompensationAndEmployeeBenefitPlansTextBlock', 'CompensationRelatedCostsPolicyTextBlock', 'ComprehensiveIncomeNetOfTax', 'ConcentrationRiskPercentage1', 'ContractWithCustomerLiability', 'ContractWithCustomerLiabilityCurrent', 'ContractWithCustomerLiabilityRevenueRecognized', 'CostOfGoodsAndServicesSold', 'CurrentFederalTaxExpenseBenefit', 'CurrentFiscalYearEndDate', 'CurrentForeignTaxExpenseBenefit', 'CurrentStateAndLocalTaxExpenseBenefit', 'DebtDisclosureTextBlock', 'DebtInstrumentCarryingAmount', 'DebtInstrumentInterestRateEffectivePercentage', 'DebtInstrumentInterestRateStatedPercentage', 'DebtInstrumentMaturityYearRangeEnd', 'DebtInstrumentMaturityYearRangeStart', 'DebtInstrumentTerm', 'DebtInstrumentUnamortizedDiscountPremiumAndDebtIssuanceCostsNet', 'DecreaseInUnrecognizedTaxBenefitsIsReasonablyPossible', 'DeferredFederalIncomeTaxExpenseBenefit', 'DeferredForeignIncomeTaxExpenseBenefit', 'DeferredIncomeTaxExpenseBenefit', 'DeferredIncomeTaxLiabilities', 'DeferredStateAndLocalIncomeTaxExpenseBenefit', 'DeferredTaxAssetsDeferredIncome', 'DeferredTaxAssetsGoodwillAndIntangibleAssets', 'DeferredTaxAssetsGross', 'DeferredTaxAssetsLeaseLiabilities', 'DeferredTaxAssetsLiabilitiesNet', 'DeferredTaxAssetsNet', 'DeferredTaxAssetsOther', 'DeferredTaxAssetsOtherComprehensiveLoss', 'DeferredTaxAssetsTaxCreditCarryforwards', 'DeferredTaxAssetsTaxCreditCarryforwardsForeign', 'DeferredTaxAssetsTaxCreditCarryforwardsResearch', 'DeferredTaxAssetsTaxDeferredExpenseReservesAndAccruals', 'DeferredTaxAssetsValuationAllowance', 'DeferredTaxLiabilitiesLeasingArrangements', 'DeferredTaxLiabilitiesMinimumTaxonForeignEarnings', 'DeferredTaxLiabilitiesOther', 'DeferredTaxLiabilitiesOtherComprehensiveIncome', 'DefinedContributionPlanEmployerMatchingContributionPercent', 'DefinedContributionPlanEmployerMatchingContributionPercentOfMatch', 'Depreciation', 'DepreciationDepletionAndAmortization', 'DerivativeAssetFairValueGrossAssetIncludingNotSubjectToMasterNettingArrangement', 'DerivativeAssetsReductionForMasterNettingArrangementsIncludingTheEffectsOfCollateral', 'DerivativeFairValueOfDerivativeNet', 'DerivativeLiabilitiesReductionForMasterNettingArrangementsIncludingTheEffectsOfCollateral', 'DerivativeLiabilityFairValueGrossLiabilityIncludingNotSubjectToMasterNettingArrangement', 'DerivativeNotionalAmount', 'DerivativesPolicyTextBlock', 'DisaggregationOfRevenueTableTextBlock', 'Dividends', 'DocumentAnnualReport', 'DocumentFiscalPeriodFocus', 'DocumentFiscalYearFocus', 'DocumentPeriodEndDate', 'DocumentTransitionReport', 'DocumentType', 'EarningsPerShareBasic', 'EarningsPerShareDiluted', 'EarningsPerSharePolicyTextBlock', 'EffectiveIncomeTaxRateContinuingOperations', 'EffectiveIncomeTaxRateReconciliationAtFederalStatutoryIncomeTaxRate', 'EffectiveIncomeTaxRateReconciliationFdiiAmount', 'EffectiveIncomeTaxRateReconciliationShareBasedCompensationExcessTaxBenefitAmount', 'EffectiveIncomeTaxRateReconciliationTaxCutsAndJobsActOf2017Amount', 'EmployeeServiceShareBasedCompensationNonvestedAwardsTotalCompensationCostNotYetRecognized', 'EmployeeServiceShareBasedCompensationNonvestedAwardsTotalCompensationCostNotYetRecognizedPeriodForRecognition1', 'EmployeeServiceShareBasedCompensationTaxBenefitFromCompensationExpense', 'EmployeeStockPurchasePlanMaximumAnnualPurchasesPerEmployeeAmount', 'EntityAddressAddressLine1', 'EntityAddressCityOrTown', 'EntityAddressPostalZipCode', 'EntityAddressStateOrProvince', 'EntityCentralIndexKey', 'EntityCommonStockSharesOutstanding', 'EntityCurrentReportingStatus', 'EntityEmergingGrowthCompany', 'EntityFileNumber', 'EntityFilerCategory', 'EntityIncorporationStateCountryCode', 'EntityInteractiveDataCurrent', 'EntityPublicFloat', 'EntityRegistrantName', 'EntityShellCompany', 'EntitySmallBusiness', 'EntityTaxIdentificationNumber', 'EntityVoluntaryFilers', 'EntityWellKnownSeasonedIssuer', 'EquitySecuritiesFVNIAccumulatedGrossUnrealizedGainBeforeTax', 'EquitySecuritiesFVNIAccumulatedGrossUnrealizedLossBeforeTax', 'EquitySecuritiesFvNiCost', 'EquitySecuritiesFvNiCurrentAndNoncurrent', 'FactorByWhichEachRSUGrantedReducesAndEachRSUCanceledOrShareWithheldForTaxesIncreasesSharesAvailableForGrant', 'FairValueConcentrationOfRiskDerivativeFinancialInstrumentsAssets', 'FairValueMeasurementPolicyPolicyTextBlock', 'FederalIncomeTaxExpenseBenefitContinuingOperations', 'FinanceLeaseLiability', 'FinanceLeaseLiabilityCurrent', 'FinanceLeaseLiabilityCurrentStatementOfFinancialPositionExtensibleList', 'FinanceLeaseLiabilityMaturityTableTextBlock', 'FinanceLeaseLiabilityNoncurrent', 'FinanceLeaseLiabilityNoncurrentStatementOfFinancialPositionExtensibleList', 'FinanceLeaseLiabilityPaymentsDue', 'FinanceLeaseLiabilityPaymentsDueAfterYearFive', 'FinanceLeaseLiabilityPaymentsDueNextTwelveMonths', 'FinanceLeaseLiabilityPaymentsDueYearFive', 'FinanceLeaseLiabilityPaymentsDueYearFour', 'FinanceLeaseLiabilityPaymentsDueYearThree', 'FinanceLeaseLiabilityPaymentsDueYearTwo', 'FinanceLeaseLiabilityUndiscountedExcessAmount', 'FinanceLeaseRightOfUseAsset', 'FinanceLeaseRightOfUseAssetStatementOfFinancialPositionExtensibleList', 'FinancialInstrumentsDisclosureTextBlock', 'FiscalPeriod', 'ForeignIncomeTaxExpenseBenefitContinuingOperations', 'GrossProfit', 'HedgeAccountingAdjustmentsRelatedToLongTermDebt', 'HedgedAssetFairValueHedge', 'HedgedLiabilityFairValueHedge', 'IcfrAuditorAttestationFlag', 'IncomeLossFromContinuingOperationsBeforeIncomeTaxesExtraordinaryItemsNoncontrollingInterest', 'IncomeLossFromContinuingOperationsBeforeIncomeTaxesForeign', 'IncomeTaxContingencyNumberOfSubsidiaries', 'IncomeTaxDisclosureTextBlock', 'IncomeTaxExpenseBenefit', 'IncomeTaxPolicyTextBlock', 'IncomeTaxReconciliationForeignIncomeTaxRateDifferential', 'IncomeTaxReconciliationIncomeTaxExpenseBenefitAtFederalStatutoryIncomeTaxRate', 'IncomeTaxReconciliationOtherAdjustments', 'IncomeTaxReconciliationStateAndLocalIncomeTaxes', 'IncomeTaxReconciliationTaxCreditsResearch', 'IncomeTaxesPaidNet', 'IncreaseDecreaseInAccountsPayable', 'IncreaseDecreaseInAccountsReceivable', 'IncreaseDecreaseInContractWithCustomerLiability', 'IncreaseDecreaseInInventories', 'IncreaseDecreaseInOtherOperatingAssets', 'IncreaseDecreaseInOtherOperatingLiabilities', 'IncreaseDecreaseInOtherReceivables', 'InterestAndOtherIncomeTableTextBlock', 'InterestCostsIncurred', 'InterestExpense', 'InterestPaidNet', 'InventoryNet', 'InventoryPolicyTextBlock', 'InvestmentIncomeInterestAndDividend', 'InvestmentsClassifiedByContractualMaturityDateTableTextBlock', 'LesseeFinanceLeasesTextBlock', 'LesseeLeasesPolicyTextBlock', 'LesseeOperatingAndFinanceLeaseLeaseNotYetCommencedPaymentsDue', 'LesseeOperatingAndFinanceLeaseLeaseNotYetCommencedTermOfContract', 'LesseeOperatingAndFinanceLeaseLiabilityToBePaidAfterYearFive', 'LesseeOperatingAndFinanceLeaseLiabilityToBePaidYearFive', 'LesseeOperatingAndFinanceLeaseLiabilityToBePaidYearFour', 'LesseeOperatingAndFinanceLeaseLiabilityToBePaidYearOne', 'LesseeOperatingAndFinanceLeaseLiabilityToBePaidYearThree', 'LesseeOperatingAndFinanceLeaseLiabilityToBePaidYearTwo', 'LesseeOperatingLeaseLiabilityMaturityTableTextBlock', 'LesseeOperatingLeaseLiabilityPaymentsDue', 'LesseeOperatingLeaseLiabilityPaymentsDueAfterYearFive', 'LesseeOperatingLeaseLiabilityPaymentsDueNextTwelveMonths', 'LesseeOperatingLeaseLiabilityPaymentsDueYearFive', 'LesseeOperatingLeaseLiabilityPaymentsDueYearFour', 'LesseeOperatingLeaseLiabilityPaymentsDueYearThree', 'LesseeOperatingLeaseLiabilityPaymentsDueYearTwo', 'LesseeOperatingLeaseLiabilityUndiscountedExcessAmount', 'LesseeOperatingLeasesTextBlock', 'LesseeOperatingandFinanceLeaseLiabilityPaymentsDue', 'LesseeOperatingandFinanceLeaseLiabilityUndiscountedExcessAmount', 'LesseeOperatingandFinanceLeaseTermofContract', 'Liabilities', 'LiabilitiesAndStockholdersEquity', 'LiabilitiesCurrent', 'LiabilitiesNoncurrent', 'LocalPhoneNumber', 'LongTermDebtCurrent', 'LongTermDebtFairValue', 'LongTermDebtMaturitiesRepaymentsOfPrincipalAfterYearFive', 'LongTermDebtMaturitiesRepaymentsOfPrincipalInNextTwelveMonths', 'LongTermDebtMaturitiesRepaymentsOfPrincipalInYearFive', 'LongTermDebtMaturitiesRepaymentsOfPrincipalInYearFour', 'LongTermDebtMaturitiesRepaymentsOfPrincipalInYearThree', 'LongTermDebtMaturitiesRepaymentsOfPrincipalInYearTwo', 'LongTermDebtNoncurrent', 'LossContingencyEstimateOfPossibleLoss', 'MarketableSecuritiesCurrent', 'MarketableSecuritiesNoncurrent', 'MarketableSecuritiesPolicy', 'MaximumLengthOfTimeForeignCurrencyCashFlowHedge', 'NetCashProvidedByUsedInFinancingActivities', 'NetCashProvidedByUsedInInvestingActivities', 'NetCashProvidedByUsedInOperatingActivities', 'NetIncomeLoss', 'NoTradingSymbolFlag', 'NoncurrentAssets', 'NonoperatingIncomeExpense', 'NontradeReceivablesCurrent', 'NumberOfCustomersWithSignificantAccountsReceivableBalance', 'NumberOfSignificantVendors', 'OperatingExpenses', 'OperatingIncomeLoss', 'OperatingLeaseCost', 'OperatingLeaseLiability', 'OperatingLeaseLiabilityCurrent', 'OperatingLeaseLiabilityCurrentStatementOfFinancialPositionExtensibleList', 'OperatingLeaseLiabilityNoncurrent', 'OperatingLeaseLiabilityNoncurrentStatementOfFinancialPositionExtensibleList', 'OperatingLeasePayments', 'OperatingLeaseRightOfUseAsset', 'OperatingLeaseRightOfUseAssetStatementOfFinancialPositionExtensibleList', 'OperatingandFinanceLeaseLiability', 'OperatingandFinanceLeaseRightofUseAsset', 'OperatingandFinanceLeaseRightofUseAssetsandLeaseLiabilitiesTableTextBlock', 'OperatingandFinanceLeaseWeightedAverageDiscountRatePercent', 'OperatingandFinanceLeaseWeightedAverageRemainingLeaseTerm', 'OtherAccruedLiabilitiesNoncurrent', 'OtherAssetsCurrent', 'OtherAssetsNoncurrent', 'OtherComprehensiveIncomeLossAvailableForSaleSecuritiesAdjustmentNetOfTax', 'OtherComprehensiveIncomeLossDerivativeInstrumentGainLossReclassificationAfterTax', 'OtherComprehensiveIncomeLossDerivativeInstrumentGainLossafterReclassificationandTax', 'OtherComprehensiveIncomeLossDerivativeInstrumentGainLossbeforeReclassificationafterTax', 'OtherComprehensiveIncomeLossForeignCurrencyTransactionAndTranslationAdjustmentNetOfTax', 'OtherComprehensiveIncomeLossNetOfTaxPortionAttributableToParent', 'OtherComprehensiveIncomeLossReclassificationAdjustmentFromAOCIForSaleOfSecuritiesNetOfTax', 'OtherComprehensiveIncomeUnrealizedHoldingGainLossOnSecuritiesArisingDuringPeriodNetOfTax', 'OtherGeneralAndAdministrativeExpense', 'OtherLiabilitiesCurrent', 'OtherLiabilitiesNoncurrent', 'OtherNoncashIncomeExpense', 'OtherNoncurrentLiabilitiesTableTextBlock', 'OtherNonoperatingIncomeExpense', 'PaymentsForProceedsFromOtherInvestingActivities', 'PaymentsForRepurchaseOfCommonStock', 'PaymentsOfDividends', 'PaymentsRelatedToTaxWithholdingForShareBasedCompensation', 'PaymentsToAcquireAvailableForSaleSecuritiesDebt', 'PaymentsToAcquireBusinessesNetOfCashAcquired', 'PaymentsToAcquirePropertyPlantAndEquipment', 'PerformanceObligationsinArrangements', 'ProceedsFromIssuanceOfLongTermDebt', 'ProceedsFromMaturitiesPrepaymentsAndCallsOfAvailableForSaleSecurities', 'ProceedsFromOtherShortTermDebt', 'ProceedsFromPaymentsForOtherFinancingActivities', 'ProceedsFromRepaymentsOfCommercialPaper', 'ProceedsFromRepaymentsOfShortTermDebtMaturingInMoreThanThreeMonths', 'ProceedsFromRepaymentsOfShortTermDebtMaturingInThreeMonthsOrLess', 'ProceedsFromSaleOfAvailableForSaleSecuritiesDebt', 'ProceedsFromShortTermDebtMaturingInMoreThanThreeMonths', 'PropertyPlantAndEquipmentGross', 'PropertyPlantAndEquipmentNet', 'PropertyPlantAndEquipmentPolicyTextBlock', 'PropertyPlantAndEquipmentTextBlock', 'PropertyPlantAndEquipmentUsefulLife', 'ReconciliationOfOperatingProfitLossFromSegmentsToConsolidatedTextBlock', 'RepaymentsOfLongTermDebt', 'RepaymentsOfOtherShortTermDebt', 'RepaymentsOfShortTermDebtMaturingInMoreThanThreeMonths', 'ResearchAndDevelopmentExpense', 'RestrictedInvestments', 'RestrictedMarketableSecuritiesPolicyTextBlock', 'RetainedEarningsAccumulatedDeficit', 'RevenueFromContractWithCustomerExcludingAssessedTax', 'RevenueFromContractWithCustomerTextBlock', 'RevenueRecognitionPolicyTextBlock', 'RevenueRemainingPerformanceObligationExpectedTimingOfSatisfactionPeriod1', 'RevenueRemainingPerformanceObligationExpectedTimingOfSatisfactionStartDateAxis.domain', 'RevenueRemainingPerformanceObligationPercentage', 'RightofUseAssetsObtainedinExchangeforOperatingandFinanceLeaseLiabilities', 'ScheduleOfCashCashEquivalentsAndShortTermInvestmentsTableTextBlock', 'ScheduleOfCommonStockOutstandingRollForwardTableTextBlock', 'ScheduleOfComponentsOfIncomeTaxExpenseBenefitTableTextBlock', 'ScheduleOfDebtInstrumentsTextBlock', 'ScheduleOfDeferredTaxAssetsAndLiabilitiesTableTextBlock', 'ScheduleOfDerivativeInstrumentsInStatementOfFinancialPositionFairValueTextBlock', 'ScheduleOfEarningsPerShareBasicAndDilutedTableTextBlock', 'ScheduleOfEffectiveIncomeTaxRateReconciliationTableTextBlock', 'ScheduleOfEmployeeServiceShareBasedCompensationAllocationOfRecognizedPeriodCostsTextBlock', 'ScheduleOfFairValueHedgingInstrumentsStatementsOfFinancialPerformanceAndFinancialPositionLocationTableTextBlock', 'ScheduleOfMaturitiesOfLongTermDebtTableTextBlock', 'ScheduleOfNonvestedRestrictedStockUnitsActivityTableTextBlock', 'ScheduleOfNotionalAmountsOfOutstandingDerivativePositionsTableTextBlock', 'ScheduleOfRevenuesFromExternalCustomersAndLongLivedAssetsByGeographicalAreasTableTextBlock', 'ScheduleOfSegmentReportingInformationBySegmentTextBlock', 'ScheduleOfUnrecognizedTaxBenefitsRollForwardTableTextBlock', 'Security12bTitle', 'SecurityExchangeName', 'SegmentReportingDisclosureTextBlock', 'SegmentReportingPolicyPolicyTextBlock', 'SellingGeneralAndAdministrativeExpense', 'ShareBasedCompensation', 'ShareBasedCompensationArrangementByShareBasedPaymentAwardAwardVestingPeriod1', 'ShareBasedCompensationArrangementByShareBasedPaymentAwardEquityInstrumentsOtherThanOptionsForfeitedInPeriod', 'ShareBasedCompensationArrangementByShareBasedPaymentAwardEquityInstrumentsOtherThanOptionsForfeituresWeightedAverageGrantDateFairValue', 'ShareBasedCompensationArrangementByShareBasedPaymentAwardEquityInstrumentsOtherThanOptionsGrantsInPeriod', 'ShareBasedCompensationArrangementByShareBasedPaymentAwardEquityInstrumentsOtherThanOptionsGrantsInPeriodWeightedAverageGrantDateFairValue', 'ShareBasedCompensationArrangementByShareBasedPaymentAwardEquityInstrumentsOtherThanOptionsNonvestedNumber', 'ShareBasedCompensationArrangementByShareBasedPaymentAwardEquityInstrumentsOtherThanOptionsNonvestedWeightedAverageGrantDateFairValue', 'ShareBasedCompensationArrangementByShareBasedPaymentAwardEquityInstrumentsOtherThanOptionsNumberOfSharesOfCommonStockIssuedPerUnitUponVesting', 'ShareBasedCompensationArrangementByShareBasedPaymentAwardEquityInstrumentsOtherThanOptionsVestedInPeriod', 'ShareBasedCompensationArrangementByShareBasedPaymentAwardEquityInstrumentsOtherThanOptionsVestedInPeriodTotalFairValue', 'ShareBasedCompensationArrangementByShareBasedPaymentAwardEquityInstrumentsOtherThanOptionsVestedInPeriodWeightedAverageGrantDateFairValue', 'ShareBasedCompensationArrangementByShareBasedPaymentAwardMaximumEmployeeSubscriptionRate', 'ShareBasedCompensationArrangementByShareBasedPaymentAwardNumberOfSharesAuthorized', 'ShareBasedCompensationArrangementByShareBasedPaymentAwardOfferingPeriod', 'SharebasedCompensationArrangementBySharebasedPaymentAwardEquityInstrumentsOtherThanOptionsAggregateIntrinsicValueNonvested', 'SharebasedCompensationArrangementBySharebasedPaymentAwardPurchasePriceOfCommonStockPercent', 'SharesPaidForTaxWithholdingForShareBasedCompensation', 'ShortTermDebtWeightedAverageInterestRate', 'StateAndLocalIncomeTaxExpenseBenefitContinuingOperations', 'StockIssuedDuringPeriodSharesSharebasedPaymentArrangementNetofSharesWithheldforTaxes', 'StockIssuedDuringPeriodValueNewIssues', 'StockRepurchasedAndRetiredDuringPeriodShares', 'StockRepurchasedAndRetiredDuringPeriodValue', 'StockholdersEquity', 'StockholdersEquityNoteDisclosureTextBlock', 'TradingSymbol', 'UnrecognizedTaxBenefits', 'UnrecognizedTaxBenefitsDecreasesResultingFromPriorPeriodTaxPositions', 'UnrecognizedTaxBenefitsDecreasesResultingFromSettlementsWithTaxingAuthorities', 'UnrecognizedTaxBenefitsIncreasesResultingFromCurrentPeriodTaxPositions', 'UnrecognizedTaxBenefitsIncreasesResultingFromPriorPeriodTaxPositions', 'UnrecognizedTaxBenefitsReductionsResultingFromLapseOfApplicableStatuteOfLimitations', 'UnrecognizedTaxBenefitsThatWouldImpactEffectiveTaxRate', 'UnrecordedUnconditionalPurchaseObligationBalanceOnFifthAnniversary', 'UnrecordedUnconditionalPurchaseObligationBalanceOnFirstAnniversary', 'UnrecordedUnconditionalPurchaseObligationBalanceOnFourthAnniversary', 'UnrecordedUnconditionalPurchaseObligationBalanceOnSecondAnniversary', 'UnrecordedUnconditionalPurchaseObligationBalanceOnThirdAnniversary', 'UnrecordedUnconditionalPurchaseObligationBalanceSheetAmount', 'UnrecordedUnconditionalPurchaseObligationDueAfterFiveYears', 'UnrecordedUnconditionalPurchaseObligationsDisclosureTextBlock', 'VariableLeaseCost', 'WeightedAverageNumberDilutedSharesOutstandingAdjustment', 'WeightedAverageNumberOfDilutedSharesOutstanding', 'WeightedAverageNumberOfSharesOutstandingBasic', 'context', 'divide', 'endDate', 'entity', 'explicitMember', 'identifier', 'instant', 'measure', 'period', 'schemaRef', 'segment', 'startDate', 'typedMember', 'unit', 'unitDenominator', 'unitNumerator', 'xbrl']

✅ aapl-20230930_htm.xml has 412 unique tags:
['AccountsPayableCurrent', 'AccountsReceivableNetCurrent', 'AccruedIncomeTaxesCurrent', 'AccruedIncomeTaxesNoncurrent', 'AccumulatedDepreciationDepletionAndAmortizationPropertyPlantAndEquipment', 'AccumulatedOtherComprehensiveIncomeLossNetOfTax', 'AdditionalFinancialInformationDisclosureTextBlock', 'AdjustmentsRelatedToTaxWithholdingForShareBasedCompensation', 'AdjustmentsToAdditionalPaidInCapitalSharebasedCompensationRequisiteServicePeriodRecognitionValue', 'AllocatedShareBasedCompensationExpense', 'AmendmentFlag', 'AntidilutiveSecuritiesExcludedFromComputationOfEarningsPerShareAmount', 'Assets', 'AssetsCurrent', 'AssetsNoncurrent', 'AuditorFirmId', 'AuditorLocation', 'AuditorName', 'AvailableForSaleDebtSecuritiesAccumulatedGrossUnrealizedGainBeforeTax', 'AvailableForSaleDebtSecuritiesAccumulatedGrossUnrealizedLossBeforeTax', 'AvailableForSaleDebtSecuritiesAmortizedCostBasis', 'AvailableForSaleSecuritiesDebtMaturitiesRollingAfterYearTenFairValue', 'AvailableForSaleSecuritiesDebtMaturitiesRollingYearSixThroughTenFairValue', 'AvailableForSaleSecuritiesDebtMaturitiesRollingYearTwoThroughFiveFairValue', 'AvailableForSaleSecuritiesDebtMaturitiesSingleMaturityDate', 'AvailableForSaleSecuritiesDebtSecurities', 'BasisOfAccountingPolicyPolicyTextBlock', 'BasisOfPresentationAndSignificantAccountingPoliciesTextBlock', 'Cash', 'CashAndCashEquivalentsAtCarryingValue', 'CashAndCashEquivalentsPolicyTextBlock', 'CashCashEquivalentsAndMarketableSecurities', 'CashCashEquivalentsAndMarketableSecuritiesCost', 'CashCashEquivalentsRestrictedCashAndRestrictedCashEquivalents', 'CashCashEquivalentsRestrictedCashAndRestrictedCashEquivalentsPeriodIncreaseDecreaseIncludingExchangeRateEffect', 'CashEquivalentsAndMarketableSecuritiesAccumulatedGrossUnrealizedGainBeforeTax', 'CashEquivalentsAndMarketableSecuritiesAccumulatedGrossUnrealizedLossBeforeTax', 'CityAreaCode', 'CommercialPaper', 'CommercialPaperCashFlowSummaryTableTextBlock', 'CommitmentsAndContingencies', 'CommitmentsAndContingenciesDisclosureTextBlock', 'CommonStockDividendsPerShareDeclared', 'CommonStockParOrStatedValuePerShare', 'CommonStockSharesAuthorized', 'CommonStockSharesIssued', 'CommonStockSharesOutstanding', 'CommonStocksIncludingAdditionalPaidInCapital', 'CompensationRelatedCostsPolicyTextBlock', 'ComprehensiveIncomeNetOfTax', 'ConcentrationRiskPercentage1', 'ContractWithCustomerLiability', 'ContractWithCustomerLiabilityCurrent', 'ContractWithCustomerLiabilityRevenueRecognized', 'CostOfGoodsAndServicesSold', 'CurrentFederalTaxExpenseBenefit', 'CurrentFiscalYearEndDate', 'CurrentForeignTaxExpenseBenefit', 'CurrentStateAndLocalTaxExpenseBenefit', 'DebtDisclosureTextBlock', 'DebtInstrumentCarryingAmount', 'DebtInstrumentInterestRateEffectivePercentage', 'DebtInstrumentInterestRateStatedPercentage', 'DebtInstrumentMaturityYearRangeEnd', 'DebtInstrumentMaturityYearRangeStart', 'DebtInstrumentTerm', 'DebtInstrumentUnamortizedDiscountPremiumAndDebtIssuanceCostsNet', 'DebtSecuritiesAvailableForSaleRestricted', 'DecreaseInUnrecognizedTaxBenefitsIsReasonablyPossible', 'DeferredFederalIncomeTaxExpenseBenefit', 'DeferredForeignIncomeTaxExpenseBenefit', 'DeferredIncomeTaxAssetsNet', 'DeferredIncomeTaxLiabilities', 'DeferredStateAndLocalIncomeTaxExpenseBenefit', 'DeferredTaxAssetsCapitalizedResearchAndDevelopment', 'DeferredTaxAssetsDeferredIncome', 'DeferredTaxAssetsGross', 'DeferredTaxAssetsLeaseLiabilities', 'DeferredTaxAssetsLiabilitiesNet', 'DeferredTaxAssetsNet', 'DeferredTaxAssetsOther', 'DeferredTaxAssetsOtherComprehensiveLoss', 'DeferredTaxAssetsTaxCreditCarryforwards', 'DeferredTaxAssetsTaxCreditCarryforwardsForeign', 'DeferredTaxAssetsTaxCreditCarryforwardsResearch', 'DeferredTaxAssetsTaxDeferredExpenseReservesAndAccruals', 'DeferredTaxAssetsValuationAllowance', 'DeferredTaxLiabilitiesLeasingArrangements', 'DeferredTaxLiabilitiesMinimumTaxonForeignEarnings', 'DeferredTaxLiabilitiesOther', 'DeferredTaxLiabilitiesOtherComprehensiveIncome', 'DeferredTaxLiabilitiesPropertyPlantAndEquipment', 'Depreciation', 'DepreciationDepletionAndAmortization', 'DerivativeAssetFairValueGrossAssetIncludingNotSubjectToMasterNettingArrangement', 'DerivativeAssetsReductionForMasterNettingArrangementsIncludingTheEffectsOfCollateral', 'DerivativeFairValueOfDerivativeNet', 'DerivativeLiabilitiesReductionForMasterNettingArrangementsIncludingTheEffectsOfCollateral', 'DerivativeLiabilityFairValueGrossLiabilityIncludingNotSubjectToMasterNettingArrangement', 'DerivativeNotionalAmount', 'DerivativesPolicyTextBlock', 'DisaggregationOfRevenueTableTextBlock', 'DisclosureOfCompensationRelatedCostsShareBasedPaymentsTextBlock', 'Dividends', 'DocumentAnnualReport', 'DocumentFinStmtErrorCorrectionFlag', 'DocumentFiscalPeriodFocus', 'DocumentFiscalYearFocus', 'DocumentPeriodEndDate', 'DocumentTransitionReport', 'DocumentType', 'DocumentsIncorporatedByReferenceTextBlock', 'EarningsPerShareBasic', 'EarningsPerShareDiluted', 'EarningsPerShareTextBlock', 'EffectiveIncomeTaxRateContinuingOperations', 'EffectiveIncomeTaxRateReconciliationAtFederalStatutoryIncomeTaxRate', 'EffectiveIncomeTaxRateReconciliationFdiiAmount', 'EffectiveIncomeTaxRateReconciliationShareBasedCompensationExcessTaxBenefitAmount', 'EmployeeServiceShareBasedCompensationNonvestedAwardsTotalCompensationCostNotYetRecognized', 'EmployeeServiceShareBasedCompensationNonvestedAwardsTotalCompensationCostNotYetRecognizedPeriodForRecognition1', 'EmployeeServiceShareBasedCompensationTaxBenefitFromCompensationExpense', 'EntityAddressAddressLine1', 'EntityAddressCityOrTown', 'EntityAddressPostalZipCode', 'EntityAddressStateOrProvince', 'EntityCentralIndexKey', 'EntityCommonStockSharesOutstanding', 'EntityCurrentReportingStatus', 'EntityEmergingGrowthCompany', 'EntityFileNumber', 'EntityFilerCategory', 'EntityIncorporationStateCountryCode', 'EntityInteractiveDataCurrent', 'EntityPublicFloat', 'EntityRegistrantName', 'EntityShellCompany', 'EntitySmallBusiness', 'EntityTaxIdentificationNumber', 'EntityVoluntaryFilers', 'EntityWellKnownSeasonedIssuer', 'EquitySecuritiesFVNIAccumulatedGrossUnrealizedGainBeforeTax', 'EquitySecuritiesFVNIAccumulatedGrossUnrealizedLossBeforeTax', 'EquitySecuritiesFvNiCost', 'EquitySecuritiesFvNiCurrentAndNoncurrent', 'FairValueConcentrationOfRiskDerivativeFinancialInstrumentsAssets', 'FairValueMeasurementPolicyPolicyTextBlock', 'FederalIncomeTaxExpenseBenefitContinuingOperations', 'FinanceLeaseLiability', 'FinanceLeaseLiabilityCurrent', 'FinanceLeaseLiabilityCurrentStatementOfFinancialPositionExtensibleList', 'FinanceLeaseLiabilityMaturityTableTextBlock', 'FinanceLeaseLiabilityNoncurrent', 'FinanceLeaseLiabilityNoncurrentStatementOfFinancialPositionExtensibleList', 'FinanceLeaseLiabilityPaymentsDue', 'FinanceLeaseLiabilityPaymentsDueAfterYearFive', 'FinanceLeaseLiabilityPaymentsDueNextTwelveMonths', 'FinanceLeaseLiabilityPaymentsDueYearFive', 'FinanceLeaseLiabilityPaymentsDueYearFour', 'FinanceLeaseLiabilityPaymentsDueYearThree', 'FinanceLeaseLiabilityPaymentsDueYearTwo', 'FinanceLeaseLiabilityUndiscountedExcessAmount', 'FinanceLeaseRightOfUseAsset', 'FinanceLeaseRightOfUseAssetStatementOfFinancialPositionExtensibleList', 'FinancialInstrumentsDisclosureTextBlock', 'FiscalPeriod', 'ForeignIncomeTaxExpenseBenefitContinuingOperations', 'GrossProfit', 'HedgeAccountingAdjustmentsRelatedToLongTermDebt', 'HedgedAssetFairValueHedge', 'HedgedAssetStatementOfFinancialPositionExtensibleEnumeration', 'HedgedLiabilityFairValueHedge', 'HedgedLiabilityStatementOfFinancialPositionExtensibleEnumeration', 'IcfrAuditorAttestationFlag', 'IncomeLossFromContinuingOperationsBeforeIncomeTaxesExtraordinaryItemsNoncontrollingInterest', 'IncomeLossFromContinuingOperationsBeforeIncomeTaxesForeign', 'IncomeTaxContingencyNumberOfSubsidiaries', 'IncomeTaxDisclosureTextBlock', 'IncomeTaxExpenseBenefit', 'IncomeTaxPolicyTextBlock', 'IncomeTaxReconciliationForeignIncomeTaxRateDifferential', 'IncomeTaxReconciliationIncomeTaxExpenseBenefitAtFederalStatutoryIncomeTaxRate', 'IncomeTaxReconciliationOtherAdjustments', 'IncomeTaxReconciliationStateAndLocalIncomeTaxes', 'IncomeTaxReconciliationTaxCreditsResearch', 'IncomeTaxesPaidNet', 'IncreaseDecreaseInAccountsPayable', 'IncreaseDecreaseInAccountsReceivable', 'IncreaseDecreaseInInventories', 'IncreaseDecreaseInOtherOperatingAssets', 'IncreaseDecreaseInOtherOperatingLiabilities', 'IncreaseDecreaseInOtherReceivables', 'IncrementalCommonSharesAttributableToShareBasedPaymentArrangements', 'InterestAndOtherIncomeTableTextBlock', 'InterestCostsIncurred', 'InterestExpense', 'InterestPaidNet', 'InventoryNet', 'InventoryPolicyTextBlock', 'InvestmentIncomeInterestAndDividend', 'InvestmentsClassifiedByContractualMaturityDateTableTextBlock', 'LesseeFinanceLeasesTextBlock', 'LesseeLeasesPolicyTextBlock', 'LesseeOperatingAndFinanceLeaseLeaseNotYetCommencedPaymentsDue', 'LesseeOperatingAndFinanceLeaseLeaseNotYetCommencedTermOfContract', 'LesseeOperatingAndFinanceLeaseLiabilityToBePaid', 'LesseeOperatingAndFinanceLeaseLiabilityToBePaidAfterYearFive', 'LesseeOperatingAndFinanceLeaseLiabilityToBePaidYearFive', 'LesseeOperatingAndFinanceLeaseLiabilityToBePaidYearFour', 'LesseeOperatingAndFinanceLeaseLiabilityToBePaidYearOne', 'LesseeOperatingAndFinanceLeaseLiabilityToBePaidYearThree', 'LesseeOperatingAndFinanceLeaseLiabilityToBePaidYearTwo', 'LesseeOperatingLeaseLiabilityMaturityTableTextBlock', 'LesseeOperatingLeaseLiabilityPaymentsDue', 'LesseeOperatingLeaseLiabilityPaymentsDueAfterYearFive', 'LesseeOperatingLeaseLiabilityPaymentsDueNextTwelveMonths', 'LesseeOperatingLeaseLiabilityPaymentsDueYearFive', 'LesseeOperatingLeaseLiabilityPaymentsDueYearFour', 'LesseeOperatingLeaseLiabilityPaymentsDueYearThree', 'LesseeOperatingLeaseLiabilityPaymentsDueYearTwo', 'LesseeOperatingLeaseLiabilityUndiscountedExcessAmount', 'LesseeOperatingLeasesTextBlock', 'LesseeOperatingandFinanceLeaseLiabilityUndiscountedExcessAmount', 'LesseeOperatingandFinanceLeaseTermofContract', 'Liabilities', 'LiabilitiesAndStockholdersEquity', 'LiabilitiesCurrent', 'LiabilitiesNoncurrent', 'LocalPhoneNumber', 'LongTermDebt', 'LongTermDebtCurrent', 'LongTermDebtFairValue', 'LongTermDebtMaturitiesRepaymentsOfPrincipalAfterYearFive', 'LongTermDebtMaturitiesRepaymentsOfPrincipalInNextTwelveMonths', 'LongTermDebtMaturitiesRepaymentsOfPrincipalInYearFive', 'LongTermDebtMaturitiesRepaymentsOfPrincipalInYearFour', 'LongTermDebtMaturitiesRepaymentsOfPrincipalInYearThree', 'LongTermDebtMaturitiesRepaymentsOfPrincipalInYearTwo', 'LongTermDebtNoncurrent', 'LossContingencyEstimateOfPossibleLoss', 'MarketableSecuritiesCurrent', 'MarketableSecuritiesNoncurrent', 'MarketableSecuritiesPolicy', 'MaximumLengthOfTimeForeignCurrencyCashFlowHedge', 'MtrlTermsOfTrdArrTextBlock', 'NetCashProvidedByUsedInFinancingActivities', 'NetCashProvidedByUsedInInvestingActivities', 'NetCashProvidedByUsedInOperatingActivities', 'NetIncomeLoss', 'NoTradingSymbolFlag', 'NonRule10b51ArrAdoptedFlag', 'NonRule10b51ArrTrmntdFlag', 'NoncurrentAssets', 'NonoperatingIncomeExpense', 'NontradeReceivablesCurrent', 'NumberOfCustomersWithSignificantAccountsReceivableBalance', 'NumberOfSignificantVendors', 'OperatingExpenses', 'OperatingIncomeLoss', 'OperatingLeaseCost', 'OperatingLeaseLiability', 'OperatingLeaseLiabilityCurrent', 'OperatingLeaseLiabilityCurrentStatementOfFinancialPositionExtensibleList', 'OperatingLeaseLiabilityNoncurrent', 'OperatingLeaseLiabilityNoncurrentStatementOfFinancialPositionExtensibleList', 'OperatingLeasePayments', 'OperatingLeaseRightOfUseAsset', 'OperatingLeaseRightOfUseAssetStatementOfFinancialPositionExtensibleList', 'OperatingandFinanceLeaseLiability', 'OperatingandFinanceLeaseRightofUseAsset', 'OperatingandFinanceLeaseRightofUseAssetsandLeaseLiabilitiesTableTextBlock', 'OperatingandFinanceLeaseWeightedAverageDiscountRatePercent', 'OperatingandFinanceLeaseWeightedAverageRemainingLeaseTerm', 'OtherAccruedLiabilitiesCurrent', 'OtherAccruedLiabilitiesNoncurrent', 'OtherAssetsCurrent', 'OtherAssetsMiscellaneousNoncurrent', 'OtherAssetsNoncurrent', 'OtherComprehensiveIncomeLossAvailableForSaleSecuritiesAdjustmentNetOfTax', 'OtherComprehensiveIncomeLossDerivativeInstrumentGainLossReclassificationAfterTax', 'OtherComprehensiveIncomeLossDerivativeInstrumentGainLossafterReclassificationandTax', 'OtherComprehensiveIncomeLossDerivativeInstrumentGainLossbeforeReclassificationafterTax', 'OtherComprehensiveIncomeLossForeignCurrencyTransactionAndTranslationAdjustmentNetOfTax', 'OtherComprehensiveIncomeLossNetOfTaxPortionAttributableToParent', 'OtherComprehensiveIncomeLossReclassificationAdjustmentFromAOCIForSaleOfSecuritiesNetOfTax', 'OtherComprehensiveIncomeUnrealizedHoldingGainLossOnSecuritiesArisingDuringPeriodNetOfTax', 'OtherCurrentLiabilitiesTableTextBlock', 'OtherGeneralAndAdministrativeExpense', 'OtherLiabilitiesCurrent', 'OtherLiabilitiesNoncurrent', 'OtherNoncashIncomeExpense', 'OtherNoncurrentLiabilitiesTableTextBlock', 'OtherNonoperatingIncomeExpense', 'PaymentsForProceedsFromOtherInvestingActivities', 'PaymentsForRepurchaseOfCommonStock', 'PaymentsOfDividends', 'PaymentsRelatedToTaxWithholdingForShareBasedCompensation', 'PaymentsToAcquireAvailableForSaleSecuritiesDebt', 'PaymentsToAcquirePropertyPlantAndEquipment', 'PerformanceObligationsinArrangements', 'ProceedsFromIssuanceOfLongTermDebt', 'ProceedsFromMaturitiesPrepaymentsAndCallsOfAvailableForSaleSecurities', 'ProceedsFromPaymentsForOtherFinancingActivities', 'ProceedsFromRepaymentsOfCommercialPaper', 'ProceedsFromRepaymentsOfShortTermDebtMaturingInMoreThanThreeMonths', 'ProceedsFromRepaymentsOfShortTermDebtMaturingInThreeMonthsOrLess', 'ProceedsFromSaleOfAvailableForSaleSecuritiesDebt', 'ProceedsFromShortTermDebtMaturingInMoreThanThreeMonths', 'PropertyPlantAndEquipmentDisclosureTextBlock', 'PropertyPlantAndEquipmentGross', 'PropertyPlantAndEquipmentNet', 'PropertyPlantAndEquipmentPolicyTextBlock', 'PropertyPlantAndEquipmentTextBlock', 'ReconciliationOfOperatingProfitLossFromSegmentsToConsolidatedTextBlock', 'RepaymentsOfLongTermDebt', 'RepaymentsOfShortTermDebtMaturingInMoreThanThreeMonths', 'ResearchAndDevelopmentExpense', 'RetainedEarningsAccumulatedDeficit', 'RevenueFromContractWithCustomerExcludingAssessedTax', 'RevenueFromContractWithCustomerTextBlock', 'RevenueRecognitionPolicyTextBlock', 'RevenueRemainingPerformanceObligationExpectedTimingOfSatisfactionPeriod1', 'RevenueRemainingPerformanceObligationExpectedTimingOfSatisfactionStartDateAxis.domain', 'RevenueRemainingPerformanceObligationPercentage', 'RightofUseAssetsObtainedinExchangeforOperatingandFinanceLeaseLiabilities', 'Rule10b51ArrAdoptedFlag', 'Rule10b51ArrTrmntdFlag', 'ScheduleOfCashCashEquivalentsAndShortTermInvestmentsTableTextBlock', 'ScheduleOfCommonStockOutstandingRollForwardTableTextBlock', 'ScheduleOfComponentsOfIncomeTaxExpenseBenefitTableTextBlock', 'ScheduleOfDebtInstrumentsTextBlock', 'ScheduleOfDeferredTaxAssetsAndLiabilitiesTableTextBlock', 'ScheduleOfDerivativeInstrumentsInStatementOfFinancialPositionFairValueTextBlock', 'ScheduleOfEarningsPerShareBasicAndDilutedTableTextBlock', 'ScheduleOfEffectiveIncomeTaxRateReconciliationTableTextBlock', 'ScheduleOfEmployeeServiceShareBasedCompensationAllocationOfRecognizedPeriodCostsTextBlock', 'ScheduleOfFairValueHedgingInstrumentsStatementsOfFinancialPerformanceAndFinancialPositionLocationTableTextBlock', 'ScheduleOfMaturitiesOfLongTermDebtTableTextBlock', 'ScheduleOfNonvestedRestrictedStockUnitsActivityTableTextBlock', 'ScheduleOfNotionalAmountsOfOutstandingDerivativePositionsTableTextBlock', 'ScheduleOfOtherAssetsNoncurrentTextBlock', 'ScheduleOfRevenuesFromExternalCustomersAndLongLivedAssetsByGeographicalAreasTableTextBlock', 'ScheduleOfSegmentReportingInformationBySegmentTextBlock', 'ScheduleOfUnrecognizedTaxBenefitsRollForwardTableTextBlock', 'Security12bTitle', 'SecurityExchangeName', 'SegmentReportingDisclosureTextBlock', 'SegmentReportingPolicyPolicyTextBlock', 'SellingGeneralAndAdministrativeExpense', 'ShareBasedCompensation', 'ShareBasedCompensationArrangementByShareBasedPaymentAwardAwardVestingPeriod1', 'ShareBasedCompensationArrangementByShareBasedPaymentAwardEquityInstrumentsOtherThanOptionsForfeitedInPeriod', 'ShareBasedCompensationArrangementByShareBasedPaymentAwardEquityInstrumentsOtherThanOptionsForfeituresWeightedAverageGrantDateFairValue', 'ShareBasedCompensationArrangementByShareBasedPaymentAwardEquityInstrumentsOtherThanOptionsGrantsInPeriod', 'ShareBasedCompensationArrangementByShareBasedPaymentAwardEquityInstrumentsOtherThanOptionsGrantsInPeriodWeightedAverageGrantDateFairValue', 'ShareBasedCompensationArrangementByShareBasedPaymentAwardEquityInstrumentsOtherThanOptionsNonvestedNumber', 'ShareBasedCompensationArrangementByShareBasedPaymentAwardEquityInstrumentsOtherThanOptionsNonvestedWeightedAverageGrantDateFairValue', 'ShareBasedCompensationArrangementByShareBasedPaymentAwardEquityInstrumentsOtherThanOptionsNumberOfSharesOfCommonStockIssuedPerUnitUponVesting', 'ShareBasedCompensationArrangementByShareBasedPaymentAwardEquityInstrumentsOtherThanOptionsVestedInPeriod', 'ShareBasedCompensationArrangementByShareBasedPaymentAwardEquityInstrumentsOtherThanOptionsVestedInPeriodTotalFairValue', 'ShareBasedCompensationArrangementByShareBasedPaymentAwardEquityInstrumentsOtherThanOptionsVestedInPeriodWeightedAverageGrantDateFairValue', 'ShareBasedCompensationArrangementByShareBasedPaymentAwardNumberOfSharesAuthorized', 'SharebasedCompensationArrangementBySharebasedPaymentAwardEquityInstrumentsOtherThanOptionsAggregateIntrinsicValueNonvested', 'SharesPaidForTaxWithholdingForShareBasedCompensation', 'ShortTermDebtWeightedAverageInterestRate', 'StateAndLocalIncomeTaxExpenseBenefitContinuingOperations', 'StockIssuedDuringPeriodSharesSharebasedPaymentArrangementNetofSharesWithheldforTaxes', 'StockIssuedDuringPeriodValueNewIssues', 'StockRepurchasedAndRetiredDuringPeriodShares', 'StockRepurchasedAndRetiredDuringPeriodValue', 'StockholdersEquity', 'StockholdersEquityNoteDisclosureTextBlock', 'TradingSymbol', 'TrdArrAdoptionDate', 'TrdArrDuration', 'TrdArrIndName', 'TrdArrIndTitle', 'UnrecognizedTaxBenefits', 'UnrecognizedTaxBenefitsDecreasesResultingFromPriorPeriodTaxPositions', 'UnrecognizedTaxBenefitsDecreasesResultingFromSettlementsWithTaxingAuthorities', 'UnrecognizedTaxBenefitsIncreasesResultingFromCurrentPeriodTaxPositions', 'UnrecognizedTaxBenefitsIncreasesResultingFromPriorPeriodTaxPositions', 'UnrecognizedTaxBenefitsReductionsResultingFromLapseOfApplicableStatuteOfLimitations', 'UnrecognizedTaxBenefitsThatWouldImpactEffectiveTaxRate', 'UnrecordedUnconditionalPurchaseObligationBalanceOnFifthAnniversary', 'UnrecordedUnconditionalPurchaseObligationBalanceOnFirstAnniversary', 'UnrecordedUnconditionalPurchaseObligationBalanceOnFourthAnniversary', 'UnrecordedUnconditionalPurchaseObligationBalanceOnSecondAnniversary', 'UnrecordedUnconditionalPurchaseObligationBalanceOnThirdAnniversary', 'UnrecordedUnconditionalPurchaseObligationBalanceSheetAmount', 'UnrecordedUnconditionalPurchaseObligationDueAfterFiveYears', 'UnrecordedUnconditionalPurchaseObligationsDisclosureTextBlock', 'VariableLeaseCost', 'WeightedAverageNumberOfDilutedSharesOutstanding', 'WeightedAverageNumberOfSharesOutstandingBasic', 'context', 'divide', 'endDate', 'entity', 'explicitMember', 'identifier', 'instant', 'measure', 'period', 'schemaRef', 'segment', 'startDate', 'typedMember', 'unit', 'unitDenominator', 'unitNumerator', 'xbrl']
```

---

### 🔹 Code Cell 94 [Execution: 122]

```python
import pandas as pd
from bs4 import BeautifulSoup
import glob

# Prepare list of tags we care about
kpi_tags = {
    "Revenue": "RevenueFromContractWithCustomerExcludingAssessedTax",
    "NetIncome": "NetIncomeLoss",
    "Assets": "Assets",
    "Liabilities": "Liabilities",
    "Equity": "StockholdersEquity",
    "LongTermDebt": "LongTermDebtNoncurrent"
}

# Collect only aapl-*_htm.xml files
xml_files = sorted(glob.glob("aapl-*_htm.xml"))

if not xml_files:
    print("⚠️ No matching files found.")
else:
    print(f"✅ Found {len(xml_files)} files to process:")
    for f in xml_files:
        print(f" - {f}")

# List to hold data rows
data = []

# Process each file
for file in xml_files:
    with open(file, "r", encoding="utf-8") as f:
        soup = BeautifulSoup(f, "xml")

    row = {"File": file}
    for kpi, tag in kpi_tags.items():
        element = soup.find(tag)
        value = element.text.strip() if element and element.text else None
        row[kpi] = value
    data.append(row)

# Convert to DataFrame
df = pd.DataFrame(data)

# Display the DataFrame
df
```

**Output:**
```
✅ Found 3 files to process:
 - aapl-20210925_htm.xml
 - aapl-20220924_htm.xml
 - aapl-20230930_htm.xml
File       Revenue    NetIncome        Assets  \
0  aapl-20210925_htm.xml  297392000000  94680000000  351002000000   
1  aapl-20220924_htm.xml  316199000000  99803000000  352755000000   
2  aapl-20230930_htm.xml  298085000000  96995000000  352583000000   

    Liabilities       Equity  LongTermDebt  
0  287912000000  63090000000  109106000000  
1  302083000000  50672000000   98959000000  
2  290437000000  62146000000   95281000000
```

---

### 🔹 Code Cell 95 [Execution: 126]

```python
import pandas as pd
from bs4 import BeautifulSoup
import glob

# Prepare list of tags we care about
kpi_tags = {
    "Revenue": "RevenueFromContractWithCustomerExcludingAssessedTax",
    "NetIncome": "NetIncomeLoss",
    "Assets": "Assets",
    "Liabilities": "Liabilities",
    "Equity": "StockholdersEquity",
    "LongTermDebt": "LongTermDebtNoncurrent",
    "FiscalYear": "DocumentFiscalYearFocus"
}


# Collect only aapl-*_htm.xml files
xml_files = sorted(glob.glob("aapl-*_htm.xml"))
data = []

for file in xml_files:
    with open(file, "r") as f:
        soup = BeautifulSoup(f, "xml")

    row = {"File": file}
    for kpi, tag in kpi_tags.items():
        element = soup.find(tag)
        if element:
            raw_value = element.text.strip()
            clean_value = raw_value.replace(",", "").replace("$", "")
            try:
                numeric_value = float(clean_value)
            except ValueError:
                numeric_value = None
        else:
            numeric_value = None
        row[kpi] = numeric_value
    data.append(row)

df = pd.DataFrame(data)
df
```

**Output:**
```
File       Revenue     NetIncome        Assets  \
0  aapl-20210925_htm.xml  2.973920e+11  9.468000e+10  3.510020e+11   
1  aapl-20220924_htm.xml  3.161990e+11  9.980300e+10  3.527550e+11   
2  aapl-20230930_htm.xml  2.980850e+11  9.699500e+10  3.525830e+11   

    Liabilities        Equity  LongTermDebt  FiscalYear  
0  2.879120e+11  6.309000e+10  1.091060e+11      2021.0  
1  3.020830e+11  5.067200e+10  9.895900e+10      2022.0  
2  2.904370e+11  6.214600e+10  9.528100e+10      2023.0
```

---

### 🔹 Code Cell 97 [Execution: 143]

```python
import pandas as pd
import plotly.graph_objects as go

# Convert KPI columns to numeric
kpi_cols = ["Revenue", "NetIncome", "Assets", "Liabilities", "Equity"]
for col in kpi_cols:
    df[col] = pd.to_numeric(df[col], errors="coerce")

# Extract year
df["Year"] = df["File"].str.extract(r"(\d{4})").astype(int)
df_sorted = df.sort_values("Year")

# Create the figure
fig = go.Figure()

# Custom color palette
colors = ["#1f77b4", "#2ca02c", "#d62728"]

# Add one bar trace per year
for i, (_, row) in enumerate(df_sorted.iterrows()):
    fig.add_trace(
        go.Bar(
            x=kpi_cols,
            y=[row[kpi] for kpi in kpi_cols],
            name=str(row["Year"]),
            marker_color=colors[i]
        )
    )

# Update layout for clarity
fig.update_layout(
    title="Apple Financial KPIs by Year",
    xaxis_title="KPI",
    yaxis_title="Amount (USD Millions)",
    barmode="group",
    legend_title="Fiscal Year",
    template="plotly_white",
    font=dict(size=13)
)

fig.show()
```

**Output:**
```
/usr/local/lib/python3.11/dist-packages/kaleido/__init__.py:14: UserWarning:



Warning: You have Plotly version 5.24.1, which is not compatible with this version of Kaleido (1.0.0).

This means that static image generation (e.g. `fig.write_image()`) will not work.

Please upgrade Plotly to version 6.1.1 or greater, or downgrade Kaleido to version 0.2.1.
<html>
<head><meta charset="utf-8" /></head>
<body>
    <div>            <script src="https://cdnjs.cloudflare.com/ajax/libs/mathjax/2.7.5/MathJax.js?config=TeX-AMS-MML_SVG"></script><script type="text/javascript">if (window.MathJax && window.MathJax.Hub && window.MathJax.Hub.Config) {window.MathJax.Hub.Config({SVG: {font: "STIX-Web"}});}</script>                <script type="text/javascript">window.PlotlyConfig = {MathJaxConfig: 'local'};</script>
        <script charset="utf-8" src="https://cdn.plot.ly/plotly-2.35.2.min.js"></script>                <div id="17d65a58-e89a-4515-ba2b-fa2885fec062" class="plotly-graph-div" style="height:525px; width:100%;"></div>            <script type="text/javascript">                                    window.PLOTLYENV=window.PLOTLYENV || {};                                    if (document.getElementById("17d65a58-e89a-4515-ba2b-fa2885fec062")) {                    Plotly.newPlot(                        "17d65a58-e89a-4515-ba2b-fa2885fec062",                        [{"marker":{"color":"#1f77b4"},"name":"2021","x":["Revenue","NetIncome","Assets","Liabilities","Equity"],"y":[297392000000.0,94680000000.0,351002000000.0,287912000000.0,63090000000.0],"type":"bar"},{"marker":{"color":"#2ca02c"},"name":"2022","x":["Revenue","NetIncome","Assets","Liabilities","Equity"],"y":[316199000000.0,99803000000.0,352755000000.0,302083000000.0,50672000000.0],"type":"bar"},{"marker":{"color":"#d62728"},"name":"2023","x":["Revenue","NetIncome","Assets","Liabilities","Equity"],"y":[298085000000.0,96995000000.0,352583000000.0,290437000000.0,62146000000.0],"type":"bar"}],                        {"template":{"data":{"barpolar":[{"marker":{"line":{"color":"white","width":0.5},"pattern":{"fillmode":"overlay","size":10,"solidity":0.2}},"type":"barpolar"}],"bar":[{"error_x":{"color":"#2a3f5f"},"error_y":{"color":"#2a3f5f"},"marker":{"line":{"color":"white","width":0.5},"pattern":{"fillmode":"overlay","size":10,"solidity":0.2}},"type":"bar"}],"carpet":[{"aaxis":{"endlinecolor":"#2a3f5f","gridcolor":"#C8D4E3","linecolor":"#C8D4E3","minorgridcolor":"#C8D4E3","startlinecolor":"#2a3f5f"},"baxis":{"endlinecolor":"#2a3f5f","gridcolor":"#C8D4E3","linecolor":"#C8D4E3","minorgridcolor":"#C8D4E3","startlinecolor":"#2a3f5f"},"type":"carpet"}],"choropleth":[{"colorbar":{"outlinewidth":0,"ticks":""},"type":"choropleth"}],"contourcarpet":[{"colorbar":{"outlinewidth":0,"ticks":""},"type":"contourcarpet"}],"contour":[{"colorbar":{"outlinewidth":0,"ticks":""},"colorscale":[[0.0,"#0d0887"],[0.1111111111111111,"#46039f"],[0.2222222222222222,"#7201a8"],[0.3333333333333333,"#9c179e"],[0.4444444444444444,"#bd3786"],[0.5555555555555556,"#d8576b"],[0.6666666666666666,"#ed7953"],[0.7777777777777778,"#fb9f3a"],[0.8888888888888888,"#fdca26"],[1.0,"#f0f921"]],"type":"contour"}],"heatmapgl":[{"colorbar":{"outlinewidth":0,"ticks":""},"colorscale":[[0.0,"#0d0887"],[0.1111111111111111,"#46039f"],[0.2222222222222222,"#7201a8"],[0.3333333333333333,"#9c179e"],[0.4444444444444444,"#bd3786"],[0.5555555555555556,"#d8576b"],[0.6666666666666666,"#ed7953"],[0.7777777777777778,"#fb9f3a"],[0.8888888888888888,"#fdca26"],[1.0,"#f0f921"]],"type":"heatmapgl"}],"heatmap":[{"colorbar":{"outlinewidth":0,"ticks":""},"colorscale":[[0.0,"#0d0887"],[0.1111111111111111,"#46039f"],[0.2222222222222222,"#7201a8"],[0.3333333333333333,"#9c179e"],[0.4444444444444444,"#bd3786"],[0.5555555555555556,"#d8576b"],[0.6666666666666666,"#ed7953"],[0.7777777777777778,"#fb9f3a"],[0.8888888888888888,"#fdca26"],[1.0,"#f0f921"]],"type":"heatmap"}],"histogram2dcontour":[{"colorbar":{"outlinewidth":0,"ticks":""},"colorscale":[[0.0,"#0d0887"],[0.1111111111111111,"#46039f"],[0.2222222222222222,"#7201a8"],[0.3333333333333333,"#9c179e"],[0.4444444444444444,"#bd3786"],[0.5555555555555556,"#d8576b"],[0.6666666666666666,"#ed7953"],[0.7777777777777778,"#fb9f3a"],[0.8888888888888888,"#fdca26"],[1.0,"#f0f921"]],"type":"histogram2dcontour"}],"histogram2d":[{"colorbar":{"outlinewidth":0,"ticks":""},"colorscale":[[0.0,"#0d0887"],[0.1111111111111111,"#46039f"],[0.2222222222222222,"#7201a8"],[0.3333333333333333,"#9c179e"],[0.4444444444444444,"#bd3786"],[0.5555555555555556,"#d8576b"],[0.6666666666666666,"#ed7953"],[0.7777777777777778,"#fb9f3a"],[0.8888888888888888,"#fdca26"],[1.0,"#f0f921"]],"type":"histogram2d"}],"histogram":[{"marker":{"pattern":{"fillmode":"overlay","size":10,"solidity":0.2}},"type":"histogram"}],"mesh3d":[{"colorbar":{"outlinewidth":0,"ticks":""},"type":"mesh3d"}],"parcoords":[{"line":{"colorbar":{"outlinewidth":0,"ticks":""}},"type":"parcoords"}],"pie":[{"automargin":true,"type":"pie"}],"scatter3d":[{"line":{"colorbar":{"outlinewidth":0,"ticks":""}},"marker":{"colorbar":{"outlinewidth":0,"ticks":""}},"type":"scatter3d"}],"scattercarpet":[{"marker":{"colorbar":{"outlinewidth":0,"ticks":""}},"type":"scattercarpet"}],"scattergeo":[{"marker":{"colorbar":{"outlinewidth":0,"ticks":""}},"type":"scattergeo"}],"scattergl":[{"marker":{"colorbar":{"outlinewidth":0,"ticks":""}},"type":"scattergl"}],"scattermapbox":[{"marker":{"colorbar":{"outlinewidth":0,"ticks":""}},"type":"scattermapbox"}],"scatterpolargl":[{"marker":{"colorbar":{"outlinewidth":0,"ticks":""}},"type":"scatterpolargl"}],"scatterpolar":[{"marker":{"colorbar":{"outlinewidth":0,"ticks":""}},"type":"scatterpolar"}],"scatter":[{"fillpattern":{"fillmode":"overlay","size":10,"solidity":0.2},"type":"scatter"}],"scatterternary":[{"marker":{"colorbar":{"outlinewidth":0,"ticks":""}},"type":"scatterternary"}],"surface":[{"colorbar":{"outlinewidth":0,"ticks":""},"colorscale":[[0.0,"#0d0887"],[0.1111111111111111,"#46039f"],[0.2222222222222222,"#7201a8"],[0.3333333333333333,"#9c179e"],[0.4444444444444444,"#bd3786"],[0.5555555555555556,"#d8576b"],[0.6666666666666666,"#ed7953"],[0.7777777777777778,"#fb9f3a"],[0.8888888888888888,"#fdca26"],[1.0,"#f0f921"]],"type":"surface"}],"table":[{"cells":{"fill":{"color":"#EBF0F8"},"line":{"color":"white"}},"header":{"fill":{"color":"#C8D4E3"},"line":{"color":"white"}},"type":"table"}]},"layout":{"annotationdefaults":{"arrowcolor":"#2a3f5f","arrowhead":0,"arrowwidth":1},"autotypenumbers":"strict","coloraxis":{"colorbar":{"outlinewidth":0,"ticks":""}},"colorscale":{"diverging":[[0,"#8e0152"],[0.1,"#c51b7d"],[0.2,"#de77ae"],[0.3,"#f1b6da"],[0.4,"#fde0ef"],[0.5,"#f7f7f7"],[0.6,"#e6f5d0"],[0.7,"#b8e186"],[0.8,"#7fbc41"],[0.9,"#4d9221"],[1,"#276419"]],"sequential":[[0.0,"#0d0887"],[0.1111111111111111,"#46039f"],[0.2222222222222222,"#7201a8"],[0.3333333333333333,"#9c179e"],[0.4444444444444444,"#bd3786"],[0.5555555555555556,"#d8576b"],[0.6666666666666666,"#ed7953"],[0.7777777777777778,"#fb9f3a"],[0.8888888888888888,"#fdca26"],[1.0,"#f0f921"]],"sequentialminus":[[0.0,"#0d0887"],[0.1111111111111111,"#46039f"],[0.2222222222222222,"#7201a8"],[0.3333333333333333,"#9c179e"],[0.4444444444444444,"#bd3786"],[0.5555555555555556,"#d8576b"],[0.6666666666666666,"#ed7953"],[0.7777777777777778,"#fb9f3a"],[0.8888888888888888,"#fdca26"],[1.0,"#f0f921"]]},"colorway":["#636efa","#EF553B","#00cc96","#ab63fa","#FFA15A","#19d3f3","#FF6692","#B6E880","#FF97FF","#FECB52"],"font":{"color":"#2a3f5f"},"geo":{"bgcolor":"white","lakecolor":"white","landcolor":"white","showlakes":true,"showland":true,"subunitcolor":"#C8D4E3"},"hoverlabel":{"align":"left"},"hovermode":"closest","mapbox":{"style":"light"},"paper_bgcolor":"white","plot_bgcolor":"white","polar":{"angularaxis":{"gridcolor":"#EBF0F8","linecolor":"#EBF0F8","ticks":""},"bgcolor":"white","radialaxis":{"gridcolor":"#EBF0F8","linecolor":"#EBF0F8","ticks":""}},"scene":{"xaxis":{"backgroundcolor":"white","gridcolor":"#DFE8F3","gridwidth":2,"linecolor":"#EBF0F8","showbackground":true,"ticks":"","zerolinecolor":"#EBF0F8"},"yaxis":{"backgroundcolor":"white","gridcolor":"#DFE8F3","gridwidth":2,"linecolor":"#EBF0F8","showbackground":true,"ticks":"","zerolinecolor":"#EBF0F8"},"zaxis":{"backgroundcolor":"white","gridcolor":"#DFE8F3","gridwidth":2,"linecolor":"#EBF0F8","showbackground":true,"ticks":"","zerolinecolor":"#EBF0F8"}},"shapedefaults":{"line":{"color":"#2a3f5f"}},"ternary":{"aaxis":{"gridcolor":"#DFE8F3","linecolor":"#A2B1C6","ticks":""},"baxis":{"gridcolor":"#DFE8F3","linecolor":"#A2B1C6","ticks":""},"bgcolor":"white","caxis":{"gridcolor":"#DFE8F3","linecolor":"#A2B1C6","ticks":""}},"title":{"x":0.05},"xaxis":{"automargin":true,"gridcolor":"#EBF0F8","linecolor":"#EBF0F8","ticks":"","title":{"standoff":15},"zerolinecolor":"#EBF0F8","zerolinewidth":2},"yaxis":{"automargin":true,"gridcolor":"#EBF0F8","linecolor":"#EBF0F8","ticks":"","title":{"standoff":15},"zerolinecolor":"#EBF0F8","zerolinewidth":2}}},"font":{"size":13},"title":{"text":"Apple Financial KPIs by Year"},"xaxis":{"title":{"text":"KPI"}},"yaxis":{"title":{"text":"Amount (USD Millions)"}},"barmode":"group","legend":{"title":{"text":"Fiscal Year"}}},                        {"responsive": true}                    ).then(function(){
                            
var gd = document.getElementById('17d65a58-e89a-4515-ba2b-fa2885fec062');
var x = new MutationObserver(function (mutations, observer) {{
        var display = window.getComputedStyle(gd).display;
        if (!display || display === 'none') {{
            console.log([gd, 'removed!']);
            Plotly.purge(gd);
            observer.disconnect();
        }}
}});

// Listen for the removal of the full notebook cells
var notebookContainer = gd.closest('#notebook-container');
if (notebookContainer) {{
    x.observe(notebookContainer, {childList: true});
}}

// Listen for the clearing of the current output cell
var outputEl = gd.closest('.output');
if (outputEl) {{
    x.observe(outputEl, {childList: true});
}}

                        })                };                            </script>        </div>
</body>
</html>
```

---
